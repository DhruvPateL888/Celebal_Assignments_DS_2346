# !pip install missingno

import numpy as np
import pandas as pd
import seaborn as sns
from matplotlib import pyplot as plt

import missingno as msno
from datetime import date
from sklearn.metrics import accuracy_score
from sklearn.model_selection import train_test_split
from sklearn.preprocessing import MinMaxScaler, LabelEncoder, StandardScaler, RobustScaler


# Load the Titanic dataset
# Reading the CSV file
file_path = 'titanic.csv'  # Replace with the actual path to your CSV file
data = pd.read_csv(file_path)

# Display the first few rows of the dataset to understand its structure
print(data.head())

# Handle missing values

# Fill missing Age values with the median age
# Age is an important factor in survival, so we fill missing values with the median age to preserve the distribution
data['Age'].fillna(data['Age'].median(), inplace=True)

# Fill missing Embarked values with the mode
# Embarked location can provide insights into socio-economic status, filling with mode (most common value) ensures minimal data loss
data['Embarked'].fillna(data['Embarked'].mode()[0], inplace=True)

# Drop the Cabin column due to many missing values
# Cabin information is largely missing, making imputation unreliable; we drop it to avoid introducing noise
data.drop(columns=['Cabin'], inplace=True)

#Outliers Marking
sns.boxplot(x=df["Age"])
plt.show()

def outlier_thresholds(dataframe, col_name, q1=0.25, q3=0.75):
    quartile1 = dataframe[col_name].quantile(q1)
    quartile3 = dataframe[col_name].quantile(q3)
    interquantile_range = quartile3 - quartile1
    up_limit = quartile3 + 1.5 * interquantile_range
    low_limit = quartile1 - 1.5 * interquantile_range
    return low_limit, up_limit

print(outlier_thresholds(df, "Age")) # (-6.6875, 64.8125)
#As you can see, if age is below -6.68 or higher 64.81, we can say that
#it is an outlier. But be careful, age cannot be lower than 0. So we don't
#need to care lower threshold since it is -6.68

low, up = outlier_thresholds(df, "Fare")
print(df[(df["Fare"] < low) | (df["Fare"] > up)].head())


#Write a function that check if there is any outliers.
def check_outlier(dataframe, col_name):
    low_limit, up_limit = outlier_thresholds(dataframe, col_name)
    if dataframe[(dataframe[col_name] > up_limit) | (dataframe[col_name] < low_limit)].any(axis=None):
        return True
    else:
        return False


def grab_col_names(dataframe, cat_th=10, car_th=20):
    cat_cols = [col for col in dataframe.columns if dataframe[col].dtypes == "O"]
    num_but_cat = [col for col in dataframe.columns if dataframe[col].nunique() < cat_th and dataframe[col].dtypes != "O"]
    cat_but_car = [col for col in dataframe.columns if dataframe[col].nunique() > car_th and dataframe[col].dtypes == "O"]
    cat_cols = cat_cols + num_but_cat
    cat_cols = [col for col in cat_cols if col not in cat_but_car]
    num_cols = [col for col in dataframe.columns if dataframe[col].dtypes != "O" and col not in num_but_cat]

    print(f"Observations: {dataframe.shape[0]}")
    print(f"Variables: {dataframe.shape[1]}")
    print(f"cat_cols: {len(cat_cols)}")
    print(f"num_cols: {len(num_cols)}")
    print(f"cat_but_car: {len(cat_but_car)}")
    print(f"num_but_cat: {len(num_but_cat)}")

    return cat_cols, num_cols, cat_but_car

cat_cols, num_cols, cat_but_car = grab_col_names(df)

num_cols = [col for col in num_cols if col not in "PassengerId"]
print(num_cols)  


#We will check outliers in numerical columns.
for col in num_cols:
    print(col, check_outlier(df, col))


def grab_outliers(dataframe, col_name, outlier_index=False, f = 5):
    low, up = outlier_thresholds(dataframe, col_name)

    if dataframe[((dataframe[col_name] < low) | (dataframe[col_name] > up))].shape[0] > 10:
        print(dataframe[((dataframe[col_name] < low) | (dataframe[col_name] > up))].head(f))
    else:
        print(dataframe[((dataframe[col_name] < low) | (dataframe[col_name] > up))])

    if outlier_index:
        out_index = dataframe[((dataframe[col_name] < low) | (dataframe[col_name] > up))].index
        return out_index

age_index = grab_outliers(df, "Age", True)
print(age_index)




###############################################
#Remove Outliers..
###############################################
low, up = outlier_thresholds(df, "Fare")
#Shape of data with outliers
print(df.shape) # (891, 12)


#There are 116 outliers for 'Fare' variable, therefore if we only remove Fare outliers,
#our new data will have (775,12) 
print(df[~((df["Fare"] < low) | (df["Fare"] > up))].shape) #(775,12) 




#We can write a function for this!!!
def remove_outlier(dataframe, col_name):
    low_limit, up_limit = outlier_thresholds(dataframe, col_name)
    df_without_outliers = dataframe[~((dataframe[col_name] < low_limit) | (dataframe[col_name] > up_limit))]
    return df_without_outliers




cat_cols, num_cols, cat_but_car = grab_col_names(df)

num_cols.remove('PassengerId')

for col in num_cols:
    df = remove_outlier(df,col)




#Now we removed 'Age' outliers and 'Fare' outliers. Age has 10 outliers and Fare has 116 outliers,
#therefore we removed 126 outliers. 
print(df.shape) # (765,12) 





###############################################
#Re-assignment with thresholds..
###############################################
##Now we will assign outliers with thresholds. We can write a function for this
def replace_with_thresholds(dataframe, variable):
    low_limit, up_limit = outlier_thresholds(dataframe, variable)
    dataframe.loc[(dataframe[variable] < low_limit), variable] = low_limit
    dataframe.loc[(dataframe[variable] > up_limit), variable] = up_limit



cat_cols, num_cols, cat_but_car = grab_col_names(df)

num_cols.remove('PassengerId')



#Let's see which column has outliers...
for col in num_cols:
    print(col, check_outlier(df, col))


#Now replace these outliers with thresholds.
for col in num_cols:
    replace_with_thresholds(df, col)



#After replacing, we shouldn't have any outlier. So let's check again.
for col in num_cols:
    print(col, check_outlier(df, col))




# Convert categorical features to numerical

# Map 'Sex' to numerical values
# Sex is a binary category and can directly influence survival chances, converting it to numerical values for model compatibility
 data['Sex'] = data['Sex'].map({'male': 0, 'female': 1})

# One-hot encode the Embarked column
# Embarked has multiple categories and one-hot encoding prevents any ordinal assumptions
data = pd.get_dummies(data, columns=['Embarked'], drop_first=True)

# Create FamilySize feature
# FamilySize (number of family members aboard) can influence survival; we create this feature by combining SibSp and Parch
data['FamilySize'] = data['SibSp'] + data['Parch'] + 1

# Extract titles from the Name column
# Titles can indicate social status, which affects survival; we extract and map them to numerical values
data['Title'] = data['Name'].str.extract(r' ([A-Za-z]+)\.', expand=False)
data['Title'] = data['Title'].replace(['Dr', 'Rev', 'Col', 'Major', 'Countess', 'Sir', 'Jonkheer', 'Lady', 'Capt', 'Don'], 'Others')
data['Title'] = data['Title'].replace(['Ms', 'Mlle'], 'Miss')
data['Title'] = data['Title'].replace('Mme', 'Mrs')
title_mapping = {'Master': 0, 'Miss': 1, 'Mr': 2, 'Mrs': 3, 'Others': 4}
data['Title'] = data['Title'].map(title_mapping)

# Drop the Name and Ticket columns as they are not useful for the model
# Name and Ticket columns contain mostly unique values that don't directly contribute to survival predictions
data.drop(columns=['Name', 'Ticket', 'PassengerId'], inplace=True)

# Create age bins and one-hot encode them
# Age groups can have different survival probabilities; binning and encoding helps capture this without assuming linearity
data['AgeBin'] = pd.cut(data['Age'], bins=[0, 12, 18, 35, 60, 100], labels=['Child', 'Teen', 'Adult', 'Middle-Aged', 'Senior'])
data = pd.get_dummies(data, columns=['AgeBin'], drop_first=True)

# Standardize numerical features
# Standardization ensures that features with larger scales do not dominate the model training
scaler = StandardScaler()
numerical_features = ['Age', 'Fare', 'FamilySize']
data[numerical_features] = scaler.fit_transform(data[numerical_features])

# Display the preprocessed data
print(data.head())

# Visualizations

# Visualization 1: Distribution of Age
plt.figure(figsize=(10, 6))
plt.hist(data['Age'], bins=30, edgecolor='black')
plt.title('Distribution of Age')
plt.xlabel('Age')
plt.ylabel('Frequency')
plt.grid(True)
plt.show()

# Insight: Most passengers are young adults, with a smaller number of children and seniors.

# Visualization 2: Survival rate by Sex
plt.figure(figsize=(10, 6))
sns.barplot(x='Sex', y='Survived', data=data)
plt.title('Survival Rate by Sex')
plt.xlabel('Sex (0 = Male, 1 = Female)')
plt.ylabel('Survival Rate')
plt.grid(True)
plt.show()

# Insight: Females had a higher survival rate than males, likely due to "women and children first" policy during evacuation.

# Visualization 3: Survival rate by Pclass
plt.figure(figsize=(10, 6))
sns.barplot(x='Pclass', y='Survived', data=data)
plt.title('Survival Rate by Pclass')
plt.xlabel('Pclass')
plt.ylabel('Survival Rate')
plt.grid(True)
plt.show()

# Insight: Passengers in higher classes (1st class) had a better chance of survival compared to those in lower classes.

# Visualization 4: FamilySize distribution
plt.figure(figsize=(10, 6))
plt.hist(data['FamilySize'], bins=20, edgecolor='black')
plt.title('Distribution of FamilySize')
plt.xlabel('FamilySize')
plt.ylabel('Frequency')
plt.grid(True)
plt.show()

# Insight: Most passengers traveled alone or with one family member, larger families were less common.

# Visualization 5: Survival rate by Title
plt.figure(figsize=(10, 6))
sns.barplot(x='Title', y='Survived', data=data)
plt.title('Survival Rate by Title')
plt.xlabel('Title')
plt.ylabel('Survival Rate')
plt.grid(True)
plt.show()

# Insight: Titles indicating higher social status (e.g., Mrs, Miss) had higher survival rates compared to titles like Mr and Others.
