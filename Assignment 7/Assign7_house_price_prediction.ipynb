{
  "cells": [
    {
      "cell_type": "markdown",
      "id": "5847b48b",
      "metadata": {
        "id": "5847b48b"
      },
      "source": [
        "#Username : CT_CSI_DS_2346\n",
        "#Name : Dhruv Patel"
      ]
    },
    {
      "cell_type": "markdown",
      "id": "4d299702",
      "metadata": {
        "id": "4d299702"
      },
      "source": [
        "# Importing Libraries"
      ]
    },
    {
      "cell_type": "code",
      "execution_count": 95,
      "id": "66d0edbe",
      "metadata": {
        "_cell_guid": "b1076dfc-b9ad-4769-8c92-a6c4dae69d19",
        "_uuid": "8f2839f25d086af736a60e9eeb907d3b93b6e0e5",
        "execution": {
          "iopub.execute_input": "2024-07-04T20:13:09.172084Z",
          "iopub.status.busy": "2024-07-04T20:13:09.171697Z",
          "iopub.status.idle": "2024-07-04T20:13:09.977741Z",
          "shell.execute_reply": "2024-07-04T20:13:09.976480Z"
        },
        "papermill": {
          "duration": 0.838266,
          "end_time": "2024-07-04T20:13:09.980305",
          "exception": false,
          "start_time": "2024-07-04T20:13:09.142039",
          "status": "completed"
        },
        "tags": [],
        "id": "66d0edbe"
      },
      "outputs": [],
      "source": [
        "import numpy as np\n",
        "import pandas as pd\n",
        "\n"
      ]
    },
    {
      "cell_type": "markdown",
      "id": "96d3c396",
      "metadata": {
        "papermill": {
          "duration": 0.025618,
          "end_time": "2024-07-04T20:13:10.032166",
          "exception": false,
          "start_time": "2024-07-04T20:13:10.006548",
          "status": "completed"
        },
        "tags": [],
        "id": "96d3c396"
      },
      "source": [
        "# Importing and understanding the dataset:"
      ]
    },
    {
      "cell_type": "code",
      "execution_count": 96,
      "id": "526fe8f8",
      "metadata": {
        "execution": {
          "iopub.execute_input": "2024-07-04T20:13:10.087221Z",
          "iopub.status.busy": "2024-07-04T20:13:10.086718Z",
          "iopub.status.idle": "2024-07-04T20:13:10.131734Z",
          "shell.execute_reply": "2024-07-04T20:13:10.130717Z"
        },
        "papermill": {
          "duration": 0.074848,
          "end_time": "2024-07-04T20:13:10.134266",
          "exception": false,
          "start_time": "2024-07-04T20:13:10.059418",
          "status": "completed"
        },
        "tags": [],
        "id": "526fe8f8"
      },
      "outputs": [],
      "source": [
        "tr=pd.read_csv(\"train.csv\")"
      ]
    },
    {
      "cell_type": "code",
      "execution_count": 97,
      "id": "4e9bd81d",
      "metadata": {
        "execution": {
          "iopub.execute_input": "2024-07-04T20:13:10.188188Z",
          "iopub.status.busy": "2024-07-04T20:13:10.187803Z",
          "iopub.status.idle": "2024-07-04T20:13:10.226159Z",
          "shell.execute_reply": "2024-07-04T20:13:10.225172Z"
        },
        "papermill": {
          "duration": 0.067653,
          "end_time": "2024-07-04T20:13:10.228508",
          "exception": false,
          "start_time": "2024-07-04T20:13:10.160855",
          "status": "completed"
        },
        "tags": [],
        "colab": {
          "base_uri": "https://localhost:8080/",
          "height": 255
        },
        "id": "4e9bd81d",
        "outputId": "8c07a77d-dc9c-4581-b741-10b3bab5cce8"
      },
      "outputs": [
        {
          "output_type": "execute_result",
          "data": {
            "text/plain": [
              "   Id  MSSubClass MSZoning  LotFrontage  LotArea Street Alley LotShape  \\\n",
              "0   1          60       RL         65.0     8450   Pave   NaN      Reg   \n",
              "1   2          20       RL         80.0     9600   Pave   NaN      Reg   \n",
              "2   3          60       RL         68.0    11250   Pave   NaN      IR1   \n",
              "3   4          70       RL         60.0     9550   Pave   NaN      IR1   \n",
              "4   5          60       RL         84.0    14260   Pave   NaN      IR1   \n",
              "\n",
              "  LandContour Utilities  ... PoolArea PoolQC Fence MiscFeature MiscVal MoSold  \\\n",
              "0         Lvl    AllPub  ...        0    NaN   NaN         NaN       0      2   \n",
              "1         Lvl    AllPub  ...        0    NaN   NaN         NaN       0      5   \n",
              "2         Lvl    AllPub  ...        0    NaN   NaN         NaN       0      9   \n",
              "3         Lvl    AllPub  ...        0    NaN   NaN         NaN       0      2   \n",
              "4         Lvl    AllPub  ...        0    NaN   NaN         NaN       0     12   \n",
              "\n",
              "  YrSold  SaleType  SaleCondition  SalePrice  \n",
              "0   2008        WD         Normal     208500  \n",
              "1   2007        WD         Normal     181500  \n",
              "2   2008        WD         Normal     223500  \n",
              "3   2006        WD        Abnorml     140000  \n",
              "4   2008        WD         Normal     250000  \n",
              "\n",
              "[5 rows x 81 columns]"
            ],
            "text/html": [
              "\n",
              "  <div id=\"df-d052ca91-3590-4413-bce8-c33b1e81c9c8\" class=\"colab-df-container\">\n",
              "    <div>\n",
              "<style scoped>\n",
              "    .dataframe tbody tr th:only-of-type {\n",
              "        vertical-align: middle;\n",
              "    }\n",
              "\n",
              "    .dataframe tbody tr th {\n",
              "        vertical-align: top;\n",
              "    }\n",
              "\n",
              "    .dataframe thead th {\n",
              "        text-align: right;\n",
              "    }\n",
              "</style>\n",
              "<table border=\"1\" class=\"dataframe\">\n",
              "  <thead>\n",
              "    <tr style=\"text-align: right;\">\n",
              "      <th></th>\n",
              "      <th>Id</th>\n",
              "      <th>MSSubClass</th>\n",
              "      <th>MSZoning</th>\n",
              "      <th>LotFrontage</th>\n",
              "      <th>LotArea</th>\n",
              "      <th>Street</th>\n",
              "      <th>Alley</th>\n",
              "      <th>LotShape</th>\n",
              "      <th>LandContour</th>\n",
              "      <th>Utilities</th>\n",
              "      <th>...</th>\n",
              "      <th>PoolArea</th>\n",
              "      <th>PoolQC</th>\n",
              "      <th>Fence</th>\n",
              "      <th>MiscFeature</th>\n",
              "      <th>MiscVal</th>\n",
              "      <th>MoSold</th>\n",
              "      <th>YrSold</th>\n",
              "      <th>SaleType</th>\n",
              "      <th>SaleCondition</th>\n",
              "      <th>SalePrice</th>\n",
              "    </tr>\n",
              "  </thead>\n",
              "  <tbody>\n",
              "    <tr>\n",
              "      <th>0</th>\n",
              "      <td>1</td>\n",
              "      <td>60</td>\n",
              "      <td>RL</td>\n",
              "      <td>65.0</td>\n",
              "      <td>8450</td>\n",
              "      <td>Pave</td>\n",
              "      <td>NaN</td>\n",
              "      <td>Reg</td>\n",
              "      <td>Lvl</td>\n",
              "      <td>AllPub</td>\n",
              "      <td>...</td>\n",
              "      <td>0</td>\n",
              "      <td>NaN</td>\n",
              "      <td>NaN</td>\n",
              "      <td>NaN</td>\n",
              "      <td>0</td>\n",
              "      <td>2</td>\n",
              "      <td>2008</td>\n",
              "      <td>WD</td>\n",
              "      <td>Normal</td>\n",
              "      <td>208500</td>\n",
              "    </tr>\n",
              "    <tr>\n",
              "      <th>1</th>\n",
              "      <td>2</td>\n",
              "      <td>20</td>\n",
              "      <td>RL</td>\n",
              "      <td>80.0</td>\n",
              "      <td>9600</td>\n",
              "      <td>Pave</td>\n",
              "      <td>NaN</td>\n",
              "      <td>Reg</td>\n",
              "      <td>Lvl</td>\n",
              "      <td>AllPub</td>\n",
              "      <td>...</td>\n",
              "      <td>0</td>\n",
              "      <td>NaN</td>\n",
              "      <td>NaN</td>\n",
              "      <td>NaN</td>\n",
              "      <td>0</td>\n",
              "      <td>5</td>\n",
              "      <td>2007</td>\n",
              "      <td>WD</td>\n",
              "      <td>Normal</td>\n",
              "      <td>181500</td>\n",
              "    </tr>\n",
              "    <tr>\n",
              "      <th>2</th>\n",
              "      <td>3</td>\n",
              "      <td>60</td>\n",
              "      <td>RL</td>\n",
              "      <td>68.0</td>\n",
              "      <td>11250</td>\n",
              "      <td>Pave</td>\n",
              "      <td>NaN</td>\n",
              "      <td>IR1</td>\n",
              "      <td>Lvl</td>\n",
              "      <td>AllPub</td>\n",
              "      <td>...</td>\n",
              "      <td>0</td>\n",
              "      <td>NaN</td>\n",
              "      <td>NaN</td>\n",
              "      <td>NaN</td>\n",
              "      <td>0</td>\n",
              "      <td>9</td>\n",
              "      <td>2008</td>\n",
              "      <td>WD</td>\n",
              "      <td>Normal</td>\n",
              "      <td>223500</td>\n",
              "    </tr>\n",
              "    <tr>\n",
              "      <th>3</th>\n",
              "      <td>4</td>\n",
              "      <td>70</td>\n",
              "      <td>RL</td>\n",
              "      <td>60.0</td>\n",
              "      <td>9550</td>\n",
              "      <td>Pave</td>\n",
              "      <td>NaN</td>\n",
              "      <td>IR1</td>\n",
              "      <td>Lvl</td>\n",
              "      <td>AllPub</td>\n",
              "      <td>...</td>\n",
              "      <td>0</td>\n",
              "      <td>NaN</td>\n",
              "      <td>NaN</td>\n",
              "      <td>NaN</td>\n",
              "      <td>0</td>\n",
              "      <td>2</td>\n",
              "      <td>2006</td>\n",
              "      <td>WD</td>\n",
              "      <td>Abnorml</td>\n",
              "      <td>140000</td>\n",
              "    </tr>\n",
              "    <tr>\n",
              "      <th>4</th>\n",
              "      <td>5</td>\n",
              "      <td>60</td>\n",
              "      <td>RL</td>\n",
              "      <td>84.0</td>\n",
              "      <td>14260</td>\n",
              "      <td>Pave</td>\n",
              "      <td>NaN</td>\n",
              "      <td>IR1</td>\n",
              "      <td>Lvl</td>\n",
              "      <td>AllPub</td>\n",
              "      <td>...</td>\n",
              "      <td>0</td>\n",
              "      <td>NaN</td>\n",
              "      <td>NaN</td>\n",
              "      <td>NaN</td>\n",
              "      <td>0</td>\n",
              "      <td>12</td>\n",
              "      <td>2008</td>\n",
              "      <td>WD</td>\n",
              "      <td>Normal</td>\n",
              "      <td>250000</td>\n",
              "    </tr>\n",
              "  </tbody>\n",
              "</table>\n",
              "<p>5 rows × 81 columns</p>\n",
              "</div>\n",
              "    <div class=\"colab-df-buttons\">\n",
              "\n",
              "  <div class=\"colab-df-container\">\n",
              "    <button class=\"colab-df-convert\" onclick=\"convertToInteractive('df-d052ca91-3590-4413-bce8-c33b1e81c9c8')\"\n",
              "            title=\"Convert this dataframe to an interactive table.\"\n",
              "            style=\"display:none;\">\n",
              "\n",
              "  <svg xmlns=\"http://www.w3.org/2000/svg\" height=\"24px\" viewBox=\"0 -960 960 960\">\n",
              "    <path d=\"M120-120v-720h720v720H120Zm60-500h600v-160H180v160Zm220 220h160v-160H400v160Zm0 220h160v-160H400v160ZM180-400h160v-160H180v160Zm440 0h160v-160H620v160ZM180-180h160v-160H180v160Zm440 0h160v-160H620v160Z\"/>\n",
              "  </svg>\n",
              "    </button>\n",
              "\n",
              "  <style>\n",
              "    .colab-df-container {\n",
              "      display:flex;\n",
              "      gap: 12px;\n",
              "    }\n",
              "\n",
              "    .colab-df-convert {\n",
              "      background-color: #E8F0FE;\n",
              "      border: none;\n",
              "      border-radius: 50%;\n",
              "      cursor: pointer;\n",
              "      display: none;\n",
              "      fill: #1967D2;\n",
              "      height: 32px;\n",
              "      padding: 0 0 0 0;\n",
              "      width: 32px;\n",
              "    }\n",
              "\n",
              "    .colab-df-convert:hover {\n",
              "      background-color: #E2EBFA;\n",
              "      box-shadow: 0px 1px 2px rgba(60, 64, 67, 0.3), 0px 1px 3px 1px rgba(60, 64, 67, 0.15);\n",
              "      fill: #174EA6;\n",
              "    }\n",
              "\n",
              "    .colab-df-buttons div {\n",
              "      margin-bottom: 4px;\n",
              "    }\n",
              "\n",
              "    [theme=dark] .colab-df-convert {\n",
              "      background-color: #3B4455;\n",
              "      fill: #D2E3FC;\n",
              "    }\n",
              "\n",
              "    [theme=dark] .colab-df-convert:hover {\n",
              "      background-color: #434B5C;\n",
              "      box-shadow: 0px 1px 3px 1px rgba(0, 0, 0, 0.15);\n",
              "      filter: drop-shadow(0px 1px 2px rgba(0, 0, 0, 0.3));\n",
              "      fill: #FFFFFF;\n",
              "    }\n",
              "  </style>\n",
              "\n",
              "    <script>\n",
              "      const buttonEl =\n",
              "        document.querySelector('#df-d052ca91-3590-4413-bce8-c33b1e81c9c8 button.colab-df-convert');\n",
              "      buttonEl.style.display =\n",
              "        google.colab.kernel.accessAllowed ? 'block' : 'none';\n",
              "\n",
              "      async function convertToInteractive(key) {\n",
              "        const element = document.querySelector('#df-d052ca91-3590-4413-bce8-c33b1e81c9c8');\n",
              "        const dataTable =\n",
              "          await google.colab.kernel.invokeFunction('convertToInteractive',\n",
              "                                                    [key], {});\n",
              "        if (!dataTable) return;\n",
              "\n",
              "        const docLinkHtml = 'Like what you see? Visit the ' +\n",
              "          '<a target=\"_blank\" href=https://colab.research.google.com/notebooks/data_table.ipynb>data table notebook</a>'\n",
              "          + ' to learn more about interactive tables.';\n",
              "        element.innerHTML = '';\n",
              "        dataTable['output_type'] = 'display_data';\n",
              "        await google.colab.output.renderOutput(dataTable, element);\n",
              "        const docLink = document.createElement('div');\n",
              "        docLink.innerHTML = docLinkHtml;\n",
              "        element.appendChild(docLink);\n",
              "      }\n",
              "    </script>\n",
              "  </div>\n",
              "\n",
              "\n",
              "<div id=\"df-977cfe9d-1e98-46a8-9707-869af7ea516a\">\n",
              "  <button class=\"colab-df-quickchart\" onclick=\"quickchart('df-977cfe9d-1e98-46a8-9707-869af7ea516a')\"\n",
              "            title=\"Suggest charts\"\n",
              "            style=\"display:none;\">\n",
              "\n",
              "<svg xmlns=\"http://www.w3.org/2000/svg\" height=\"24px\"viewBox=\"0 0 24 24\"\n",
              "     width=\"24px\">\n",
              "    <g>\n",
              "        <path d=\"M19 3H5c-1.1 0-2 .9-2 2v14c0 1.1.9 2 2 2h14c1.1 0 2-.9 2-2V5c0-1.1-.9-2-2-2zM9 17H7v-7h2v7zm4 0h-2V7h2v10zm4 0h-2v-4h2v4z\"/>\n",
              "    </g>\n",
              "</svg>\n",
              "  </button>\n",
              "\n",
              "<style>\n",
              "  .colab-df-quickchart {\n",
              "      --bg-color: #E8F0FE;\n",
              "      --fill-color: #1967D2;\n",
              "      --hover-bg-color: #E2EBFA;\n",
              "      --hover-fill-color: #174EA6;\n",
              "      --disabled-fill-color: #AAA;\n",
              "      --disabled-bg-color: #DDD;\n",
              "  }\n",
              "\n",
              "  [theme=dark] .colab-df-quickchart {\n",
              "      --bg-color: #3B4455;\n",
              "      --fill-color: #D2E3FC;\n",
              "      --hover-bg-color: #434B5C;\n",
              "      --hover-fill-color: #FFFFFF;\n",
              "      --disabled-bg-color: #3B4455;\n",
              "      --disabled-fill-color: #666;\n",
              "  }\n",
              "\n",
              "  .colab-df-quickchart {\n",
              "    background-color: var(--bg-color);\n",
              "    border: none;\n",
              "    border-radius: 50%;\n",
              "    cursor: pointer;\n",
              "    display: none;\n",
              "    fill: var(--fill-color);\n",
              "    height: 32px;\n",
              "    padding: 0;\n",
              "    width: 32px;\n",
              "  }\n",
              "\n",
              "  .colab-df-quickchart:hover {\n",
              "    background-color: var(--hover-bg-color);\n",
              "    box-shadow: 0 1px 2px rgba(60, 64, 67, 0.3), 0 1px 3px 1px rgba(60, 64, 67, 0.15);\n",
              "    fill: var(--button-hover-fill-color);\n",
              "  }\n",
              "\n",
              "  .colab-df-quickchart-complete:disabled,\n",
              "  .colab-df-quickchart-complete:disabled:hover {\n",
              "    background-color: var(--disabled-bg-color);\n",
              "    fill: var(--disabled-fill-color);\n",
              "    box-shadow: none;\n",
              "  }\n",
              "\n",
              "  .colab-df-spinner {\n",
              "    border: 2px solid var(--fill-color);\n",
              "    border-color: transparent;\n",
              "    border-bottom-color: var(--fill-color);\n",
              "    animation:\n",
              "      spin 1s steps(1) infinite;\n",
              "  }\n",
              "\n",
              "  @keyframes spin {\n",
              "    0% {\n",
              "      border-color: transparent;\n",
              "      border-bottom-color: var(--fill-color);\n",
              "      border-left-color: var(--fill-color);\n",
              "    }\n",
              "    20% {\n",
              "      border-color: transparent;\n",
              "      border-left-color: var(--fill-color);\n",
              "      border-top-color: var(--fill-color);\n",
              "    }\n",
              "    30% {\n",
              "      border-color: transparent;\n",
              "      border-left-color: var(--fill-color);\n",
              "      border-top-color: var(--fill-color);\n",
              "      border-right-color: var(--fill-color);\n",
              "    }\n",
              "    40% {\n",
              "      border-color: transparent;\n",
              "      border-right-color: var(--fill-color);\n",
              "      border-top-color: var(--fill-color);\n",
              "    }\n",
              "    60% {\n",
              "      border-color: transparent;\n",
              "      border-right-color: var(--fill-color);\n",
              "    }\n",
              "    80% {\n",
              "      border-color: transparent;\n",
              "      border-right-color: var(--fill-color);\n",
              "      border-bottom-color: var(--fill-color);\n",
              "    }\n",
              "    90% {\n",
              "      border-color: transparent;\n",
              "      border-bottom-color: var(--fill-color);\n",
              "    }\n",
              "  }\n",
              "</style>\n",
              "\n",
              "  <script>\n",
              "    async function quickchart(key) {\n",
              "      const quickchartButtonEl =\n",
              "        document.querySelector('#' + key + ' button');\n",
              "      quickchartButtonEl.disabled = true;  // To prevent multiple clicks.\n",
              "      quickchartButtonEl.classList.add('colab-df-spinner');\n",
              "      try {\n",
              "        const charts = await google.colab.kernel.invokeFunction(\n",
              "            'suggestCharts', [key], {});\n",
              "      } catch (error) {\n",
              "        console.error('Error during call to suggestCharts:', error);\n",
              "      }\n",
              "      quickchartButtonEl.classList.remove('colab-df-spinner');\n",
              "      quickchartButtonEl.classList.add('colab-df-quickchart-complete');\n",
              "    }\n",
              "    (() => {\n",
              "      let quickchartButtonEl =\n",
              "        document.querySelector('#df-977cfe9d-1e98-46a8-9707-869af7ea516a button');\n",
              "      quickchartButtonEl.style.display =\n",
              "        google.colab.kernel.accessAllowed ? 'block' : 'none';\n",
              "    })();\n",
              "  </script>\n",
              "</div>\n",
              "\n",
              "    </div>\n",
              "  </div>\n"
            ],
            "application/vnd.google.colaboratory.intrinsic+json": {
              "type": "dataframe",
              "variable_name": "tr"
            }
          },
          "metadata": {},
          "execution_count": 97
        }
      ],
      "source": [
        "tr.head()"
      ]
    },
    {
      "cell_type": "code",
      "execution_count": 98,
      "id": "dc707479",
      "metadata": {
        "execution": {
          "iopub.execute_input": "2024-07-04T20:13:10.284909Z",
          "iopub.status.busy": "2024-07-04T20:13:10.284504Z",
          "iopub.status.idle": "2024-07-04T20:13:10.291631Z",
          "shell.execute_reply": "2024-07-04T20:13:10.290648Z"
        },
        "papermill": {
          "duration": 0.038868,
          "end_time": "2024-07-04T20:13:10.293723",
          "exception": false,
          "start_time": "2024-07-04T20:13:10.254855",
          "status": "completed"
        },
        "tags": [],
        "colab": {
          "base_uri": "https://localhost:8080/"
        },
        "id": "dc707479",
        "outputId": "337c5707-a8a5-4c23-a1b7-d77c2c45544d"
      },
      "outputs": [
        {
          "output_type": "execute_result",
          "data": {
            "text/plain": [
              "Index(['Id', 'MSSubClass', 'MSZoning', 'LotFrontage', 'LotArea', 'Street',\n",
              "       'Alley', 'LotShape', 'LandContour', 'Utilities', 'LotConfig',\n",
              "       'LandSlope', 'Neighborhood', 'Condition1', 'Condition2', 'BldgType',\n",
              "       'HouseStyle', 'OverallQual', 'OverallCond', 'YearBuilt', 'YearRemodAdd',\n",
              "       'RoofStyle', 'RoofMatl', 'Exterior1st', 'Exterior2nd', 'MasVnrType',\n",
              "       'MasVnrArea', 'ExterQual', 'ExterCond', 'Foundation', 'BsmtQual',\n",
              "       'BsmtCond', 'BsmtExposure', 'BsmtFinType1', 'BsmtFinSF1',\n",
              "       'BsmtFinType2', 'BsmtFinSF2', 'BsmtUnfSF', 'TotalBsmtSF', 'Heating',\n",
              "       'HeatingQC', 'CentralAir', 'Electrical', '1stFlrSF', '2ndFlrSF',\n",
              "       'LowQualFinSF', 'GrLivArea', 'BsmtFullBath', 'BsmtHalfBath', 'FullBath',\n",
              "       'HalfBath', 'BedroomAbvGr', 'KitchenAbvGr', 'KitchenQual',\n",
              "       'TotRmsAbvGrd', 'Functional', 'Fireplaces', 'FireplaceQu', 'GarageType',\n",
              "       'GarageYrBlt', 'GarageFinish', 'GarageCars', 'GarageArea', 'GarageQual',\n",
              "       'GarageCond', 'PavedDrive', 'WoodDeckSF', 'OpenPorchSF',\n",
              "       'EnclosedPorch', '3SsnPorch', 'ScreenPorch', 'PoolArea', 'PoolQC',\n",
              "       'Fence', 'MiscFeature', 'MiscVal', 'MoSold', 'YrSold', 'SaleType',\n",
              "       'SaleCondition', 'SalePrice'],\n",
              "      dtype='object')"
            ]
          },
          "metadata": {},
          "execution_count": 98
        }
      ],
      "source": [
        "tr.columns"
      ]
    },
    {
      "cell_type": "code",
      "execution_count": 99,
      "id": "70fce7a6",
      "metadata": {
        "execution": {
          "iopub.execute_input": "2024-07-04T20:13:10.350079Z",
          "iopub.status.busy": "2024-07-04T20:13:10.349695Z",
          "iopub.status.idle": "2024-07-04T20:13:10.355957Z",
          "shell.execute_reply": "2024-07-04T20:13:10.355037Z"
        },
        "papermill": {
          "duration": 0.036297,
          "end_time": "2024-07-04T20:13:10.358022",
          "exception": false,
          "start_time": "2024-07-04T20:13:10.321725",
          "status": "completed"
        },
        "tags": [],
        "colab": {
          "base_uri": "https://localhost:8080/"
        },
        "id": "70fce7a6",
        "outputId": "b1b89d9f-939e-4b84-e8de-297f64061469"
      },
      "outputs": [
        {
          "output_type": "execute_result",
          "data": {
            "text/plain": [
              "(1460, 81)"
            ]
          },
          "metadata": {},
          "execution_count": 99
        }
      ],
      "source": [
        "tr.shape"
      ]
    },
    {
      "cell_type": "code",
      "execution_count": 100,
      "id": "f8d3d650",
      "metadata": {
        "execution": {
          "iopub.execute_input": "2024-07-04T20:13:10.468853Z",
          "iopub.status.busy": "2024-07-04T20:13:10.468476Z",
          "iopub.status.idle": "2024-07-04T20:13:10.480259Z",
          "shell.execute_reply": "2024-07-04T20:13:10.479183Z"
        },
        "papermill": {
          "duration": 0.097733,
          "end_time": "2024-07-04T20:13:10.482585",
          "exception": false,
          "start_time": "2024-07-04T20:13:10.384852",
          "status": "completed"
        },
        "tags": [],
        "colab": {
          "base_uri": "https://localhost:8080/"
        },
        "id": "f8d3d650",
        "outputId": "d3bc0898-9846-4c3e-dc4d-0fbaa721175a"
      },
      "outputs": [
        {
          "output_type": "execute_result",
          "data": {
            "text/plain": [
              "Id                 0\n",
              "MSSubClass         0\n",
              "MSZoning           0\n",
              "LotFrontage      259\n",
              "LotArea            0\n",
              "                ... \n",
              "MoSold             0\n",
              "YrSold             0\n",
              "SaleType           0\n",
              "SaleCondition      0\n",
              "SalePrice          0\n",
              "Length: 81, dtype: int64"
            ]
          },
          "metadata": {},
          "execution_count": 100
        }
      ],
      "source": [
        "tr.isnull().sum()"
      ]
    },
    {
      "cell_type": "code",
      "execution_count": 101,
      "id": "a3856f9e",
      "metadata": {
        "execution": {
          "iopub.execute_input": "2024-07-04T20:13:10.540043Z",
          "iopub.status.busy": "2024-07-04T20:13:10.539132Z",
          "iopub.status.idle": "2024-07-04T20:13:10.565086Z",
          "shell.execute_reply": "2024-07-04T20:13:10.563998Z"
        },
        "papermill": {
          "duration": 0.057417,
          "end_time": "2024-07-04T20:13:10.567692",
          "exception": false,
          "start_time": "2024-07-04T20:13:10.510275",
          "status": "completed"
        },
        "tags": [],
        "colab": {
          "base_uri": "https://localhost:8080/"
        },
        "id": "a3856f9e",
        "outputId": "876dbf44-5fd8-4899-e699-07703b6a97d0"
      },
      "outputs": [
        {
          "output_type": "stream",
          "name": "stdout",
          "text": [
            "<class 'pandas.core.frame.DataFrame'>\n",
            "RangeIndex: 1460 entries, 0 to 1459\n",
            "Data columns (total 81 columns):\n",
            " #   Column         Non-Null Count  Dtype  \n",
            "---  ------         --------------  -----  \n",
            " 0   Id             1460 non-null   int64  \n",
            " 1   MSSubClass     1460 non-null   int64  \n",
            " 2   MSZoning       1460 non-null   object \n",
            " 3   LotFrontage    1201 non-null   float64\n",
            " 4   LotArea        1460 non-null   int64  \n",
            " 5   Street         1460 non-null   object \n",
            " 6   Alley          91 non-null     object \n",
            " 7   LotShape       1460 non-null   object \n",
            " 8   LandContour    1460 non-null   object \n",
            " 9   Utilities      1460 non-null   object \n",
            " 10  LotConfig      1460 non-null   object \n",
            " 11  LandSlope      1460 non-null   object \n",
            " 12  Neighborhood   1460 non-null   object \n",
            " 13  Condition1     1460 non-null   object \n",
            " 14  Condition2     1460 non-null   object \n",
            " 15  BldgType       1460 non-null   object \n",
            " 16  HouseStyle     1460 non-null   object \n",
            " 17  OverallQual    1460 non-null   int64  \n",
            " 18  OverallCond    1460 non-null   int64  \n",
            " 19  YearBuilt      1460 non-null   int64  \n",
            " 20  YearRemodAdd   1460 non-null   int64  \n",
            " 21  RoofStyle      1460 non-null   object \n",
            " 22  RoofMatl       1460 non-null   object \n",
            " 23  Exterior1st    1460 non-null   object \n",
            " 24  Exterior2nd    1460 non-null   object \n",
            " 25  MasVnrType     588 non-null    object \n",
            " 26  MasVnrArea     1452 non-null   float64\n",
            " 27  ExterQual      1460 non-null   object \n",
            " 28  ExterCond      1460 non-null   object \n",
            " 29  Foundation     1460 non-null   object \n",
            " 30  BsmtQual       1423 non-null   object \n",
            " 31  BsmtCond       1423 non-null   object \n",
            " 32  BsmtExposure   1422 non-null   object \n",
            " 33  BsmtFinType1   1423 non-null   object \n",
            " 34  BsmtFinSF1     1460 non-null   int64  \n",
            " 35  BsmtFinType2   1422 non-null   object \n",
            " 36  BsmtFinSF2     1460 non-null   int64  \n",
            " 37  BsmtUnfSF      1460 non-null   int64  \n",
            " 38  TotalBsmtSF    1460 non-null   int64  \n",
            " 39  Heating        1460 non-null   object \n",
            " 40  HeatingQC      1460 non-null   object \n",
            " 41  CentralAir     1460 non-null   object \n",
            " 42  Electrical     1459 non-null   object \n",
            " 43  1stFlrSF       1460 non-null   int64  \n",
            " 44  2ndFlrSF       1460 non-null   int64  \n",
            " 45  LowQualFinSF   1460 non-null   int64  \n",
            " 46  GrLivArea      1460 non-null   int64  \n",
            " 47  BsmtFullBath   1460 non-null   int64  \n",
            " 48  BsmtHalfBath   1460 non-null   int64  \n",
            " 49  FullBath       1460 non-null   int64  \n",
            " 50  HalfBath       1460 non-null   int64  \n",
            " 51  BedroomAbvGr   1460 non-null   int64  \n",
            " 52  KitchenAbvGr   1460 non-null   int64  \n",
            " 53  KitchenQual    1460 non-null   object \n",
            " 54  TotRmsAbvGrd   1460 non-null   int64  \n",
            " 55  Functional     1460 non-null   object \n",
            " 56  Fireplaces     1460 non-null   int64  \n",
            " 57  FireplaceQu    770 non-null    object \n",
            " 58  GarageType     1379 non-null   object \n",
            " 59  GarageYrBlt    1379 non-null   float64\n",
            " 60  GarageFinish   1379 non-null   object \n",
            " 61  GarageCars     1460 non-null   int64  \n",
            " 62  GarageArea     1460 non-null   int64  \n",
            " 63  GarageQual     1379 non-null   object \n",
            " 64  GarageCond     1379 non-null   object \n",
            " 65  PavedDrive     1460 non-null   object \n",
            " 66  WoodDeckSF     1460 non-null   int64  \n",
            " 67  OpenPorchSF    1460 non-null   int64  \n",
            " 68  EnclosedPorch  1460 non-null   int64  \n",
            " 69  3SsnPorch      1460 non-null   int64  \n",
            " 70  ScreenPorch    1460 non-null   int64  \n",
            " 71  PoolArea       1460 non-null   int64  \n",
            " 72  PoolQC         7 non-null      object \n",
            " 73  Fence          281 non-null    object \n",
            " 74  MiscFeature    54 non-null     object \n",
            " 75  MiscVal        1460 non-null   int64  \n",
            " 76  MoSold         1460 non-null   int64  \n",
            " 77  YrSold         1460 non-null   int64  \n",
            " 78  SaleType       1460 non-null   object \n",
            " 79  SaleCondition  1460 non-null   object \n",
            " 80  SalePrice      1460 non-null   int64  \n",
            "dtypes: float64(3), int64(35), object(43)\n",
            "memory usage: 924.0+ KB\n"
          ]
        }
      ],
      "source": [
        "tr.info()"
      ]
    },
    {
      "cell_type": "markdown",
      "id": "aa42df28",
      "metadata": {
        "papermill": {
          "duration": 0.027603,
          "end_time": "2024-07-04T20:13:10.623513",
          "exception": false,
          "start_time": "2024-07-04T20:13:10.595910",
          "status": "completed"
        },
        "tags": [],
        "id": "aa42df28"
      },
      "source": [
        "**We could see columns \"Alley, MasVnrType, PoolQC, Fence, MiscFeature\" having very few non null values. So we need to remove these columns. FireplaceQu column has 770 non null valuees out of 1460 rows.**"
      ]
    },
    {
      "cell_type": "code",
      "execution_count": 102,
      "id": "9c02f54b",
      "metadata": {
        "execution": {
          "iopub.execute_input": "2024-07-04T20:13:10.679515Z",
          "iopub.status.busy": "2024-07-04T20:13:10.679120Z",
          "iopub.status.idle": "2024-07-04T20:13:10.685841Z",
          "shell.execute_reply": "2024-07-04T20:13:10.684926Z"
        },
        "papermill": {
          "duration": 0.037096,
          "end_time": "2024-07-04T20:13:10.687921",
          "exception": false,
          "start_time": "2024-07-04T20:13:10.650825",
          "status": "completed"
        },
        "tags": [],
        "id": "9c02f54b"
      },
      "outputs": [],
      "source": [
        "tr1=tr.drop(columns=[\"Alley\", \"MasVnrType\", \"PoolQC\", \"Fence\",\"Id\",\"MiscFeature\"])"
      ]
    },
    {
      "cell_type": "code",
      "execution_count": 103,
      "id": "ba0b6a43",
      "metadata": {
        "execution": {
          "iopub.execute_input": "2024-07-04T20:13:10.743509Z",
          "iopub.status.busy": "2024-07-04T20:13:10.743118Z",
          "iopub.status.idle": "2024-07-04T20:13:10.751636Z",
          "shell.execute_reply": "2024-07-04T20:13:10.750676Z"
        },
        "papermill": {
          "duration": 0.038853,
          "end_time": "2024-07-04T20:13:10.753830",
          "exception": false,
          "start_time": "2024-07-04T20:13:10.714977",
          "status": "completed"
        },
        "tags": [],
        "colab": {
          "base_uri": "https://localhost:8080/"
        },
        "id": "ba0b6a43",
        "outputId": "11a654f1-2eac-4056-f928-a510ff22b265"
      },
      "outputs": [
        {
          "output_type": "execute_result",
          "data": {
            "text/plain": [
              "FireplaceQu\n",
              "Gd    380\n",
              "TA    313\n",
              "Fa     33\n",
              "Ex     24\n",
              "Po     20\n",
              "Name: count, dtype: int64"
            ]
          },
          "metadata": {},
          "execution_count": 103
        }
      ],
      "source": [
        "tr1[\"FireplaceQu\"].value_counts()"
      ]
    },
    {
      "cell_type": "markdown",
      "id": "990b0ab6",
      "metadata": {
        "papermill": {
          "duration": 0.026864,
          "end_time": "2024-07-04T20:13:10.807863",
          "exception": false,
          "start_time": "2024-07-04T20:13:10.780999",
          "status": "completed"
        },
        "tags": [],
        "id": "990b0ab6"
      },
      "source": [
        "**We have 690 null values in \"FireplceQu\" column, we can't replace all of them with mode, so we are removing this column.**"
      ]
    },
    {
      "cell_type": "code",
      "execution_count": 104,
      "id": "282fa239",
      "metadata": {
        "execution": {
          "iopub.execute_input": "2024-07-04T20:13:10.864056Z",
          "iopub.status.busy": "2024-07-04T20:13:10.863215Z",
          "iopub.status.idle": "2024-07-04T20:13:10.871506Z",
          "shell.execute_reply": "2024-07-04T20:13:10.870511Z"
        },
        "papermill": {
          "duration": 0.038646,
          "end_time": "2024-07-04T20:13:10.873547",
          "exception": false,
          "start_time": "2024-07-04T20:13:10.834901",
          "status": "completed"
        },
        "tags": [],
        "colab": {
          "base_uri": "https://localhost:8080/"
        },
        "id": "282fa239",
        "outputId": "b2999d74-10c5-41d3-9d27-2b47e90ef268"
      },
      "outputs": [
        {
          "output_type": "execute_result",
          "data": {
            "text/plain": [
              "(1460, 73)"
            ]
          },
          "metadata": {},
          "execution_count": 104
        }
      ],
      "source": [
        "# Let us also drop some other unnecessary columns which does not have much effect on output\n",
        "# MoSold, does not have much effect\n",
        "tr2= tr1.drop(columns=[\"FireplaceQu\",\"MoSold\"])\n",
        "tr2.shape"
      ]
    },
    {
      "cell_type": "code",
      "execution_count": 105,
      "id": "788e6c59",
      "metadata": {
        "execution": {
          "iopub.execute_input": "2024-07-04T20:13:10.929859Z",
          "iopub.status.busy": "2024-07-04T20:13:10.929114Z",
          "iopub.status.idle": "2024-07-04T20:13:10.941356Z",
          "shell.execute_reply": "2024-07-04T20:13:10.940412Z"
        },
        "papermill": {
          "duration": 0.042794,
          "end_time": "2024-07-04T20:13:10.943543",
          "exception": false,
          "start_time": "2024-07-04T20:13:10.900749",
          "status": "completed"
        },
        "tags": [],
        "colab": {
          "base_uri": "https://localhost:8080/"
        },
        "id": "788e6c59",
        "outputId": "e14534ea-aa2b-4c38-f97c-9f24d225a36f"
      },
      "outputs": [
        {
          "output_type": "execute_result",
          "data": {
            "text/plain": [
              "(1460, 73)"
            ]
          },
          "metadata": {},
          "execution_count": 105
        }
      ],
      "source": [
        "tr2.dropna(thresh=2)\n",
        "tr2.shape"
      ]
    },
    {
      "cell_type": "code",
      "execution_count": 106,
      "id": "fb9a86dd",
      "metadata": {
        "execution": {
          "iopub.execute_input": "2024-07-04T20:13:11.001035Z",
          "iopub.status.busy": "2024-07-04T20:13:11.000292Z",
          "iopub.status.idle": "2024-07-04T20:13:11.016782Z",
          "shell.execute_reply": "2024-07-04T20:13:11.015804Z"
        },
        "papermill": {
          "duration": 0.048203,
          "end_time": "2024-07-04T20:13:11.019264",
          "exception": false,
          "start_time": "2024-07-04T20:13:10.971061",
          "status": "completed"
        },
        "tags": [],
        "colab": {
          "base_uri": "https://localhost:8080/"
        },
        "id": "fb9a86dd",
        "outputId": "e37d2ea0-4bd6-4ef0-e51a-3c33f7999aaa"
      },
      "outputs": [
        {
          "output_type": "stream",
          "name": "stdout",
          "text": [
            "<class 'pandas.core.frame.DataFrame'>\n",
            "RangeIndex: 1460 entries, 0 to 1459\n",
            "Data columns (total 73 columns):\n",
            " #   Column         Non-Null Count  Dtype  \n",
            "---  ------         --------------  -----  \n",
            " 0   MSSubClass     1460 non-null   int64  \n",
            " 1   MSZoning       1460 non-null   object \n",
            " 2   LotFrontage    1201 non-null   float64\n",
            " 3   LotArea        1460 non-null   int64  \n",
            " 4   Street         1460 non-null   object \n",
            " 5   LotShape       1460 non-null   object \n",
            " 6   LandContour    1460 non-null   object \n",
            " 7   Utilities      1460 non-null   object \n",
            " 8   LotConfig      1460 non-null   object \n",
            " 9   LandSlope      1460 non-null   object \n",
            " 10  Neighborhood   1460 non-null   object \n",
            " 11  Condition1     1460 non-null   object \n",
            " 12  Condition2     1460 non-null   object \n",
            " 13  BldgType       1460 non-null   object \n",
            " 14  HouseStyle     1460 non-null   object \n",
            " 15  OverallQual    1460 non-null   int64  \n",
            " 16  OverallCond    1460 non-null   int64  \n",
            " 17  YearBuilt      1460 non-null   int64  \n",
            " 18  YearRemodAdd   1460 non-null   int64  \n",
            " 19  RoofStyle      1460 non-null   object \n",
            " 20  RoofMatl       1460 non-null   object \n",
            " 21  Exterior1st    1460 non-null   object \n",
            " 22  Exterior2nd    1460 non-null   object \n",
            " 23  MasVnrArea     1452 non-null   float64\n",
            " 24  ExterQual      1460 non-null   object \n",
            " 25  ExterCond      1460 non-null   object \n",
            " 26  Foundation     1460 non-null   object \n",
            " 27  BsmtQual       1423 non-null   object \n",
            " 28  BsmtCond       1423 non-null   object \n",
            " 29  BsmtExposure   1422 non-null   object \n",
            " 30  BsmtFinType1   1423 non-null   object \n",
            " 31  BsmtFinSF1     1460 non-null   int64  \n",
            " 32  BsmtFinType2   1422 non-null   object \n",
            " 33  BsmtFinSF2     1460 non-null   int64  \n",
            " 34  BsmtUnfSF      1460 non-null   int64  \n",
            " 35  TotalBsmtSF    1460 non-null   int64  \n",
            " 36  Heating        1460 non-null   object \n",
            " 37  HeatingQC      1460 non-null   object \n",
            " 38  CentralAir     1460 non-null   object \n",
            " 39  Electrical     1459 non-null   object \n",
            " 40  1stFlrSF       1460 non-null   int64  \n",
            " 41  2ndFlrSF       1460 non-null   int64  \n",
            " 42  LowQualFinSF   1460 non-null   int64  \n",
            " 43  GrLivArea      1460 non-null   int64  \n",
            " 44  BsmtFullBath   1460 non-null   int64  \n",
            " 45  BsmtHalfBath   1460 non-null   int64  \n",
            " 46  FullBath       1460 non-null   int64  \n",
            " 47  HalfBath       1460 non-null   int64  \n",
            " 48  BedroomAbvGr   1460 non-null   int64  \n",
            " 49  KitchenAbvGr   1460 non-null   int64  \n",
            " 50  KitchenQual    1460 non-null   object \n",
            " 51  TotRmsAbvGrd   1460 non-null   int64  \n",
            " 52  Functional     1460 non-null   object \n",
            " 53  Fireplaces     1460 non-null   int64  \n",
            " 54  GarageType     1379 non-null   object \n",
            " 55  GarageYrBlt    1379 non-null   float64\n",
            " 56  GarageFinish   1379 non-null   object \n",
            " 57  GarageCars     1460 non-null   int64  \n",
            " 58  GarageArea     1460 non-null   int64  \n",
            " 59  GarageQual     1379 non-null   object \n",
            " 60  GarageCond     1379 non-null   object \n",
            " 61  PavedDrive     1460 non-null   object \n",
            " 62  WoodDeckSF     1460 non-null   int64  \n",
            " 63  OpenPorchSF    1460 non-null   int64  \n",
            " 64  EnclosedPorch  1460 non-null   int64  \n",
            " 65  3SsnPorch      1460 non-null   int64  \n",
            " 66  ScreenPorch    1460 non-null   int64  \n",
            " 67  PoolArea       1460 non-null   int64  \n",
            " 68  MiscVal        1460 non-null   int64  \n",
            " 69  YrSold         1460 non-null   int64  \n",
            " 70  SaleType       1460 non-null   object \n",
            " 71  SaleCondition  1460 non-null   object \n",
            " 72  SalePrice      1460 non-null   int64  \n",
            "dtypes: float64(3), int64(33), object(37)\n",
            "memory usage: 832.8+ KB\n"
          ]
        }
      ],
      "source": [
        "tr2.info()"
      ]
    },
    {
      "cell_type": "markdown",
      "id": "38d1af40",
      "metadata": {
        "papermill": {
          "duration": 0.028517,
          "end_time": "2024-07-04T20:13:11.075518",
          "exception": false,
          "start_time": "2024-07-04T20:13:11.047001",
          "status": "completed"
        },
        "tags": [],
        "id": "38d1af40"
      },
      "source": [
        "# Data Preprocessing"
      ]
    },
    {
      "cell_type": "code",
      "execution_count": 107,
      "id": "796c2596",
      "metadata": {
        "execution": {
          "iopub.execute_input": "2024-07-04T20:13:11.133182Z",
          "iopub.status.busy": "2024-07-04T20:13:11.132784Z",
          "iopub.status.idle": "2024-07-04T20:13:13.463546Z",
          "shell.execute_reply": "2024-07-04T20:13:13.462413Z"
        },
        "papermill": {
          "duration": 2.362573,
          "end_time": "2024-07-04T20:13:13.465820",
          "exception": false,
          "start_time": "2024-07-04T20:13:11.103247",
          "status": "completed"
        },
        "tags": [],
        "colab": {
          "base_uri": "https://localhost:8080/"
        },
        "id": "796c2596",
        "outputId": "4034851f-62dd-40e5-c3b8-5cb3c17bdcf0"
      },
      "outputs": [
        {
          "output_type": "stream",
          "name": "stdout",
          "text": [
            "['LotFrontage', 'MasVnrArea', 'BsmtQual', 'BsmtCond', 'BsmtExposure', 'BsmtFinType1', 'BsmtFinType2', 'Electrical', 'GarageType', 'GarageYrBlt', 'GarageFinish', 'GarageQual', 'GarageCond']\n"
          ]
        }
      ],
      "source": [
        "#Let us find out the columns with null values\n",
        "x=[]\n",
        "for i in range(len(tr2.columns)):\n",
        "    for j in range(tr2.shape[0]):\n",
        "        if pd.isna(tr2.iloc[j, i]):\n",
        "            x.append(tr2.columns[i])\n",
        "            break\n",
        "print(x)"
      ]
    },
    {
      "cell_type": "code",
      "execution_count": 108,
      "id": "0c856af3",
      "metadata": {
        "execution": {
          "iopub.execute_input": "2024-07-04T20:13:13.523167Z",
          "iopub.status.busy": "2024-07-04T20:13:13.522775Z",
          "iopub.status.idle": "2024-07-04T20:13:13.535711Z",
          "shell.execute_reply": "2024-07-04T20:13:13.534566Z"
        },
        "papermill": {
          "duration": 0.043873,
          "end_time": "2024-07-04T20:13:13.537948",
          "exception": false,
          "start_time": "2024-07-04T20:13:13.494075",
          "status": "completed"
        },
        "tags": [],
        "colab": {
          "base_uri": "https://localhost:8080/"
        },
        "id": "0c856af3",
        "outputId": "8285aef3-2776-45ad-936a-dd4f4b383205"
      },
      "outputs": [
        {
          "output_type": "stream",
          "name": "stdout",
          "text": [
            "<class 'pandas.core.frame.DataFrame'>\n",
            "RangeIndex: 1460 entries, 0 to 1459\n",
            "Data columns (total 13 columns):\n",
            " #   Column        Non-Null Count  Dtype  \n",
            "---  ------        --------------  -----  \n",
            " 0   LotFrontage   1201 non-null   float64\n",
            " 1   MasVnrArea    1452 non-null   float64\n",
            " 2   BsmtQual      1423 non-null   object \n",
            " 3   BsmtCond      1423 non-null   object \n",
            " 4   BsmtExposure  1422 non-null   object \n",
            " 5   BsmtFinType1  1423 non-null   object \n",
            " 6   BsmtFinType2  1422 non-null   object \n",
            " 7   Electrical    1459 non-null   object \n",
            " 8   GarageType    1379 non-null   object \n",
            " 9   GarageYrBlt   1379 non-null   float64\n",
            " 10  GarageFinish  1379 non-null   object \n",
            " 11  GarageQual    1379 non-null   object \n",
            " 12  GarageCond    1379 non-null   object \n",
            "dtypes: float64(3), object(10)\n",
            "memory usage: 148.4+ KB\n"
          ]
        }
      ],
      "source": [
        "tr2[x].info()"
      ]
    },
    {
      "cell_type": "code",
      "execution_count": 109,
      "id": "a0ce3871",
      "metadata": {
        "execution": {
          "iopub.execute_input": "2024-07-04T20:13:13.594758Z",
          "iopub.status.busy": "2024-07-04T20:13:13.593994Z",
          "iopub.status.idle": "2024-07-04T20:13:13.610613Z",
          "shell.execute_reply": "2024-07-04T20:13:13.609590Z"
        },
        "papermill": {
          "duration": 0.047489,
          "end_time": "2024-07-04T20:13:13.612905",
          "exception": false,
          "start_time": "2024-07-04T20:13:13.565416",
          "status": "completed"
        },
        "tags": [],
        "id": "a0ce3871"
      },
      "outputs": [],
      "source": [
        "for a in x:\n",
        "    if tr2[a].dtype in [int, float]:\n",
        "        tr2[a] = tr2[a].fillna(tr2[a].mean())\n",
        "    else:\n",
        "        tr2[a] = tr2[a].fillna(tr2[a].mode()[0])"
      ]
    },
    {
      "cell_type": "code",
      "execution_count": 110,
      "id": "f696bdc8",
      "metadata": {
        "execution": {
          "iopub.execute_input": "2024-07-04T20:13:13.670106Z",
          "iopub.status.busy": "2024-07-04T20:13:13.669730Z",
          "iopub.status.idle": "2024-07-04T20:13:13.685262Z",
          "shell.execute_reply": "2024-07-04T20:13:13.684076Z"
        },
        "papermill": {
          "duration": 0.046938,
          "end_time": "2024-07-04T20:13:13.687454",
          "exception": false,
          "start_time": "2024-07-04T20:13:13.640516",
          "status": "completed"
        },
        "tags": [],
        "colab": {
          "base_uri": "https://localhost:8080/"
        },
        "id": "f696bdc8",
        "outputId": "c13bf68b-be9d-4b0c-da57-72873850f51b"
      },
      "outputs": [
        {
          "output_type": "stream",
          "name": "stdout",
          "text": [
            "<class 'pandas.core.frame.DataFrame'>\n",
            "RangeIndex: 1460 entries, 0 to 1459\n",
            "Data columns (total 13 columns):\n",
            " #   Column        Non-Null Count  Dtype  \n",
            "---  ------        --------------  -----  \n",
            " 0   LotFrontage   1460 non-null   float64\n",
            " 1   MasVnrArea    1460 non-null   float64\n",
            " 2   BsmtQual      1460 non-null   object \n",
            " 3   BsmtCond      1460 non-null   object \n",
            " 4   BsmtExposure  1460 non-null   object \n",
            " 5   BsmtFinType1  1460 non-null   object \n",
            " 6   BsmtFinType2  1460 non-null   object \n",
            " 7   Electrical    1460 non-null   object \n",
            " 8   GarageType    1460 non-null   object \n",
            " 9   GarageYrBlt   1460 non-null   float64\n",
            " 10  GarageFinish  1460 non-null   object \n",
            " 11  GarageQual    1460 non-null   object \n",
            " 12  GarageCond    1460 non-null   object \n",
            "dtypes: float64(3), object(10)\n",
            "memory usage: 148.4+ KB\n"
          ]
        }
      ],
      "source": [
        "tr2[x].info()"
      ]
    },
    {
      "cell_type": "code",
      "execution_count": 111,
      "id": "4a7c1acc",
      "metadata": {
        "execution": {
          "iopub.execute_input": "2024-07-04T20:13:13.744584Z",
          "iopub.status.busy": "2024-07-04T20:13:13.744200Z",
          "iopub.status.idle": "2024-07-04T20:13:13.765193Z",
          "shell.execute_reply": "2024-07-04T20:13:13.764045Z"
        },
        "papermill": {
          "duration": 0.052403,
          "end_time": "2024-07-04T20:13:13.767532",
          "exception": false,
          "start_time": "2024-07-04T20:13:13.715129",
          "status": "completed"
        },
        "tags": [],
        "id": "4a7c1acc"
      },
      "outputs": [],
      "source": [
        "#Replacing the columns with ordinal values.\n",
        "tr2[['ExterQual','ExterCond','BsmtQual','BsmtCond','HeatingQC','KitchenQual','GarageQual','GarageCond']]=tr2[['ExterQual','ExterCond','BsmtQual','BsmtCond','HeatingQC','KitchenQual','GarageQual','GarageCond']].replace([\"Ex\",\"Gd\",\"TA\",\"Fa\",\"Po\",\"NA\"],[5,4,3,2,1,0])"
      ]
    },
    {
      "cell_type": "code",
      "execution_count": 112,
      "id": "6a2c88c0",
      "metadata": {
        "execution": {
          "iopub.execute_input": "2024-07-04T20:13:13.824360Z",
          "iopub.status.busy": "2024-07-04T20:13:13.823970Z",
          "iopub.status.idle": "2024-07-04T20:13:13.837094Z",
          "shell.execute_reply": "2024-07-04T20:13:13.836148Z"
        },
        "papermill": {
          "duration": 0.044126,
          "end_time": "2024-07-04T20:13:13.839352",
          "exception": false,
          "start_time": "2024-07-04T20:13:13.795226",
          "status": "completed"
        },
        "tags": [],
        "colab": {
          "base_uri": "https://localhost:8080/",
          "height": 206
        },
        "id": "6a2c88c0",
        "outputId": "8486fa38-03f2-4010-c722-da942e2ccfa5"
      },
      "outputs": [
        {
          "output_type": "execute_result",
          "data": {
            "text/plain": [
              "   ExterQual  ExterCond  BsmtQual  BsmtCond  HeatingQC  KitchenQual  \\\n",
              "0          4          3         4         3          5            4   \n",
              "1          3          3         4         3          5            3   \n",
              "2          4          3         4         3          5            4   \n",
              "3          3          3         3         4          4            4   \n",
              "4          4          3         4         3          5            4   \n",
              "\n",
              "   GarageQual  GarageCond  \n",
              "0           3           3  \n",
              "1           3           3  \n",
              "2           3           3  \n",
              "3           3           3  \n",
              "4           3           3  "
            ],
            "text/html": [
              "\n",
              "  <div id=\"df-fa408917-9bde-4169-bcf1-81374ec9bae2\" class=\"colab-df-container\">\n",
              "    <div>\n",
              "<style scoped>\n",
              "    .dataframe tbody tr th:only-of-type {\n",
              "        vertical-align: middle;\n",
              "    }\n",
              "\n",
              "    .dataframe tbody tr th {\n",
              "        vertical-align: top;\n",
              "    }\n",
              "\n",
              "    .dataframe thead th {\n",
              "        text-align: right;\n",
              "    }\n",
              "</style>\n",
              "<table border=\"1\" class=\"dataframe\">\n",
              "  <thead>\n",
              "    <tr style=\"text-align: right;\">\n",
              "      <th></th>\n",
              "      <th>ExterQual</th>\n",
              "      <th>ExterCond</th>\n",
              "      <th>BsmtQual</th>\n",
              "      <th>BsmtCond</th>\n",
              "      <th>HeatingQC</th>\n",
              "      <th>KitchenQual</th>\n",
              "      <th>GarageQual</th>\n",
              "      <th>GarageCond</th>\n",
              "    </tr>\n",
              "  </thead>\n",
              "  <tbody>\n",
              "    <tr>\n",
              "      <th>0</th>\n",
              "      <td>4</td>\n",
              "      <td>3</td>\n",
              "      <td>4</td>\n",
              "      <td>3</td>\n",
              "      <td>5</td>\n",
              "      <td>4</td>\n",
              "      <td>3</td>\n",
              "      <td>3</td>\n",
              "    </tr>\n",
              "    <tr>\n",
              "      <th>1</th>\n",
              "      <td>3</td>\n",
              "      <td>3</td>\n",
              "      <td>4</td>\n",
              "      <td>3</td>\n",
              "      <td>5</td>\n",
              "      <td>3</td>\n",
              "      <td>3</td>\n",
              "      <td>3</td>\n",
              "    </tr>\n",
              "    <tr>\n",
              "      <th>2</th>\n",
              "      <td>4</td>\n",
              "      <td>3</td>\n",
              "      <td>4</td>\n",
              "      <td>3</td>\n",
              "      <td>5</td>\n",
              "      <td>4</td>\n",
              "      <td>3</td>\n",
              "      <td>3</td>\n",
              "    </tr>\n",
              "    <tr>\n",
              "      <th>3</th>\n",
              "      <td>3</td>\n",
              "      <td>3</td>\n",
              "      <td>3</td>\n",
              "      <td>4</td>\n",
              "      <td>4</td>\n",
              "      <td>4</td>\n",
              "      <td>3</td>\n",
              "      <td>3</td>\n",
              "    </tr>\n",
              "    <tr>\n",
              "      <th>4</th>\n",
              "      <td>4</td>\n",
              "      <td>3</td>\n",
              "      <td>4</td>\n",
              "      <td>3</td>\n",
              "      <td>5</td>\n",
              "      <td>4</td>\n",
              "      <td>3</td>\n",
              "      <td>3</td>\n",
              "    </tr>\n",
              "  </tbody>\n",
              "</table>\n",
              "</div>\n",
              "    <div class=\"colab-df-buttons\">\n",
              "\n",
              "  <div class=\"colab-df-container\">\n",
              "    <button class=\"colab-df-convert\" onclick=\"convertToInteractive('df-fa408917-9bde-4169-bcf1-81374ec9bae2')\"\n",
              "            title=\"Convert this dataframe to an interactive table.\"\n",
              "            style=\"display:none;\">\n",
              "\n",
              "  <svg xmlns=\"http://www.w3.org/2000/svg\" height=\"24px\" viewBox=\"0 -960 960 960\">\n",
              "    <path d=\"M120-120v-720h720v720H120Zm60-500h600v-160H180v160Zm220 220h160v-160H400v160Zm0 220h160v-160H400v160ZM180-400h160v-160H180v160Zm440 0h160v-160H620v160ZM180-180h160v-160H180v160Zm440 0h160v-160H620v160Z\"/>\n",
              "  </svg>\n",
              "    </button>\n",
              "\n",
              "  <style>\n",
              "    .colab-df-container {\n",
              "      display:flex;\n",
              "      gap: 12px;\n",
              "    }\n",
              "\n",
              "    .colab-df-convert {\n",
              "      background-color: #E8F0FE;\n",
              "      border: none;\n",
              "      border-radius: 50%;\n",
              "      cursor: pointer;\n",
              "      display: none;\n",
              "      fill: #1967D2;\n",
              "      height: 32px;\n",
              "      padding: 0 0 0 0;\n",
              "      width: 32px;\n",
              "    }\n",
              "\n",
              "    .colab-df-convert:hover {\n",
              "      background-color: #E2EBFA;\n",
              "      box-shadow: 0px 1px 2px rgba(60, 64, 67, 0.3), 0px 1px 3px 1px rgba(60, 64, 67, 0.15);\n",
              "      fill: #174EA6;\n",
              "    }\n",
              "\n",
              "    .colab-df-buttons div {\n",
              "      margin-bottom: 4px;\n",
              "    }\n",
              "\n",
              "    [theme=dark] .colab-df-convert {\n",
              "      background-color: #3B4455;\n",
              "      fill: #D2E3FC;\n",
              "    }\n",
              "\n",
              "    [theme=dark] .colab-df-convert:hover {\n",
              "      background-color: #434B5C;\n",
              "      box-shadow: 0px 1px 3px 1px rgba(0, 0, 0, 0.15);\n",
              "      filter: drop-shadow(0px 1px 2px rgba(0, 0, 0, 0.3));\n",
              "      fill: #FFFFFF;\n",
              "    }\n",
              "  </style>\n",
              "\n",
              "    <script>\n",
              "      const buttonEl =\n",
              "        document.querySelector('#df-fa408917-9bde-4169-bcf1-81374ec9bae2 button.colab-df-convert');\n",
              "      buttonEl.style.display =\n",
              "        google.colab.kernel.accessAllowed ? 'block' : 'none';\n",
              "\n",
              "      async function convertToInteractive(key) {\n",
              "        const element = document.querySelector('#df-fa408917-9bde-4169-bcf1-81374ec9bae2');\n",
              "        const dataTable =\n",
              "          await google.colab.kernel.invokeFunction('convertToInteractive',\n",
              "                                                    [key], {});\n",
              "        if (!dataTable) return;\n",
              "\n",
              "        const docLinkHtml = 'Like what you see? Visit the ' +\n",
              "          '<a target=\"_blank\" href=https://colab.research.google.com/notebooks/data_table.ipynb>data table notebook</a>'\n",
              "          + ' to learn more about interactive tables.';\n",
              "        element.innerHTML = '';\n",
              "        dataTable['output_type'] = 'display_data';\n",
              "        await google.colab.output.renderOutput(dataTable, element);\n",
              "        const docLink = document.createElement('div');\n",
              "        docLink.innerHTML = docLinkHtml;\n",
              "        element.appendChild(docLink);\n",
              "      }\n",
              "    </script>\n",
              "  </div>\n",
              "\n",
              "\n",
              "<div id=\"df-740651e2-31aa-4ed1-a28c-654fe1ba4257\">\n",
              "  <button class=\"colab-df-quickchart\" onclick=\"quickchart('df-740651e2-31aa-4ed1-a28c-654fe1ba4257')\"\n",
              "            title=\"Suggest charts\"\n",
              "            style=\"display:none;\">\n",
              "\n",
              "<svg xmlns=\"http://www.w3.org/2000/svg\" height=\"24px\"viewBox=\"0 0 24 24\"\n",
              "     width=\"24px\">\n",
              "    <g>\n",
              "        <path d=\"M19 3H5c-1.1 0-2 .9-2 2v14c0 1.1.9 2 2 2h14c1.1 0 2-.9 2-2V5c0-1.1-.9-2-2-2zM9 17H7v-7h2v7zm4 0h-2V7h2v10zm4 0h-2v-4h2v4z\"/>\n",
              "    </g>\n",
              "</svg>\n",
              "  </button>\n",
              "\n",
              "<style>\n",
              "  .colab-df-quickchart {\n",
              "      --bg-color: #E8F0FE;\n",
              "      --fill-color: #1967D2;\n",
              "      --hover-bg-color: #E2EBFA;\n",
              "      --hover-fill-color: #174EA6;\n",
              "      --disabled-fill-color: #AAA;\n",
              "      --disabled-bg-color: #DDD;\n",
              "  }\n",
              "\n",
              "  [theme=dark] .colab-df-quickchart {\n",
              "      --bg-color: #3B4455;\n",
              "      --fill-color: #D2E3FC;\n",
              "      --hover-bg-color: #434B5C;\n",
              "      --hover-fill-color: #FFFFFF;\n",
              "      --disabled-bg-color: #3B4455;\n",
              "      --disabled-fill-color: #666;\n",
              "  }\n",
              "\n",
              "  .colab-df-quickchart {\n",
              "    background-color: var(--bg-color);\n",
              "    border: none;\n",
              "    border-radius: 50%;\n",
              "    cursor: pointer;\n",
              "    display: none;\n",
              "    fill: var(--fill-color);\n",
              "    height: 32px;\n",
              "    padding: 0;\n",
              "    width: 32px;\n",
              "  }\n",
              "\n",
              "  .colab-df-quickchart:hover {\n",
              "    background-color: var(--hover-bg-color);\n",
              "    box-shadow: 0 1px 2px rgba(60, 64, 67, 0.3), 0 1px 3px 1px rgba(60, 64, 67, 0.15);\n",
              "    fill: var(--button-hover-fill-color);\n",
              "  }\n",
              "\n",
              "  .colab-df-quickchart-complete:disabled,\n",
              "  .colab-df-quickchart-complete:disabled:hover {\n",
              "    background-color: var(--disabled-bg-color);\n",
              "    fill: var(--disabled-fill-color);\n",
              "    box-shadow: none;\n",
              "  }\n",
              "\n",
              "  .colab-df-spinner {\n",
              "    border: 2px solid var(--fill-color);\n",
              "    border-color: transparent;\n",
              "    border-bottom-color: var(--fill-color);\n",
              "    animation:\n",
              "      spin 1s steps(1) infinite;\n",
              "  }\n",
              "\n",
              "  @keyframes spin {\n",
              "    0% {\n",
              "      border-color: transparent;\n",
              "      border-bottom-color: var(--fill-color);\n",
              "      border-left-color: var(--fill-color);\n",
              "    }\n",
              "    20% {\n",
              "      border-color: transparent;\n",
              "      border-left-color: var(--fill-color);\n",
              "      border-top-color: var(--fill-color);\n",
              "    }\n",
              "    30% {\n",
              "      border-color: transparent;\n",
              "      border-left-color: var(--fill-color);\n",
              "      border-top-color: var(--fill-color);\n",
              "      border-right-color: var(--fill-color);\n",
              "    }\n",
              "    40% {\n",
              "      border-color: transparent;\n",
              "      border-right-color: var(--fill-color);\n",
              "      border-top-color: var(--fill-color);\n",
              "    }\n",
              "    60% {\n",
              "      border-color: transparent;\n",
              "      border-right-color: var(--fill-color);\n",
              "    }\n",
              "    80% {\n",
              "      border-color: transparent;\n",
              "      border-right-color: var(--fill-color);\n",
              "      border-bottom-color: var(--fill-color);\n",
              "    }\n",
              "    90% {\n",
              "      border-color: transparent;\n",
              "      border-bottom-color: var(--fill-color);\n",
              "    }\n",
              "  }\n",
              "</style>\n",
              "\n",
              "  <script>\n",
              "    async function quickchart(key) {\n",
              "      const quickchartButtonEl =\n",
              "        document.querySelector('#' + key + ' button');\n",
              "      quickchartButtonEl.disabled = true;  // To prevent multiple clicks.\n",
              "      quickchartButtonEl.classList.add('colab-df-spinner');\n",
              "      try {\n",
              "        const charts = await google.colab.kernel.invokeFunction(\n",
              "            'suggestCharts', [key], {});\n",
              "      } catch (error) {\n",
              "        console.error('Error during call to suggestCharts:', error);\n",
              "      }\n",
              "      quickchartButtonEl.classList.remove('colab-df-spinner');\n",
              "      quickchartButtonEl.classList.add('colab-df-quickchart-complete');\n",
              "    }\n",
              "    (() => {\n",
              "      let quickchartButtonEl =\n",
              "        document.querySelector('#df-740651e2-31aa-4ed1-a28c-654fe1ba4257 button');\n",
              "      quickchartButtonEl.style.display =\n",
              "        google.colab.kernel.accessAllowed ? 'block' : 'none';\n",
              "    })();\n",
              "  </script>\n",
              "</div>\n",
              "\n",
              "    </div>\n",
              "  </div>\n"
            ],
            "application/vnd.google.colaboratory.intrinsic+json": {
              "type": "dataframe",
              "summary": "{\n  \"name\": \"tr2[['ExterQual','ExterCond','BsmtQual','BsmtCond','HeatingQC','KitchenQual','GarageQual','GarageCond']]\",\n  \"rows\": 5,\n  \"fields\": [\n    {\n      \"column\": \"ExterQual\",\n      \"properties\": {\n        \"dtype\": \"number\",\n        \"std\": 0,\n        \"min\": 3,\n        \"max\": 4,\n        \"num_unique_values\": 2,\n        \"samples\": [\n          3,\n          4\n        ],\n        \"semantic_type\": \"\",\n        \"description\": \"\"\n      }\n    },\n    {\n      \"column\": \"ExterCond\",\n      \"properties\": {\n        \"dtype\": \"number\",\n        \"std\": 0,\n        \"min\": 3,\n        \"max\": 3,\n        \"num_unique_values\": 1,\n        \"samples\": [\n          3\n        ],\n        \"semantic_type\": \"\",\n        \"description\": \"\"\n      }\n    },\n    {\n      \"column\": \"BsmtQual\",\n      \"properties\": {\n        \"dtype\": \"number\",\n        \"std\": 0,\n        \"min\": 3,\n        \"max\": 4,\n        \"num_unique_values\": 2,\n        \"samples\": [\n          3\n        ],\n        \"semantic_type\": \"\",\n        \"description\": \"\"\n      }\n    },\n    {\n      \"column\": \"BsmtCond\",\n      \"properties\": {\n        \"dtype\": \"number\",\n        \"std\": 0,\n        \"min\": 3,\n        \"max\": 4,\n        \"num_unique_values\": 2,\n        \"samples\": [\n          4\n        ],\n        \"semantic_type\": \"\",\n        \"description\": \"\"\n      }\n    },\n    {\n      \"column\": \"HeatingQC\",\n      \"properties\": {\n        \"dtype\": \"number\",\n        \"std\": 0,\n        \"min\": 4,\n        \"max\": 5,\n        \"num_unique_values\": 2,\n        \"samples\": [\n          4\n        ],\n        \"semantic_type\": \"\",\n        \"description\": \"\"\n      }\n    },\n    {\n      \"column\": \"KitchenQual\",\n      \"properties\": {\n        \"dtype\": \"number\",\n        \"std\": 0,\n        \"min\": 3,\n        \"max\": 4,\n        \"num_unique_values\": 2,\n        \"samples\": [\n          3\n        ],\n        \"semantic_type\": \"\",\n        \"description\": \"\"\n      }\n    },\n    {\n      \"column\": \"GarageQual\",\n      \"properties\": {\n        \"dtype\": \"number\",\n        \"std\": 0,\n        \"min\": 3,\n        \"max\": 3,\n        \"num_unique_values\": 1,\n        \"samples\": [\n          3\n        ],\n        \"semantic_type\": \"\",\n        \"description\": \"\"\n      }\n    },\n    {\n      \"column\": \"GarageCond\",\n      \"properties\": {\n        \"dtype\": \"number\",\n        \"std\": 0,\n        \"min\": 3,\n        \"max\": 3,\n        \"num_unique_values\": 1,\n        \"samples\": [\n          3\n        ],\n        \"semantic_type\": \"\",\n        \"description\": \"\"\n      }\n    }\n  ]\n}"
            }
          },
          "metadata": {},
          "execution_count": 112
        }
      ],
      "source": [
        "tr2[['ExterQual','ExterCond','BsmtQual','BsmtCond','HeatingQC','KitchenQual','GarageQual','GarageCond']].head()"
      ]
    },
    {
      "cell_type": "code",
      "execution_count": 113,
      "id": "8f0b1273",
      "metadata": {
        "execution": {
          "iopub.execute_input": "2024-07-04T20:13:13.898634Z",
          "iopub.status.busy": "2024-07-04T20:13:13.897805Z",
          "iopub.status.idle": "2024-07-04T20:13:13.910014Z",
          "shell.execute_reply": "2024-07-04T20:13:13.908865Z"
        },
        "papermill": {
          "duration": 0.044371,
          "end_time": "2024-07-04T20:13:13.912086",
          "exception": false,
          "start_time": "2024-07-04T20:13:13.867715",
          "status": "completed"
        },
        "tags": [],
        "colab": {
          "base_uri": "https://localhost:8080/"
        },
        "id": "8f0b1273",
        "outputId": "108ee43f-3e48-4fee-8b5f-ead4bd02f4b2"
      },
      "outputs": [
        {
          "output_type": "stream",
          "name": "stdout",
          "text": [
            "<class 'pandas.core.frame.DataFrame'>\n",
            "RangeIndex: 1460 entries, 0 to 1459\n",
            "Data columns (total 8 columns):\n",
            " #   Column       Non-Null Count  Dtype\n",
            "---  ------       --------------  -----\n",
            " 0   ExterQual    1460 non-null   int64\n",
            " 1   ExterCond    1460 non-null   int64\n",
            " 2   BsmtQual     1460 non-null   int64\n",
            " 3   BsmtCond     1460 non-null   int64\n",
            " 4   HeatingQC    1460 non-null   int64\n",
            " 5   KitchenQual  1460 non-null   int64\n",
            " 6   GarageQual   1460 non-null   int64\n",
            " 7   GarageCond   1460 non-null   int64\n",
            "dtypes: int64(8)\n",
            "memory usage: 91.4 KB\n"
          ]
        }
      ],
      "source": [
        "tr2[['ExterQual','ExterCond','BsmtQual','BsmtCond','HeatingQC','KitchenQual','GarageQual','GarageCond']].info()"
      ]
    },
    {
      "cell_type": "code",
      "execution_count": 114,
      "id": "50b4f848",
      "metadata": {
        "execution": {
          "iopub.execute_input": "2024-07-04T20:13:13.970603Z",
          "iopub.status.busy": "2024-07-04T20:13:13.970192Z",
          "iopub.status.idle": "2024-07-04T20:13:13.978386Z",
          "shell.execute_reply": "2024-07-04T20:13:13.977625Z"
        },
        "papermill": {
          "duration": 0.039973,
          "end_time": "2024-07-04T20:13:13.980552",
          "exception": false,
          "start_time": "2024-07-04T20:13:13.940579",
          "status": "completed"
        },
        "tags": [],
        "id": "50b4f848"
      },
      "outputs": [],
      "source": [
        "#The difference in the years responsible for the price rather than the year.\n",
        "\n",
        "tr2['YR_YB']=tr2['YearRemodAdd']-tr2['YearBuilt']\n",
        "tr2['YS_YR']=tr2['YrSold']-tr2['YearRemodAdd']\n",
        "tr2['YS_GBY']=tr2['YrSold']-tr2['GarageYrBlt']"
      ]
    },
    {
      "cell_type": "code",
      "execution_count": 115,
      "id": "91a7610f",
      "metadata": {
        "execution": {
          "iopub.execute_input": "2024-07-04T20:13:14.039210Z",
          "iopub.status.busy": "2024-07-04T20:13:14.038262Z",
          "iopub.status.idle": "2024-07-04T20:13:14.068916Z",
          "shell.execute_reply": "2024-07-04T20:13:14.067750Z"
        },
        "papermill": {
          "duration": 0.062315,
          "end_time": "2024-07-04T20:13:14.071141",
          "exception": false,
          "start_time": "2024-07-04T20:13:14.008826",
          "status": "completed"
        },
        "tags": [],
        "colab": {
          "base_uri": "https://localhost:8080/",
          "height": 443
        },
        "id": "91a7610f",
        "outputId": "482bf570-c1aa-4422-c468-9a12dbe62626"
      },
      "outputs": [
        {
          "output_type": "execute_result",
          "data": {
            "text/plain": [
              "      MSSubClass MSZoning  LotFrontage  LotArea Street LotShape LandContour  \\\n",
              "0             60       RL         65.0     8450   Pave      Reg         Lvl   \n",
              "1             20       RL         80.0     9600   Pave      Reg         Lvl   \n",
              "2             60       RL         68.0    11250   Pave      IR1         Lvl   \n",
              "3             70       RL         60.0     9550   Pave      IR1         Lvl   \n",
              "4             60       RL         84.0    14260   Pave      IR1         Lvl   \n",
              "...          ...      ...          ...      ...    ...      ...         ...   \n",
              "1455          60       RL         62.0     7917   Pave      Reg         Lvl   \n",
              "1456          20       RL         85.0    13175   Pave      Reg         Lvl   \n",
              "1457          70       RL         66.0     9042   Pave      Reg         Lvl   \n",
              "1458          20       RL         68.0     9717   Pave      Reg         Lvl   \n",
              "1459          20       RL         75.0     9937   Pave      Reg         Lvl   \n",
              "\n",
              "     Utilities LotConfig LandSlope  ... 3SsnPorch ScreenPorch PoolArea  \\\n",
              "0       AllPub    Inside       Gtl  ...         0           0        0   \n",
              "1       AllPub       FR2       Gtl  ...         0           0        0   \n",
              "2       AllPub    Inside       Gtl  ...         0           0        0   \n",
              "3       AllPub    Corner       Gtl  ...         0           0        0   \n",
              "4       AllPub       FR2       Gtl  ...         0           0        0   \n",
              "...        ...       ...       ...  ...       ...         ...      ...   \n",
              "1455    AllPub    Inside       Gtl  ...         0           0        0   \n",
              "1456    AllPub    Inside       Gtl  ...         0           0        0   \n",
              "1457    AllPub    Inside       Gtl  ...         0           0        0   \n",
              "1458    AllPub    Inside       Gtl  ...         0           0        0   \n",
              "1459    AllPub    Inside       Gtl  ...         0           0        0   \n",
              "\n",
              "     MiscVal SaleType  SaleCondition  SalePrice YR_YB YS_YR YS_GBY  \n",
              "0          0       WD         Normal     208500     0     5    5.0  \n",
              "1          0       WD         Normal     181500     0    31   31.0  \n",
              "2          0       WD         Normal     223500     1     6    7.0  \n",
              "3          0       WD        Abnorml     140000    55    36    8.0  \n",
              "4          0       WD         Normal     250000     0     8    8.0  \n",
              "...      ...      ...            ...        ...   ...   ...    ...  \n",
              "1455       0       WD         Normal     175000     1     7    8.0  \n",
              "1456       0       WD         Normal     210000    10    22   32.0  \n",
              "1457    2500       WD         Normal     266500    65     4   69.0  \n",
              "1458       0       WD         Normal     142125    46    14   60.0  \n",
              "1459       0       WD         Normal     147500     0    43   43.0  \n",
              "\n",
              "[1460 rows x 72 columns]"
            ],
            "text/html": [
              "\n",
              "  <div id=\"df-be5bded7-83de-4680-b6be-44bb13e12920\" class=\"colab-df-container\">\n",
              "    <div>\n",
              "<style scoped>\n",
              "    .dataframe tbody tr th:only-of-type {\n",
              "        vertical-align: middle;\n",
              "    }\n",
              "\n",
              "    .dataframe tbody tr th {\n",
              "        vertical-align: top;\n",
              "    }\n",
              "\n",
              "    .dataframe thead th {\n",
              "        text-align: right;\n",
              "    }\n",
              "</style>\n",
              "<table border=\"1\" class=\"dataframe\">\n",
              "  <thead>\n",
              "    <tr style=\"text-align: right;\">\n",
              "      <th></th>\n",
              "      <th>MSSubClass</th>\n",
              "      <th>MSZoning</th>\n",
              "      <th>LotFrontage</th>\n",
              "      <th>LotArea</th>\n",
              "      <th>Street</th>\n",
              "      <th>LotShape</th>\n",
              "      <th>LandContour</th>\n",
              "      <th>Utilities</th>\n",
              "      <th>LotConfig</th>\n",
              "      <th>LandSlope</th>\n",
              "      <th>...</th>\n",
              "      <th>3SsnPorch</th>\n",
              "      <th>ScreenPorch</th>\n",
              "      <th>PoolArea</th>\n",
              "      <th>MiscVal</th>\n",
              "      <th>SaleType</th>\n",
              "      <th>SaleCondition</th>\n",
              "      <th>SalePrice</th>\n",
              "      <th>YR_YB</th>\n",
              "      <th>YS_YR</th>\n",
              "      <th>YS_GBY</th>\n",
              "    </tr>\n",
              "  </thead>\n",
              "  <tbody>\n",
              "    <tr>\n",
              "      <th>0</th>\n",
              "      <td>60</td>\n",
              "      <td>RL</td>\n",
              "      <td>65.0</td>\n",
              "      <td>8450</td>\n",
              "      <td>Pave</td>\n",
              "      <td>Reg</td>\n",
              "      <td>Lvl</td>\n",
              "      <td>AllPub</td>\n",
              "      <td>Inside</td>\n",
              "      <td>Gtl</td>\n",
              "      <td>...</td>\n",
              "      <td>0</td>\n",
              "      <td>0</td>\n",
              "      <td>0</td>\n",
              "      <td>0</td>\n",
              "      <td>WD</td>\n",
              "      <td>Normal</td>\n",
              "      <td>208500</td>\n",
              "      <td>0</td>\n",
              "      <td>5</td>\n",
              "      <td>5.0</td>\n",
              "    </tr>\n",
              "    <tr>\n",
              "      <th>1</th>\n",
              "      <td>20</td>\n",
              "      <td>RL</td>\n",
              "      <td>80.0</td>\n",
              "      <td>9600</td>\n",
              "      <td>Pave</td>\n",
              "      <td>Reg</td>\n",
              "      <td>Lvl</td>\n",
              "      <td>AllPub</td>\n",
              "      <td>FR2</td>\n",
              "      <td>Gtl</td>\n",
              "      <td>...</td>\n",
              "      <td>0</td>\n",
              "      <td>0</td>\n",
              "      <td>0</td>\n",
              "      <td>0</td>\n",
              "      <td>WD</td>\n",
              "      <td>Normal</td>\n",
              "      <td>181500</td>\n",
              "      <td>0</td>\n",
              "      <td>31</td>\n",
              "      <td>31.0</td>\n",
              "    </tr>\n",
              "    <tr>\n",
              "      <th>2</th>\n",
              "      <td>60</td>\n",
              "      <td>RL</td>\n",
              "      <td>68.0</td>\n",
              "      <td>11250</td>\n",
              "      <td>Pave</td>\n",
              "      <td>IR1</td>\n",
              "      <td>Lvl</td>\n",
              "      <td>AllPub</td>\n",
              "      <td>Inside</td>\n",
              "      <td>Gtl</td>\n",
              "      <td>...</td>\n",
              "      <td>0</td>\n",
              "      <td>0</td>\n",
              "      <td>0</td>\n",
              "      <td>0</td>\n",
              "      <td>WD</td>\n",
              "      <td>Normal</td>\n",
              "      <td>223500</td>\n",
              "      <td>1</td>\n",
              "      <td>6</td>\n",
              "      <td>7.0</td>\n",
              "    </tr>\n",
              "    <tr>\n",
              "      <th>3</th>\n",
              "      <td>70</td>\n",
              "      <td>RL</td>\n",
              "      <td>60.0</td>\n",
              "      <td>9550</td>\n",
              "      <td>Pave</td>\n",
              "      <td>IR1</td>\n",
              "      <td>Lvl</td>\n",
              "      <td>AllPub</td>\n",
              "      <td>Corner</td>\n",
              "      <td>Gtl</td>\n",
              "      <td>...</td>\n",
              "      <td>0</td>\n",
              "      <td>0</td>\n",
              "      <td>0</td>\n",
              "      <td>0</td>\n",
              "      <td>WD</td>\n",
              "      <td>Abnorml</td>\n",
              "      <td>140000</td>\n",
              "      <td>55</td>\n",
              "      <td>36</td>\n",
              "      <td>8.0</td>\n",
              "    </tr>\n",
              "    <tr>\n",
              "      <th>4</th>\n",
              "      <td>60</td>\n",
              "      <td>RL</td>\n",
              "      <td>84.0</td>\n",
              "      <td>14260</td>\n",
              "      <td>Pave</td>\n",
              "      <td>IR1</td>\n",
              "      <td>Lvl</td>\n",
              "      <td>AllPub</td>\n",
              "      <td>FR2</td>\n",
              "      <td>Gtl</td>\n",
              "      <td>...</td>\n",
              "      <td>0</td>\n",
              "      <td>0</td>\n",
              "      <td>0</td>\n",
              "      <td>0</td>\n",
              "      <td>WD</td>\n",
              "      <td>Normal</td>\n",
              "      <td>250000</td>\n",
              "      <td>0</td>\n",
              "      <td>8</td>\n",
              "      <td>8.0</td>\n",
              "    </tr>\n",
              "    <tr>\n",
              "      <th>...</th>\n",
              "      <td>...</td>\n",
              "      <td>...</td>\n",
              "      <td>...</td>\n",
              "      <td>...</td>\n",
              "      <td>...</td>\n",
              "      <td>...</td>\n",
              "      <td>...</td>\n",
              "      <td>...</td>\n",
              "      <td>...</td>\n",
              "      <td>...</td>\n",
              "      <td>...</td>\n",
              "      <td>...</td>\n",
              "      <td>...</td>\n",
              "      <td>...</td>\n",
              "      <td>...</td>\n",
              "      <td>...</td>\n",
              "      <td>...</td>\n",
              "      <td>...</td>\n",
              "      <td>...</td>\n",
              "      <td>...</td>\n",
              "      <td>...</td>\n",
              "    </tr>\n",
              "    <tr>\n",
              "      <th>1455</th>\n",
              "      <td>60</td>\n",
              "      <td>RL</td>\n",
              "      <td>62.0</td>\n",
              "      <td>7917</td>\n",
              "      <td>Pave</td>\n",
              "      <td>Reg</td>\n",
              "      <td>Lvl</td>\n",
              "      <td>AllPub</td>\n",
              "      <td>Inside</td>\n",
              "      <td>Gtl</td>\n",
              "      <td>...</td>\n",
              "      <td>0</td>\n",
              "      <td>0</td>\n",
              "      <td>0</td>\n",
              "      <td>0</td>\n",
              "      <td>WD</td>\n",
              "      <td>Normal</td>\n",
              "      <td>175000</td>\n",
              "      <td>1</td>\n",
              "      <td>7</td>\n",
              "      <td>8.0</td>\n",
              "    </tr>\n",
              "    <tr>\n",
              "      <th>1456</th>\n",
              "      <td>20</td>\n",
              "      <td>RL</td>\n",
              "      <td>85.0</td>\n",
              "      <td>13175</td>\n",
              "      <td>Pave</td>\n",
              "      <td>Reg</td>\n",
              "      <td>Lvl</td>\n",
              "      <td>AllPub</td>\n",
              "      <td>Inside</td>\n",
              "      <td>Gtl</td>\n",
              "      <td>...</td>\n",
              "      <td>0</td>\n",
              "      <td>0</td>\n",
              "      <td>0</td>\n",
              "      <td>0</td>\n",
              "      <td>WD</td>\n",
              "      <td>Normal</td>\n",
              "      <td>210000</td>\n",
              "      <td>10</td>\n",
              "      <td>22</td>\n",
              "      <td>32.0</td>\n",
              "    </tr>\n",
              "    <tr>\n",
              "      <th>1457</th>\n",
              "      <td>70</td>\n",
              "      <td>RL</td>\n",
              "      <td>66.0</td>\n",
              "      <td>9042</td>\n",
              "      <td>Pave</td>\n",
              "      <td>Reg</td>\n",
              "      <td>Lvl</td>\n",
              "      <td>AllPub</td>\n",
              "      <td>Inside</td>\n",
              "      <td>Gtl</td>\n",
              "      <td>...</td>\n",
              "      <td>0</td>\n",
              "      <td>0</td>\n",
              "      <td>0</td>\n",
              "      <td>2500</td>\n",
              "      <td>WD</td>\n",
              "      <td>Normal</td>\n",
              "      <td>266500</td>\n",
              "      <td>65</td>\n",
              "      <td>4</td>\n",
              "      <td>69.0</td>\n",
              "    </tr>\n",
              "    <tr>\n",
              "      <th>1458</th>\n",
              "      <td>20</td>\n",
              "      <td>RL</td>\n",
              "      <td>68.0</td>\n",
              "      <td>9717</td>\n",
              "      <td>Pave</td>\n",
              "      <td>Reg</td>\n",
              "      <td>Lvl</td>\n",
              "      <td>AllPub</td>\n",
              "      <td>Inside</td>\n",
              "      <td>Gtl</td>\n",
              "      <td>...</td>\n",
              "      <td>0</td>\n",
              "      <td>0</td>\n",
              "      <td>0</td>\n",
              "      <td>0</td>\n",
              "      <td>WD</td>\n",
              "      <td>Normal</td>\n",
              "      <td>142125</td>\n",
              "      <td>46</td>\n",
              "      <td>14</td>\n",
              "      <td>60.0</td>\n",
              "    </tr>\n",
              "    <tr>\n",
              "      <th>1459</th>\n",
              "      <td>20</td>\n",
              "      <td>RL</td>\n",
              "      <td>75.0</td>\n",
              "      <td>9937</td>\n",
              "      <td>Pave</td>\n",
              "      <td>Reg</td>\n",
              "      <td>Lvl</td>\n",
              "      <td>AllPub</td>\n",
              "      <td>Inside</td>\n",
              "      <td>Gtl</td>\n",
              "      <td>...</td>\n",
              "      <td>0</td>\n",
              "      <td>0</td>\n",
              "      <td>0</td>\n",
              "      <td>0</td>\n",
              "      <td>WD</td>\n",
              "      <td>Normal</td>\n",
              "      <td>147500</td>\n",
              "      <td>0</td>\n",
              "      <td>43</td>\n",
              "      <td>43.0</td>\n",
              "    </tr>\n",
              "  </tbody>\n",
              "</table>\n",
              "<p>1460 rows × 72 columns</p>\n",
              "</div>\n",
              "    <div class=\"colab-df-buttons\">\n",
              "\n",
              "  <div class=\"colab-df-container\">\n",
              "    <button class=\"colab-df-convert\" onclick=\"convertToInteractive('df-be5bded7-83de-4680-b6be-44bb13e12920')\"\n",
              "            title=\"Convert this dataframe to an interactive table.\"\n",
              "            style=\"display:none;\">\n",
              "\n",
              "  <svg xmlns=\"http://www.w3.org/2000/svg\" height=\"24px\" viewBox=\"0 -960 960 960\">\n",
              "    <path d=\"M120-120v-720h720v720H120Zm60-500h600v-160H180v160Zm220 220h160v-160H400v160Zm0 220h160v-160H400v160ZM180-400h160v-160H180v160Zm440 0h160v-160H620v160ZM180-180h160v-160H180v160Zm440 0h160v-160H620v160Z\"/>\n",
              "  </svg>\n",
              "    </button>\n",
              "\n",
              "  <style>\n",
              "    .colab-df-container {\n",
              "      display:flex;\n",
              "      gap: 12px;\n",
              "    }\n",
              "\n",
              "    .colab-df-convert {\n",
              "      background-color: #E8F0FE;\n",
              "      border: none;\n",
              "      border-radius: 50%;\n",
              "      cursor: pointer;\n",
              "      display: none;\n",
              "      fill: #1967D2;\n",
              "      height: 32px;\n",
              "      padding: 0 0 0 0;\n",
              "      width: 32px;\n",
              "    }\n",
              "\n",
              "    .colab-df-convert:hover {\n",
              "      background-color: #E2EBFA;\n",
              "      box-shadow: 0px 1px 2px rgba(60, 64, 67, 0.3), 0px 1px 3px 1px rgba(60, 64, 67, 0.15);\n",
              "      fill: #174EA6;\n",
              "    }\n",
              "\n",
              "    .colab-df-buttons div {\n",
              "      margin-bottom: 4px;\n",
              "    }\n",
              "\n",
              "    [theme=dark] .colab-df-convert {\n",
              "      background-color: #3B4455;\n",
              "      fill: #D2E3FC;\n",
              "    }\n",
              "\n",
              "    [theme=dark] .colab-df-convert:hover {\n",
              "      background-color: #434B5C;\n",
              "      box-shadow: 0px 1px 3px 1px rgba(0, 0, 0, 0.15);\n",
              "      filter: drop-shadow(0px 1px 2px rgba(0, 0, 0, 0.3));\n",
              "      fill: #FFFFFF;\n",
              "    }\n",
              "  </style>\n",
              "\n",
              "    <script>\n",
              "      const buttonEl =\n",
              "        document.querySelector('#df-be5bded7-83de-4680-b6be-44bb13e12920 button.colab-df-convert');\n",
              "      buttonEl.style.display =\n",
              "        google.colab.kernel.accessAllowed ? 'block' : 'none';\n",
              "\n",
              "      async function convertToInteractive(key) {\n",
              "        const element = document.querySelector('#df-be5bded7-83de-4680-b6be-44bb13e12920');\n",
              "        const dataTable =\n",
              "          await google.colab.kernel.invokeFunction('convertToInteractive',\n",
              "                                                    [key], {});\n",
              "        if (!dataTable) return;\n",
              "\n",
              "        const docLinkHtml = 'Like what you see? Visit the ' +\n",
              "          '<a target=\"_blank\" href=https://colab.research.google.com/notebooks/data_table.ipynb>data table notebook</a>'\n",
              "          + ' to learn more about interactive tables.';\n",
              "        element.innerHTML = '';\n",
              "        dataTable['output_type'] = 'display_data';\n",
              "        await google.colab.output.renderOutput(dataTable, element);\n",
              "        const docLink = document.createElement('div');\n",
              "        docLink.innerHTML = docLinkHtml;\n",
              "        element.appendChild(docLink);\n",
              "      }\n",
              "    </script>\n",
              "  </div>\n",
              "\n",
              "\n",
              "<div id=\"df-b2d9b231-78bd-4039-92f9-6ee2007c55b8\">\n",
              "  <button class=\"colab-df-quickchart\" onclick=\"quickchart('df-b2d9b231-78bd-4039-92f9-6ee2007c55b8')\"\n",
              "            title=\"Suggest charts\"\n",
              "            style=\"display:none;\">\n",
              "\n",
              "<svg xmlns=\"http://www.w3.org/2000/svg\" height=\"24px\"viewBox=\"0 0 24 24\"\n",
              "     width=\"24px\">\n",
              "    <g>\n",
              "        <path d=\"M19 3H5c-1.1 0-2 .9-2 2v14c0 1.1.9 2 2 2h14c1.1 0 2-.9 2-2V5c0-1.1-.9-2-2-2zM9 17H7v-7h2v7zm4 0h-2V7h2v10zm4 0h-2v-4h2v4z\"/>\n",
              "    </g>\n",
              "</svg>\n",
              "  </button>\n",
              "\n",
              "<style>\n",
              "  .colab-df-quickchart {\n",
              "      --bg-color: #E8F0FE;\n",
              "      --fill-color: #1967D2;\n",
              "      --hover-bg-color: #E2EBFA;\n",
              "      --hover-fill-color: #174EA6;\n",
              "      --disabled-fill-color: #AAA;\n",
              "      --disabled-bg-color: #DDD;\n",
              "  }\n",
              "\n",
              "  [theme=dark] .colab-df-quickchart {\n",
              "      --bg-color: #3B4455;\n",
              "      --fill-color: #D2E3FC;\n",
              "      --hover-bg-color: #434B5C;\n",
              "      --hover-fill-color: #FFFFFF;\n",
              "      --disabled-bg-color: #3B4455;\n",
              "      --disabled-fill-color: #666;\n",
              "  }\n",
              "\n",
              "  .colab-df-quickchart {\n",
              "    background-color: var(--bg-color);\n",
              "    border: none;\n",
              "    border-radius: 50%;\n",
              "    cursor: pointer;\n",
              "    display: none;\n",
              "    fill: var(--fill-color);\n",
              "    height: 32px;\n",
              "    padding: 0;\n",
              "    width: 32px;\n",
              "  }\n",
              "\n",
              "  .colab-df-quickchart:hover {\n",
              "    background-color: var(--hover-bg-color);\n",
              "    box-shadow: 0 1px 2px rgba(60, 64, 67, 0.3), 0 1px 3px 1px rgba(60, 64, 67, 0.15);\n",
              "    fill: var(--button-hover-fill-color);\n",
              "  }\n",
              "\n",
              "  .colab-df-quickchart-complete:disabled,\n",
              "  .colab-df-quickchart-complete:disabled:hover {\n",
              "    background-color: var(--disabled-bg-color);\n",
              "    fill: var(--disabled-fill-color);\n",
              "    box-shadow: none;\n",
              "  }\n",
              "\n",
              "  .colab-df-spinner {\n",
              "    border: 2px solid var(--fill-color);\n",
              "    border-color: transparent;\n",
              "    border-bottom-color: var(--fill-color);\n",
              "    animation:\n",
              "      spin 1s steps(1) infinite;\n",
              "  }\n",
              "\n",
              "  @keyframes spin {\n",
              "    0% {\n",
              "      border-color: transparent;\n",
              "      border-bottom-color: var(--fill-color);\n",
              "      border-left-color: var(--fill-color);\n",
              "    }\n",
              "    20% {\n",
              "      border-color: transparent;\n",
              "      border-left-color: var(--fill-color);\n",
              "      border-top-color: var(--fill-color);\n",
              "    }\n",
              "    30% {\n",
              "      border-color: transparent;\n",
              "      border-left-color: var(--fill-color);\n",
              "      border-top-color: var(--fill-color);\n",
              "      border-right-color: var(--fill-color);\n",
              "    }\n",
              "    40% {\n",
              "      border-color: transparent;\n",
              "      border-right-color: var(--fill-color);\n",
              "      border-top-color: var(--fill-color);\n",
              "    }\n",
              "    60% {\n",
              "      border-color: transparent;\n",
              "      border-right-color: var(--fill-color);\n",
              "    }\n",
              "    80% {\n",
              "      border-color: transparent;\n",
              "      border-right-color: var(--fill-color);\n",
              "      border-bottom-color: var(--fill-color);\n",
              "    }\n",
              "    90% {\n",
              "      border-color: transparent;\n",
              "      border-bottom-color: var(--fill-color);\n",
              "    }\n",
              "  }\n",
              "</style>\n",
              "\n",
              "  <script>\n",
              "    async function quickchart(key) {\n",
              "      const quickchartButtonEl =\n",
              "        document.querySelector('#' + key + ' button');\n",
              "      quickchartButtonEl.disabled = true;  // To prevent multiple clicks.\n",
              "      quickchartButtonEl.classList.add('colab-df-spinner');\n",
              "      try {\n",
              "        const charts = await google.colab.kernel.invokeFunction(\n",
              "            'suggestCharts', [key], {});\n",
              "      } catch (error) {\n",
              "        console.error('Error during call to suggestCharts:', error);\n",
              "      }\n",
              "      quickchartButtonEl.classList.remove('colab-df-spinner');\n",
              "      quickchartButtonEl.classList.add('colab-df-quickchart-complete');\n",
              "    }\n",
              "    (() => {\n",
              "      let quickchartButtonEl =\n",
              "        document.querySelector('#df-b2d9b231-78bd-4039-92f9-6ee2007c55b8 button');\n",
              "      quickchartButtonEl.style.display =\n",
              "        google.colab.kernel.accessAllowed ? 'block' : 'none';\n",
              "    })();\n",
              "  </script>\n",
              "</div>\n",
              "\n",
              "    </div>\n",
              "  </div>\n"
            ],
            "application/vnd.google.colaboratory.intrinsic+json": {
              "type": "dataframe"
            }
          },
          "metadata": {},
          "execution_count": 115
        }
      ],
      "source": [
        "tr2.drop(columns=['YearRemodAdd','YearBuilt','YrSold','GarageYrBlt'])"
      ]
    },
    {
      "cell_type": "code",
      "execution_count": 116,
      "id": "59a4aa32",
      "metadata": {
        "execution": {
          "iopub.execute_input": "2024-07-04T20:13:14.131743Z",
          "iopub.status.busy": "2024-07-04T20:13:14.131352Z",
          "iopub.status.idle": "2024-07-04T20:13:14.140927Z",
          "shell.execute_reply": "2024-07-04T20:13:14.139841Z"
        },
        "papermill": {
          "duration": 0.043128,
          "end_time": "2024-07-04T20:13:14.143216",
          "exception": false,
          "start_time": "2024-07-04T20:13:14.100088",
          "status": "completed"
        },
        "tags": [],
        "colab": {
          "base_uri": "https://localhost:8080/"
        },
        "id": "59a4aa32",
        "outputId": "10ba081a-883e-4320-f5e2-b42d16f49f76"
      },
      "outputs": [
        {
          "output_type": "execute_result",
          "data": {
            "text/plain": [
              "29"
            ]
          },
          "metadata": {},
          "execution_count": 116
        }
      ],
      "source": [
        "c=0\n",
        "for i in tr2.columns:\n",
        "    if tr2[i].dtype==object:\n",
        "        c+=1\n",
        "c"
      ]
    },
    {
      "cell_type": "code",
      "execution_count": 117,
      "id": "39d859de",
      "metadata": {
        "execution": {
          "iopub.execute_input": "2024-07-04T20:13:14.205204Z",
          "iopub.status.busy": "2024-07-04T20:13:14.204784Z",
          "iopub.status.idle": "2024-07-04T20:13:14.212747Z",
          "shell.execute_reply": "2024-07-04T20:13:14.211787Z"
        },
        "papermill": {
          "duration": 0.041886,
          "end_time": "2024-07-04T20:13:14.214923",
          "exception": false,
          "start_time": "2024-07-04T20:13:14.173037",
          "status": "completed"
        },
        "tags": [],
        "colab": {
          "base_uri": "https://localhost:8080/"
        },
        "id": "39d859de",
        "outputId": "637a3d67-ab8c-4d8e-de93-874a9cebd37d"
      },
      "outputs": [
        {
          "output_type": "execute_result",
          "data": {
            "text/plain": [
              "['MSZoning',\n",
              " 'Street',\n",
              " 'LotShape',\n",
              " 'LandContour',\n",
              " 'Utilities',\n",
              " 'LotConfig',\n",
              " 'LandSlope',\n",
              " 'Neighborhood',\n",
              " 'Condition1',\n",
              " 'Condition2',\n",
              " 'BldgType',\n",
              " 'HouseStyle',\n",
              " 'RoofStyle',\n",
              " 'RoofMatl',\n",
              " 'Exterior1st',\n",
              " 'Exterior2nd',\n",
              " 'Foundation',\n",
              " 'BsmtExposure',\n",
              " 'BsmtFinType1',\n",
              " 'BsmtFinType2',\n",
              " 'Heating',\n",
              " 'CentralAir',\n",
              " 'Electrical',\n",
              " 'Functional',\n",
              " 'GarageType',\n",
              " 'GarageFinish',\n",
              " 'PavedDrive',\n",
              " 'SaleType',\n",
              " 'SaleCondition']"
            ]
          },
          "metadata": {},
          "execution_count": 117
        }
      ],
      "source": [
        "z=[]\n",
        "for i in tr2.columns:\n",
        "    if tr2[i].dtypes=='object':\n",
        "        z.append(i)\n",
        "z"
      ]
    },
    {
      "cell_type": "code",
      "execution_count": 118,
      "id": "4c1ed512",
      "metadata": {
        "execution": {
          "iopub.execute_input": "2024-07-04T20:13:14.274139Z",
          "iopub.status.busy": "2024-07-04T20:13:14.273244Z",
          "iopub.status.idle": "2024-07-04T20:13:14.306990Z",
          "shell.execute_reply": "2024-07-04T20:13:14.306138Z"
        },
        "papermill": {
          "duration": 0.065875,
          "end_time": "2024-07-04T20:13:14.309455",
          "exception": false,
          "start_time": "2024-07-04T20:13:14.243580",
          "status": "completed"
        },
        "tags": [],
        "id": "4c1ed512"
      },
      "outputs": [],
      "source": [
        "dummies_df=pd.get_dummies(tr2[z])\n",
        "dummies_df = dummies_df.astype(int)"
      ]
    },
    {
      "cell_type": "code",
      "execution_count": 119,
      "id": "2bcf2352",
      "metadata": {
        "execution": {
          "iopub.execute_input": "2024-07-04T20:13:14.369057Z",
          "iopub.status.busy": "2024-07-04T20:13:14.368185Z",
          "iopub.status.idle": "2024-07-04T20:13:14.388816Z",
          "shell.execute_reply": "2024-07-04T20:13:14.387844Z"
        },
        "papermill": {
          "duration": 0.052935,
          "end_time": "2024-07-04T20:13:14.391162",
          "exception": false,
          "start_time": "2024-07-04T20:13:14.338227",
          "status": "completed"
        },
        "tags": [],
        "colab": {
          "base_uri": "https://localhost:8080/",
          "height": 461
        },
        "id": "2bcf2352",
        "outputId": "47913d5e-9cab-4c31-97a3-1a4f7a3345a0"
      },
      "outputs": [
        {
          "output_type": "execute_result",
          "data": {
            "text/plain": [
              "      MSZoning_C (all)  MSZoning_FV  MSZoning_RH  MSZoning_RL  MSZoning_RM  \\\n",
              "0                    0            0            0            1            0   \n",
              "1                    0            0            0            1            0   \n",
              "2                    0            0            0            1            0   \n",
              "3                    0            0            0            1            0   \n",
              "4                    0            0            0            1            0   \n",
              "...                ...          ...          ...          ...          ...   \n",
              "1455                 0            0            0            1            0   \n",
              "1456                 0            0            0            1            0   \n",
              "1457                 0            0            0            1            0   \n",
              "1458                 0            0            0            1            0   \n",
              "1459                 0            0            0            1            0   \n",
              "\n",
              "      Street_Grvl  Street_Pave  LotShape_IR1  LotShape_IR2  LotShape_IR3  ...  \\\n",
              "0               0            1             0             0             0  ...   \n",
              "1               0            1             0             0             0  ...   \n",
              "2               0            1             1             0             0  ...   \n",
              "3               0            1             1             0             0  ...   \n",
              "4               0            1             1             0             0  ...   \n",
              "...           ...          ...           ...           ...           ...  ...   \n",
              "1455            0            1             0             0             0  ...   \n",
              "1456            0            1             0             0             0  ...   \n",
              "1457            0            1             0             0             0  ...   \n",
              "1458            0            1             0             0             0  ...   \n",
              "1459            0            1             0             0             0  ...   \n",
              "\n",
              "      SaleType_ConLw  SaleType_New  SaleType_Oth  SaleType_WD  \\\n",
              "0                  0             0             0            1   \n",
              "1                  0             0             0            1   \n",
              "2                  0             0             0            1   \n",
              "3                  0             0             0            1   \n",
              "4                  0             0             0            1   \n",
              "...              ...           ...           ...          ...   \n",
              "1455               0             0             0            1   \n",
              "1456               0             0             0            1   \n",
              "1457               0             0             0            1   \n",
              "1458               0             0             0            1   \n",
              "1459               0             0             0            1   \n",
              "\n",
              "      SaleCondition_Abnorml  SaleCondition_AdjLand  SaleCondition_Alloca  \\\n",
              "0                         0                      0                     0   \n",
              "1                         0                      0                     0   \n",
              "2                         0                      0                     0   \n",
              "3                         1                      0                     0   \n",
              "4                         0                      0                     0   \n",
              "...                     ...                    ...                   ...   \n",
              "1455                      0                      0                     0   \n",
              "1456                      0                      0                     0   \n",
              "1457                      0                      0                     0   \n",
              "1458                      0                      0                     0   \n",
              "1459                      0                      0                     0   \n",
              "\n",
              "      SaleCondition_Family  SaleCondition_Normal  SaleCondition_Partial  \n",
              "0                        0                     1                      0  \n",
              "1                        0                     1                      0  \n",
              "2                        0                     1                      0  \n",
              "3                        0                     0                      0  \n",
              "4                        0                     1                      0  \n",
              "...                    ...                   ...                    ...  \n",
              "1455                     0                     1                      0  \n",
              "1456                     0                     1                      0  \n",
              "1457                     0                     1                      0  \n",
              "1458                     0                     1                      0  \n",
              "1459                     0                     1                      0  \n",
              "\n",
              "[1460 rows x 194 columns]"
            ],
            "text/html": [
              "\n",
              "  <div id=\"df-6db23105-5950-405c-8956-d56c5bfcbed0\" class=\"colab-df-container\">\n",
              "    <div>\n",
              "<style scoped>\n",
              "    .dataframe tbody tr th:only-of-type {\n",
              "        vertical-align: middle;\n",
              "    }\n",
              "\n",
              "    .dataframe tbody tr th {\n",
              "        vertical-align: top;\n",
              "    }\n",
              "\n",
              "    .dataframe thead th {\n",
              "        text-align: right;\n",
              "    }\n",
              "</style>\n",
              "<table border=\"1\" class=\"dataframe\">\n",
              "  <thead>\n",
              "    <tr style=\"text-align: right;\">\n",
              "      <th></th>\n",
              "      <th>MSZoning_C (all)</th>\n",
              "      <th>MSZoning_FV</th>\n",
              "      <th>MSZoning_RH</th>\n",
              "      <th>MSZoning_RL</th>\n",
              "      <th>MSZoning_RM</th>\n",
              "      <th>Street_Grvl</th>\n",
              "      <th>Street_Pave</th>\n",
              "      <th>LotShape_IR1</th>\n",
              "      <th>LotShape_IR2</th>\n",
              "      <th>LotShape_IR3</th>\n",
              "      <th>...</th>\n",
              "      <th>SaleType_ConLw</th>\n",
              "      <th>SaleType_New</th>\n",
              "      <th>SaleType_Oth</th>\n",
              "      <th>SaleType_WD</th>\n",
              "      <th>SaleCondition_Abnorml</th>\n",
              "      <th>SaleCondition_AdjLand</th>\n",
              "      <th>SaleCondition_Alloca</th>\n",
              "      <th>SaleCondition_Family</th>\n",
              "      <th>SaleCondition_Normal</th>\n",
              "      <th>SaleCondition_Partial</th>\n",
              "    </tr>\n",
              "  </thead>\n",
              "  <tbody>\n",
              "    <tr>\n",
              "      <th>0</th>\n",
              "      <td>0</td>\n",
              "      <td>0</td>\n",
              "      <td>0</td>\n",
              "      <td>1</td>\n",
              "      <td>0</td>\n",
              "      <td>0</td>\n",
              "      <td>1</td>\n",
              "      <td>0</td>\n",
              "      <td>0</td>\n",
              "      <td>0</td>\n",
              "      <td>...</td>\n",
              "      <td>0</td>\n",
              "      <td>0</td>\n",
              "      <td>0</td>\n",
              "      <td>1</td>\n",
              "      <td>0</td>\n",
              "      <td>0</td>\n",
              "      <td>0</td>\n",
              "      <td>0</td>\n",
              "      <td>1</td>\n",
              "      <td>0</td>\n",
              "    </tr>\n",
              "    <tr>\n",
              "      <th>1</th>\n",
              "      <td>0</td>\n",
              "      <td>0</td>\n",
              "      <td>0</td>\n",
              "      <td>1</td>\n",
              "      <td>0</td>\n",
              "      <td>0</td>\n",
              "      <td>1</td>\n",
              "      <td>0</td>\n",
              "      <td>0</td>\n",
              "      <td>0</td>\n",
              "      <td>...</td>\n",
              "      <td>0</td>\n",
              "      <td>0</td>\n",
              "      <td>0</td>\n",
              "      <td>1</td>\n",
              "      <td>0</td>\n",
              "      <td>0</td>\n",
              "      <td>0</td>\n",
              "      <td>0</td>\n",
              "      <td>1</td>\n",
              "      <td>0</td>\n",
              "    </tr>\n",
              "    <tr>\n",
              "      <th>2</th>\n",
              "      <td>0</td>\n",
              "      <td>0</td>\n",
              "      <td>0</td>\n",
              "      <td>1</td>\n",
              "      <td>0</td>\n",
              "      <td>0</td>\n",
              "      <td>1</td>\n",
              "      <td>1</td>\n",
              "      <td>0</td>\n",
              "      <td>0</td>\n",
              "      <td>...</td>\n",
              "      <td>0</td>\n",
              "      <td>0</td>\n",
              "      <td>0</td>\n",
              "      <td>1</td>\n",
              "      <td>0</td>\n",
              "      <td>0</td>\n",
              "      <td>0</td>\n",
              "      <td>0</td>\n",
              "      <td>1</td>\n",
              "      <td>0</td>\n",
              "    </tr>\n",
              "    <tr>\n",
              "      <th>3</th>\n",
              "      <td>0</td>\n",
              "      <td>0</td>\n",
              "      <td>0</td>\n",
              "      <td>1</td>\n",
              "      <td>0</td>\n",
              "      <td>0</td>\n",
              "      <td>1</td>\n",
              "      <td>1</td>\n",
              "      <td>0</td>\n",
              "      <td>0</td>\n",
              "      <td>...</td>\n",
              "      <td>0</td>\n",
              "      <td>0</td>\n",
              "      <td>0</td>\n",
              "      <td>1</td>\n",
              "      <td>1</td>\n",
              "      <td>0</td>\n",
              "      <td>0</td>\n",
              "      <td>0</td>\n",
              "      <td>0</td>\n",
              "      <td>0</td>\n",
              "    </tr>\n",
              "    <tr>\n",
              "      <th>4</th>\n",
              "      <td>0</td>\n",
              "      <td>0</td>\n",
              "      <td>0</td>\n",
              "      <td>1</td>\n",
              "      <td>0</td>\n",
              "      <td>0</td>\n",
              "      <td>1</td>\n",
              "      <td>1</td>\n",
              "      <td>0</td>\n",
              "      <td>0</td>\n",
              "      <td>...</td>\n",
              "      <td>0</td>\n",
              "      <td>0</td>\n",
              "      <td>0</td>\n",
              "      <td>1</td>\n",
              "      <td>0</td>\n",
              "      <td>0</td>\n",
              "      <td>0</td>\n",
              "      <td>0</td>\n",
              "      <td>1</td>\n",
              "      <td>0</td>\n",
              "    </tr>\n",
              "    <tr>\n",
              "      <th>...</th>\n",
              "      <td>...</td>\n",
              "      <td>...</td>\n",
              "      <td>...</td>\n",
              "      <td>...</td>\n",
              "      <td>...</td>\n",
              "      <td>...</td>\n",
              "      <td>...</td>\n",
              "      <td>...</td>\n",
              "      <td>...</td>\n",
              "      <td>...</td>\n",
              "      <td>...</td>\n",
              "      <td>...</td>\n",
              "      <td>...</td>\n",
              "      <td>...</td>\n",
              "      <td>...</td>\n",
              "      <td>...</td>\n",
              "      <td>...</td>\n",
              "      <td>...</td>\n",
              "      <td>...</td>\n",
              "      <td>...</td>\n",
              "      <td>...</td>\n",
              "    </tr>\n",
              "    <tr>\n",
              "      <th>1455</th>\n",
              "      <td>0</td>\n",
              "      <td>0</td>\n",
              "      <td>0</td>\n",
              "      <td>1</td>\n",
              "      <td>0</td>\n",
              "      <td>0</td>\n",
              "      <td>1</td>\n",
              "      <td>0</td>\n",
              "      <td>0</td>\n",
              "      <td>0</td>\n",
              "      <td>...</td>\n",
              "      <td>0</td>\n",
              "      <td>0</td>\n",
              "      <td>0</td>\n",
              "      <td>1</td>\n",
              "      <td>0</td>\n",
              "      <td>0</td>\n",
              "      <td>0</td>\n",
              "      <td>0</td>\n",
              "      <td>1</td>\n",
              "      <td>0</td>\n",
              "    </tr>\n",
              "    <tr>\n",
              "      <th>1456</th>\n",
              "      <td>0</td>\n",
              "      <td>0</td>\n",
              "      <td>0</td>\n",
              "      <td>1</td>\n",
              "      <td>0</td>\n",
              "      <td>0</td>\n",
              "      <td>1</td>\n",
              "      <td>0</td>\n",
              "      <td>0</td>\n",
              "      <td>0</td>\n",
              "      <td>...</td>\n",
              "      <td>0</td>\n",
              "      <td>0</td>\n",
              "      <td>0</td>\n",
              "      <td>1</td>\n",
              "      <td>0</td>\n",
              "      <td>0</td>\n",
              "      <td>0</td>\n",
              "      <td>0</td>\n",
              "      <td>1</td>\n",
              "      <td>0</td>\n",
              "    </tr>\n",
              "    <tr>\n",
              "      <th>1457</th>\n",
              "      <td>0</td>\n",
              "      <td>0</td>\n",
              "      <td>0</td>\n",
              "      <td>1</td>\n",
              "      <td>0</td>\n",
              "      <td>0</td>\n",
              "      <td>1</td>\n",
              "      <td>0</td>\n",
              "      <td>0</td>\n",
              "      <td>0</td>\n",
              "      <td>...</td>\n",
              "      <td>0</td>\n",
              "      <td>0</td>\n",
              "      <td>0</td>\n",
              "      <td>1</td>\n",
              "      <td>0</td>\n",
              "      <td>0</td>\n",
              "      <td>0</td>\n",
              "      <td>0</td>\n",
              "      <td>1</td>\n",
              "      <td>0</td>\n",
              "    </tr>\n",
              "    <tr>\n",
              "      <th>1458</th>\n",
              "      <td>0</td>\n",
              "      <td>0</td>\n",
              "      <td>0</td>\n",
              "      <td>1</td>\n",
              "      <td>0</td>\n",
              "      <td>0</td>\n",
              "      <td>1</td>\n",
              "      <td>0</td>\n",
              "      <td>0</td>\n",
              "      <td>0</td>\n",
              "      <td>...</td>\n",
              "      <td>0</td>\n",
              "      <td>0</td>\n",
              "      <td>0</td>\n",
              "      <td>1</td>\n",
              "      <td>0</td>\n",
              "      <td>0</td>\n",
              "      <td>0</td>\n",
              "      <td>0</td>\n",
              "      <td>1</td>\n",
              "      <td>0</td>\n",
              "    </tr>\n",
              "    <tr>\n",
              "      <th>1459</th>\n",
              "      <td>0</td>\n",
              "      <td>0</td>\n",
              "      <td>0</td>\n",
              "      <td>1</td>\n",
              "      <td>0</td>\n",
              "      <td>0</td>\n",
              "      <td>1</td>\n",
              "      <td>0</td>\n",
              "      <td>0</td>\n",
              "      <td>0</td>\n",
              "      <td>...</td>\n",
              "      <td>0</td>\n",
              "      <td>0</td>\n",
              "      <td>0</td>\n",
              "      <td>1</td>\n",
              "      <td>0</td>\n",
              "      <td>0</td>\n",
              "      <td>0</td>\n",
              "      <td>0</td>\n",
              "      <td>1</td>\n",
              "      <td>0</td>\n",
              "    </tr>\n",
              "  </tbody>\n",
              "</table>\n",
              "<p>1460 rows × 194 columns</p>\n",
              "</div>\n",
              "    <div class=\"colab-df-buttons\">\n",
              "\n",
              "  <div class=\"colab-df-container\">\n",
              "    <button class=\"colab-df-convert\" onclick=\"convertToInteractive('df-6db23105-5950-405c-8956-d56c5bfcbed0')\"\n",
              "            title=\"Convert this dataframe to an interactive table.\"\n",
              "            style=\"display:none;\">\n",
              "\n",
              "  <svg xmlns=\"http://www.w3.org/2000/svg\" height=\"24px\" viewBox=\"0 -960 960 960\">\n",
              "    <path d=\"M120-120v-720h720v720H120Zm60-500h600v-160H180v160Zm220 220h160v-160H400v160Zm0 220h160v-160H400v160ZM180-400h160v-160H180v160Zm440 0h160v-160H620v160ZM180-180h160v-160H180v160Zm440 0h160v-160H620v160Z\"/>\n",
              "  </svg>\n",
              "    </button>\n",
              "\n",
              "  <style>\n",
              "    .colab-df-container {\n",
              "      display:flex;\n",
              "      gap: 12px;\n",
              "    }\n",
              "\n",
              "    .colab-df-convert {\n",
              "      background-color: #E8F0FE;\n",
              "      border: none;\n",
              "      border-radius: 50%;\n",
              "      cursor: pointer;\n",
              "      display: none;\n",
              "      fill: #1967D2;\n",
              "      height: 32px;\n",
              "      padding: 0 0 0 0;\n",
              "      width: 32px;\n",
              "    }\n",
              "\n",
              "    .colab-df-convert:hover {\n",
              "      background-color: #E2EBFA;\n",
              "      box-shadow: 0px 1px 2px rgba(60, 64, 67, 0.3), 0px 1px 3px 1px rgba(60, 64, 67, 0.15);\n",
              "      fill: #174EA6;\n",
              "    }\n",
              "\n",
              "    .colab-df-buttons div {\n",
              "      margin-bottom: 4px;\n",
              "    }\n",
              "\n",
              "    [theme=dark] .colab-df-convert {\n",
              "      background-color: #3B4455;\n",
              "      fill: #D2E3FC;\n",
              "    }\n",
              "\n",
              "    [theme=dark] .colab-df-convert:hover {\n",
              "      background-color: #434B5C;\n",
              "      box-shadow: 0px 1px 3px 1px rgba(0, 0, 0, 0.15);\n",
              "      filter: drop-shadow(0px 1px 2px rgba(0, 0, 0, 0.3));\n",
              "      fill: #FFFFFF;\n",
              "    }\n",
              "  </style>\n",
              "\n",
              "    <script>\n",
              "      const buttonEl =\n",
              "        document.querySelector('#df-6db23105-5950-405c-8956-d56c5bfcbed0 button.colab-df-convert');\n",
              "      buttonEl.style.display =\n",
              "        google.colab.kernel.accessAllowed ? 'block' : 'none';\n",
              "\n",
              "      async function convertToInteractive(key) {\n",
              "        const element = document.querySelector('#df-6db23105-5950-405c-8956-d56c5bfcbed0');\n",
              "        const dataTable =\n",
              "          await google.colab.kernel.invokeFunction('convertToInteractive',\n",
              "                                                    [key], {});\n",
              "        if (!dataTable) return;\n",
              "\n",
              "        const docLinkHtml = 'Like what you see? Visit the ' +\n",
              "          '<a target=\"_blank\" href=https://colab.research.google.com/notebooks/data_table.ipynb>data table notebook</a>'\n",
              "          + ' to learn more about interactive tables.';\n",
              "        element.innerHTML = '';\n",
              "        dataTable['output_type'] = 'display_data';\n",
              "        await google.colab.output.renderOutput(dataTable, element);\n",
              "        const docLink = document.createElement('div');\n",
              "        docLink.innerHTML = docLinkHtml;\n",
              "        element.appendChild(docLink);\n",
              "      }\n",
              "    </script>\n",
              "  </div>\n",
              "\n",
              "\n",
              "<div id=\"df-86e18e7e-7ef9-4d6d-b8a5-a20ac0f3120e\">\n",
              "  <button class=\"colab-df-quickchart\" onclick=\"quickchart('df-86e18e7e-7ef9-4d6d-b8a5-a20ac0f3120e')\"\n",
              "            title=\"Suggest charts\"\n",
              "            style=\"display:none;\">\n",
              "\n",
              "<svg xmlns=\"http://www.w3.org/2000/svg\" height=\"24px\"viewBox=\"0 0 24 24\"\n",
              "     width=\"24px\">\n",
              "    <g>\n",
              "        <path d=\"M19 3H5c-1.1 0-2 .9-2 2v14c0 1.1.9 2 2 2h14c1.1 0 2-.9 2-2V5c0-1.1-.9-2-2-2zM9 17H7v-7h2v7zm4 0h-2V7h2v10zm4 0h-2v-4h2v4z\"/>\n",
              "    </g>\n",
              "</svg>\n",
              "  </button>\n",
              "\n",
              "<style>\n",
              "  .colab-df-quickchart {\n",
              "      --bg-color: #E8F0FE;\n",
              "      --fill-color: #1967D2;\n",
              "      --hover-bg-color: #E2EBFA;\n",
              "      --hover-fill-color: #174EA6;\n",
              "      --disabled-fill-color: #AAA;\n",
              "      --disabled-bg-color: #DDD;\n",
              "  }\n",
              "\n",
              "  [theme=dark] .colab-df-quickchart {\n",
              "      --bg-color: #3B4455;\n",
              "      --fill-color: #D2E3FC;\n",
              "      --hover-bg-color: #434B5C;\n",
              "      --hover-fill-color: #FFFFFF;\n",
              "      --disabled-bg-color: #3B4455;\n",
              "      --disabled-fill-color: #666;\n",
              "  }\n",
              "\n",
              "  .colab-df-quickchart {\n",
              "    background-color: var(--bg-color);\n",
              "    border: none;\n",
              "    border-radius: 50%;\n",
              "    cursor: pointer;\n",
              "    display: none;\n",
              "    fill: var(--fill-color);\n",
              "    height: 32px;\n",
              "    padding: 0;\n",
              "    width: 32px;\n",
              "  }\n",
              "\n",
              "  .colab-df-quickchart:hover {\n",
              "    background-color: var(--hover-bg-color);\n",
              "    box-shadow: 0 1px 2px rgba(60, 64, 67, 0.3), 0 1px 3px 1px rgba(60, 64, 67, 0.15);\n",
              "    fill: var(--button-hover-fill-color);\n",
              "  }\n",
              "\n",
              "  .colab-df-quickchart-complete:disabled,\n",
              "  .colab-df-quickchart-complete:disabled:hover {\n",
              "    background-color: var(--disabled-bg-color);\n",
              "    fill: var(--disabled-fill-color);\n",
              "    box-shadow: none;\n",
              "  }\n",
              "\n",
              "  .colab-df-spinner {\n",
              "    border: 2px solid var(--fill-color);\n",
              "    border-color: transparent;\n",
              "    border-bottom-color: var(--fill-color);\n",
              "    animation:\n",
              "      spin 1s steps(1) infinite;\n",
              "  }\n",
              "\n",
              "  @keyframes spin {\n",
              "    0% {\n",
              "      border-color: transparent;\n",
              "      border-bottom-color: var(--fill-color);\n",
              "      border-left-color: var(--fill-color);\n",
              "    }\n",
              "    20% {\n",
              "      border-color: transparent;\n",
              "      border-left-color: var(--fill-color);\n",
              "      border-top-color: var(--fill-color);\n",
              "    }\n",
              "    30% {\n",
              "      border-color: transparent;\n",
              "      border-left-color: var(--fill-color);\n",
              "      border-top-color: var(--fill-color);\n",
              "      border-right-color: var(--fill-color);\n",
              "    }\n",
              "    40% {\n",
              "      border-color: transparent;\n",
              "      border-right-color: var(--fill-color);\n",
              "      border-top-color: var(--fill-color);\n",
              "    }\n",
              "    60% {\n",
              "      border-color: transparent;\n",
              "      border-right-color: var(--fill-color);\n",
              "    }\n",
              "    80% {\n",
              "      border-color: transparent;\n",
              "      border-right-color: var(--fill-color);\n",
              "      border-bottom-color: var(--fill-color);\n",
              "    }\n",
              "    90% {\n",
              "      border-color: transparent;\n",
              "      border-bottom-color: var(--fill-color);\n",
              "    }\n",
              "  }\n",
              "</style>\n",
              "\n",
              "  <script>\n",
              "    async function quickchart(key) {\n",
              "      const quickchartButtonEl =\n",
              "        document.querySelector('#' + key + ' button');\n",
              "      quickchartButtonEl.disabled = true;  // To prevent multiple clicks.\n",
              "      quickchartButtonEl.classList.add('colab-df-spinner');\n",
              "      try {\n",
              "        const charts = await google.colab.kernel.invokeFunction(\n",
              "            'suggestCharts', [key], {});\n",
              "      } catch (error) {\n",
              "        console.error('Error during call to suggestCharts:', error);\n",
              "      }\n",
              "      quickchartButtonEl.classList.remove('colab-df-spinner');\n",
              "      quickchartButtonEl.classList.add('colab-df-quickchart-complete');\n",
              "    }\n",
              "    (() => {\n",
              "      let quickchartButtonEl =\n",
              "        document.querySelector('#df-86e18e7e-7ef9-4d6d-b8a5-a20ac0f3120e button');\n",
              "      quickchartButtonEl.style.display =\n",
              "        google.colab.kernel.accessAllowed ? 'block' : 'none';\n",
              "    })();\n",
              "  </script>\n",
              "</div>\n",
              "\n",
              "  <div id=\"id_00c2cf94-a597-4755-b4e4-2981ecabbfd2\">\n",
              "    <style>\n",
              "      .colab-df-generate {\n",
              "        background-color: #E8F0FE;\n",
              "        border: none;\n",
              "        border-radius: 50%;\n",
              "        cursor: pointer;\n",
              "        display: none;\n",
              "        fill: #1967D2;\n",
              "        height: 32px;\n",
              "        padding: 0 0 0 0;\n",
              "        width: 32px;\n",
              "      }\n",
              "\n",
              "      .colab-df-generate:hover {\n",
              "        background-color: #E2EBFA;\n",
              "        box-shadow: 0px 1px 2px rgba(60, 64, 67, 0.3), 0px 1px 3px 1px rgba(60, 64, 67, 0.15);\n",
              "        fill: #174EA6;\n",
              "      }\n",
              "\n",
              "      [theme=dark] .colab-df-generate {\n",
              "        background-color: #3B4455;\n",
              "        fill: #D2E3FC;\n",
              "      }\n",
              "\n",
              "      [theme=dark] .colab-df-generate:hover {\n",
              "        background-color: #434B5C;\n",
              "        box-shadow: 0px 1px 3px 1px rgba(0, 0, 0, 0.15);\n",
              "        filter: drop-shadow(0px 1px 2px rgba(0, 0, 0, 0.3));\n",
              "        fill: #FFFFFF;\n",
              "      }\n",
              "    </style>\n",
              "    <button class=\"colab-df-generate\" onclick=\"generateWithVariable('dummies_df')\"\n",
              "            title=\"Generate code using this dataframe.\"\n",
              "            style=\"display:none;\">\n",
              "\n",
              "  <svg xmlns=\"http://www.w3.org/2000/svg\" height=\"24px\"viewBox=\"0 0 24 24\"\n",
              "       width=\"24px\">\n",
              "    <path d=\"M7,19H8.4L18.45,9,17,7.55,7,17.6ZM5,21V16.75L18.45,3.32a2,2,0,0,1,2.83,0l1.4,1.43a1.91,1.91,0,0,1,.58,1.4,1.91,1.91,0,0,1-.58,1.4L9.25,21ZM18.45,9,17,7.55Zm-12,3A5.31,5.31,0,0,0,4.9,8.1,5.31,5.31,0,0,0,1,6.5,5.31,5.31,0,0,0,4.9,4.9,5.31,5.31,0,0,0,6.5,1,5.31,5.31,0,0,0,8.1,4.9,5.31,5.31,0,0,0,12,6.5,5.46,5.46,0,0,0,6.5,12Z\"/>\n",
              "  </svg>\n",
              "    </button>\n",
              "    <script>\n",
              "      (() => {\n",
              "      const buttonEl =\n",
              "        document.querySelector('#id_00c2cf94-a597-4755-b4e4-2981ecabbfd2 button.colab-df-generate');\n",
              "      buttonEl.style.display =\n",
              "        google.colab.kernel.accessAllowed ? 'block' : 'none';\n",
              "\n",
              "      buttonEl.onclick = () => {\n",
              "        google.colab.notebook.generateWithVariable('dummies_df');\n",
              "      }\n",
              "      })();\n",
              "    </script>\n",
              "  </div>\n",
              "\n",
              "    </div>\n",
              "  </div>\n"
            ],
            "application/vnd.google.colaboratory.intrinsic+json": {
              "type": "dataframe",
              "variable_name": "dummies_df"
            }
          },
          "metadata": {},
          "execution_count": 119
        }
      ],
      "source": [
        "dummies_df"
      ]
    },
    {
      "cell_type": "code",
      "execution_count": 120,
      "id": "8c525b86",
      "metadata": {
        "execution": {
          "iopub.execute_input": "2024-07-04T20:13:14.453557Z",
          "iopub.status.busy": "2024-07-04T20:13:14.452439Z",
          "iopub.status.idle": "2024-07-04T20:13:14.466733Z",
          "shell.execute_reply": "2024-07-04T20:13:14.465724Z"
        },
        "papermill": {
          "duration": 0.048159,
          "end_time": "2024-07-04T20:13:14.469011",
          "exception": false,
          "start_time": "2024-07-04T20:13:14.420852",
          "status": "completed"
        },
        "tags": [],
        "id": "8c525b86"
      },
      "outputs": [],
      "source": [
        "tr3 = pd.concat([tr2, dummies_df], axis=1)"
      ]
    },
    {
      "cell_type": "code",
      "execution_count": 121,
      "id": "2c427ade",
      "metadata": {
        "execution": {
          "iopub.execute_input": "2024-07-04T20:13:14.530184Z",
          "iopub.status.busy": "2024-07-04T20:13:14.529520Z",
          "iopub.status.idle": "2024-07-04T20:13:14.536118Z",
          "shell.execute_reply": "2024-07-04T20:13:14.535292Z"
        },
        "papermill": {
          "duration": 0.039395,
          "end_time": "2024-07-04T20:13:14.538226",
          "exception": false,
          "start_time": "2024-07-04T20:13:14.498831",
          "status": "completed"
        },
        "tags": [],
        "id": "2c427ade"
      },
      "outputs": [],
      "source": [
        "tr4=tr3.drop(columns=z)\n",
        "#Removing one-hot encoded columns"
      ]
    },
    {
      "cell_type": "code",
      "execution_count": 122,
      "id": "e5cc381e",
      "metadata": {
        "execution": {
          "iopub.execute_input": "2024-07-04T20:13:14.598457Z",
          "iopub.status.busy": "2024-07-04T20:13:14.597805Z",
          "iopub.status.idle": "2024-07-04T20:13:14.616461Z",
          "shell.execute_reply": "2024-07-04T20:13:14.615230Z"
        },
        "papermill": {
          "duration": 0.051307,
          "end_time": "2024-07-04T20:13:14.618689",
          "exception": false,
          "start_time": "2024-07-04T20:13:14.567382",
          "status": "completed"
        },
        "tags": [],
        "colab": {
          "base_uri": "https://localhost:8080/",
          "height": 255
        },
        "id": "e5cc381e",
        "outputId": "e5b560a2-2916-4e23-b2b2-3c95c79a4742"
      },
      "outputs": [
        {
          "output_type": "execute_result",
          "data": {
            "text/plain": [
              "   MSSubClass  LotFrontage  LotArea  OverallQual  OverallCond  YearBuilt  \\\n",
              "0          60         65.0     8450            7            5       2003   \n",
              "1          20         80.0     9600            6            8       1976   \n",
              "2          60         68.0    11250            7            5       2001   \n",
              "3          70         60.0     9550            7            5       1915   \n",
              "4          60         84.0    14260            8            5       2000   \n",
              "\n",
              "   YearRemodAdd  MasVnrArea  ExterQual  ExterCond  ...  SaleType_ConLw  \\\n",
              "0          2003       196.0          4          3  ...               0   \n",
              "1          1976         0.0          3          3  ...               0   \n",
              "2          2002       162.0          4          3  ...               0   \n",
              "3          1970         0.0          3          3  ...               0   \n",
              "4          2000       350.0          4          3  ...               0   \n",
              "\n",
              "   SaleType_New  SaleType_Oth  SaleType_WD  SaleCondition_Abnorml  \\\n",
              "0             0             0            1                      0   \n",
              "1             0             0            1                      0   \n",
              "2             0             0            1                      0   \n",
              "3             0             0            1                      1   \n",
              "4             0             0            1                      0   \n",
              "\n",
              "   SaleCondition_AdjLand  SaleCondition_Alloca  SaleCondition_Family  \\\n",
              "0                      0                     0                     0   \n",
              "1                      0                     0                     0   \n",
              "2                      0                     0                     0   \n",
              "3                      0                     0                     0   \n",
              "4                      0                     0                     0   \n",
              "\n",
              "   SaleCondition_Normal  SaleCondition_Partial  \n",
              "0                     1                      0  \n",
              "1                     1                      0  \n",
              "2                     1                      0  \n",
              "3                     0                      0  \n",
              "4                     1                      0  \n",
              "\n",
              "[5 rows x 241 columns]"
            ],
            "text/html": [
              "\n",
              "  <div id=\"df-b7945653-9df2-49ad-a095-a8b750e4ba7f\" class=\"colab-df-container\">\n",
              "    <div>\n",
              "<style scoped>\n",
              "    .dataframe tbody tr th:only-of-type {\n",
              "        vertical-align: middle;\n",
              "    }\n",
              "\n",
              "    .dataframe tbody tr th {\n",
              "        vertical-align: top;\n",
              "    }\n",
              "\n",
              "    .dataframe thead th {\n",
              "        text-align: right;\n",
              "    }\n",
              "</style>\n",
              "<table border=\"1\" class=\"dataframe\">\n",
              "  <thead>\n",
              "    <tr style=\"text-align: right;\">\n",
              "      <th></th>\n",
              "      <th>MSSubClass</th>\n",
              "      <th>LotFrontage</th>\n",
              "      <th>LotArea</th>\n",
              "      <th>OverallQual</th>\n",
              "      <th>OverallCond</th>\n",
              "      <th>YearBuilt</th>\n",
              "      <th>YearRemodAdd</th>\n",
              "      <th>MasVnrArea</th>\n",
              "      <th>ExterQual</th>\n",
              "      <th>ExterCond</th>\n",
              "      <th>...</th>\n",
              "      <th>SaleType_ConLw</th>\n",
              "      <th>SaleType_New</th>\n",
              "      <th>SaleType_Oth</th>\n",
              "      <th>SaleType_WD</th>\n",
              "      <th>SaleCondition_Abnorml</th>\n",
              "      <th>SaleCondition_AdjLand</th>\n",
              "      <th>SaleCondition_Alloca</th>\n",
              "      <th>SaleCondition_Family</th>\n",
              "      <th>SaleCondition_Normal</th>\n",
              "      <th>SaleCondition_Partial</th>\n",
              "    </tr>\n",
              "  </thead>\n",
              "  <tbody>\n",
              "    <tr>\n",
              "      <th>0</th>\n",
              "      <td>60</td>\n",
              "      <td>65.0</td>\n",
              "      <td>8450</td>\n",
              "      <td>7</td>\n",
              "      <td>5</td>\n",
              "      <td>2003</td>\n",
              "      <td>2003</td>\n",
              "      <td>196.0</td>\n",
              "      <td>4</td>\n",
              "      <td>3</td>\n",
              "      <td>...</td>\n",
              "      <td>0</td>\n",
              "      <td>0</td>\n",
              "      <td>0</td>\n",
              "      <td>1</td>\n",
              "      <td>0</td>\n",
              "      <td>0</td>\n",
              "      <td>0</td>\n",
              "      <td>0</td>\n",
              "      <td>1</td>\n",
              "      <td>0</td>\n",
              "    </tr>\n",
              "    <tr>\n",
              "      <th>1</th>\n",
              "      <td>20</td>\n",
              "      <td>80.0</td>\n",
              "      <td>9600</td>\n",
              "      <td>6</td>\n",
              "      <td>8</td>\n",
              "      <td>1976</td>\n",
              "      <td>1976</td>\n",
              "      <td>0.0</td>\n",
              "      <td>3</td>\n",
              "      <td>3</td>\n",
              "      <td>...</td>\n",
              "      <td>0</td>\n",
              "      <td>0</td>\n",
              "      <td>0</td>\n",
              "      <td>1</td>\n",
              "      <td>0</td>\n",
              "      <td>0</td>\n",
              "      <td>0</td>\n",
              "      <td>0</td>\n",
              "      <td>1</td>\n",
              "      <td>0</td>\n",
              "    </tr>\n",
              "    <tr>\n",
              "      <th>2</th>\n",
              "      <td>60</td>\n",
              "      <td>68.0</td>\n",
              "      <td>11250</td>\n",
              "      <td>7</td>\n",
              "      <td>5</td>\n",
              "      <td>2001</td>\n",
              "      <td>2002</td>\n",
              "      <td>162.0</td>\n",
              "      <td>4</td>\n",
              "      <td>3</td>\n",
              "      <td>...</td>\n",
              "      <td>0</td>\n",
              "      <td>0</td>\n",
              "      <td>0</td>\n",
              "      <td>1</td>\n",
              "      <td>0</td>\n",
              "      <td>0</td>\n",
              "      <td>0</td>\n",
              "      <td>0</td>\n",
              "      <td>1</td>\n",
              "      <td>0</td>\n",
              "    </tr>\n",
              "    <tr>\n",
              "      <th>3</th>\n",
              "      <td>70</td>\n",
              "      <td>60.0</td>\n",
              "      <td>9550</td>\n",
              "      <td>7</td>\n",
              "      <td>5</td>\n",
              "      <td>1915</td>\n",
              "      <td>1970</td>\n",
              "      <td>0.0</td>\n",
              "      <td>3</td>\n",
              "      <td>3</td>\n",
              "      <td>...</td>\n",
              "      <td>0</td>\n",
              "      <td>0</td>\n",
              "      <td>0</td>\n",
              "      <td>1</td>\n",
              "      <td>1</td>\n",
              "      <td>0</td>\n",
              "      <td>0</td>\n",
              "      <td>0</td>\n",
              "      <td>0</td>\n",
              "      <td>0</td>\n",
              "    </tr>\n",
              "    <tr>\n",
              "      <th>4</th>\n",
              "      <td>60</td>\n",
              "      <td>84.0</td>\n",
              "      <td>14260</td>\n",
              "      <td>8</td>\n",
              "      <td>5</td>\n",
              "      <td>2000</td>\n",
              "      <td>2000</td>\n",
              "      <td>350.0</td>\n",
              "      <td>4</td>\n",
              "      <td>3</td>\n",
              "      <td>...</td>\n",
              "      <td>0</td>\n",
              "      <td>0</td>\n",
              "      <td>0</td>\n",
              "      <td>1</td>\n",
              "      <td>0</td>\n",
              "      <td>0</td>\n",
              "      <td>0</td>\n",
              "      <td>0</td>\n",
              "      <td>1</td>\n",
              "      <td>0</td>\n",
              "    </tr>\n",
              "  </tbody>\n",
              "</table>\n",
              "<p>5 rows × 241 columns</p>\n",
              "</div>\n",
              "    <div class=\"colab-df-buttons\">\n",
              "\n",
              "  <div class=\"colab-df-container\">\n",
              "    <button class=\"colab-df-convert\" onclick=\"convertToInteractive('df-b7945653-9df2-49ad-a095-a8b750e4ba7f')\"\n",
              "            title=\"Convert this dataframe to an interactive table.\"\n",
              "            style=\"display:none;\">\n",
              "\n",
              "  <svg xmlns=\"http://www.w3.org/2000/svg\" height=\"24px\" viewBox=\"0 -960 960 960\">\n",
              "    <path d=\"M120-120v-720h720v720H120Zm60-500h600v-160H180v160Zm220 220h160v-160H400v160Zm0 220h160v-160H400v160ZM180-400h160v-160H180v160Zm440 0h160v-160H620v160ZM180-180h160v-160H180v160Zm440 0h160v-160H620v160Z\"/>\n",
              "  </svg>\n",
              "    </button>\n",
              "\n",
              "  <style>\n",
              "    .colab-df-container {\n",
              "      display:flex;\n",
              "      gap: 12px;\n",
              "    }\n",
              "\n",
              "    .colab-df-convert {\n",
              "      background-color: #E8F0FE;\n",
              "      border: none;\n",
              "      border-radius: 50%;\n",
              "      cursor: pointer;\n",
              "      display: none;\n",
              "      fill: #1967D2;\n",
              "      height: 32px;\n",
              "      padding: 0 0 0 0;\n",
              "      width: 32px;\n",
              "    }\n",
              "\n",
              "    .colab-df-convert:hover {\n",
              "      background-color: #E2EBFA;\n",
              "      box-shadow: 0px 1px 2px rgba(60, 64, 67, 0.3), 0px 1px 3px 1px rgba(60, 64, 67, 0.15);\n",
              "      fill: #174EA6;\n",
              "    }\n",
              "\n",
              "    .colab-df-buttons div {\n",
              "      margin-bottom: 4px;\n",
              "    }\n",
              "\n",
              "    [theme=dark] .colab-df-convert {\n",
              "      background-color: #3B4455;\n",
              "      fill: #D2E3FC;\n",
              "    }\n",
              "\n",
              "    [theme=dark] .colab-df-convert:hover {\n",
              "      background-color: #434B5C;\n",
              "      box-shadow: 0px 1px 3px 1px rgba(0, 0, 0, 0.15);\n",
              "      filter: drop-shadow(0px 1px 2px rgba(0, 0, 0, 0.3));\n",
              "      fill: #FFFFFF;\n",
              "    }\n",
              "  </style>\n",
              "\n",
              "    <script>\n",
              "      const buttonEl =\n",
              "        document.querySelector('#df-b7945653-9df2-49ad-a095-a8b750e4ba7f button.colab-df-convert');\n",
              "      buttonEl.style.display =\n",
              "        google.colab.kernel.accessAllowed ? 'block' : 'none';\n",
              "\n",
              "      async function convertToInteractive(key) {\n",
              "        const element = document.querySelector('#df-b7945653-9df2-49ad-a095-a8b750e4ba7f');\n",
              "        const dataTable =\n",
              "          await google.colab.kernel.invokeFunction('convertToInteractive',\n",
              "                                                    [key], {});\n",
              "        if (!dataTable) return;\n",
              "\n",
              "        const docLinkHtml = 'Like what you see? Visit the ' +\n",
              "          '<a target=\"_blank\" href=https://colab.research.google.com/notebooks/data_table.ipynb>data table notebook</a>'\n",
              "          + ' to learn more about interactive tables.';\n",
              "        element.innerHTML = '';\n",
              "        dataTable['output_type'] = 'display_data';\n",
              "        await google.colab.output.renderOutput(dataTable, element);\n",
              "        const docLink = document.createElement('div');\n",
              "        docLink.innerHTML = docLinkHtml;\n",
              "        element.appendChild(docLink);\n",
              "      }\n",
              "    </script>\n",
              "  </div>\n",
              "\n",
              "\n",
              "<div id=\"df-756337e4-03f5-49ca-a31e-d16878c0f60a\">\n",
              "  <button class=\"colab-df-quickchart\" onclick=\"quickchart('df-756337e4-03f5-49ca-a31e-d16878c0f60a')\"\n",
              "            title=\"Suggest charts\"\n",
              "            style=\"display:none;\">\n",
              "\n",
              "<svg xmlns=\"http://www.w3.org/2000/svg\" height=\"24px\"viewBox=\"0 0 24 24\"\n",
              "     width=\"24px\">\n",
              "    <g>\n",
              "        <path d=\"M19 3H5c-1.1 0-2 .9-2 2v14c0 1.1.9 2 2 2h14c1.1 0 2-.9 2-2V5c0-1.1-.9-2-2-2zM9 17H7v-7h2v7zm4 0h-2V7h2v10zm4 0h-2v-4h2v4z\"/>\n",
              "    </g>\n",
              "</svg>\n",
              "  </button>\n",
              "\n",
              "<style>\n",
              "  .colab-df-quickchart {\n",
              "      --bg-color: #E8F0FE;\n",
              "      --fill-color: #1967D2;\n",
              "      --hover-bg-color: #E2EBFA;\n",
              "      --hover-fill-color: #174EA6;\n",
              "      --disabled-fill-color: #AAA;\n",
              "      --disabled-bg-color: #DDD;\n",
              "  }\n",
              "\n",
              "  [theme=dark] .colab-df-quickchart {\n",
              "      --bg-color: #3B4455;\n",
              "      --fill-color: #D2E3FC;\n",
              "      --hover-bg-color: #434B5C;\n",
              "      --hover-fill-color: #FFFFFF;\n",
              "      --disabled-bg-color: #3B4455;\n",
              "      --disabled-fill-color: #666;\n",
              "  }\n",
              "\n",
              "  .colab-df-quickchart {\n",
              "    background-color: var(--bg-color);\n",
              "    border: none;\n",
              "    border-radius: 50%;\n",
              "    cursor: pointer;\n",
              "    display: none;\n",
              "    fill: var(--fill-color);\n",
              "    height: 32px;\n",
              "    padding: 0;\n",
              "    width: 32px;\n",
              "  }\n",
              "\n",
              "  .colab-df-quickchart:hover {\n",
              "    background-color: var(--hover-bg-color);\n",
              "    box-shadow: 0 1px 2px rgba(60, 64, 67, 0.3), 0 1px 3px 1px rgba(60, 64, 67, 0.15);\n",
              "    fill: var(--button-hover-fill-color);\n",
              "  }\n",
              "\n",
              "  .colab-df-quickchart-complete:disabled,\n",
              "  .colab-df-quickchart-complete:disabled:hover {\n",
              "    background-color: var(--disabled-bg-color);\n",
              "    fill: var(--disabled-fill-color);\n",
              "    box-shadow: none;\n",
              "  }\n",
              "\n",
              "  .colab-df-spinner {\n",
              "    border: 2px solid var(--fill-color);\n",
              "    border-color: transparent;\n",
              "    border-bottom-color: var(--fill-color);\n",
              "    animation:\n",
              "      spin 1s steps(1) infinite;\n",
              "  }\n",
              "\n",
              "  @keyframes spin {\n",
              "    0% {\n",
              "      border-color: transparent;\n",
              "      border-bottom-color: var(--fill-color);\n",
              "      border-left-color: var(--fill-color);\n",
              "    }\n",
              "    20% {\n",
              "      border-color: transparent;\n",
              "      border-left-color: var(--fill-color);\n",
              "      border-top-color: var(--fill-color);\n",
              "    }\n",
              "    30% {\n",
              "      border-color: transparent;\n",
              "      border-left-color: var(--fill-color);\n",
              "      border-top-color: var(--fill-color);\n",
              "      border-right-color: var(--fill-color);\n",
              "    }\n",
              "    40% {\n",
              "      border-color: transparent;\n",
              "      border-right-color: var(--fill-color);\n",
              "      border-top-color: var(--fill-color);\n",
              "    }\n",
              "    60% {\n",
              "      border-color: transparent;\n",
              "      border-right-color: var(--fill-color);\n",
              "    }\n",
              "    80% {\n",
              "      border-color: transparent;\n",
              "      border-right-color: var(--fill-color);\n",
              "      border-bottom-color: var(--fill-color);\n",
              "    }\n",
              "    90% {\n",
              "      border-color: transparent;\n",
              "      border-bottom-color: var(--fill-color);\n",
              "    }\n",
              "  }\n",
              "</style>\n",
              "\n",
              "  <script>\n",
              "    async function quickchart(key) {\n",
              "      const quickchartButtonEl =\n",
              "        document.querySelector('#' + key + ' button');\n",
              "      quickchartButtonEl.disabled = true;  // To prevent multiple clicks.\n",
              "      quickchartButtonEl.classList.add('colab-df-spinner');\n",
              "      try {\n",
              "        const charts = await google.colab.kernel.invokeFunction(\n",
              "            'suggestCharts', [key], {});\n",
              "      } catch (error) {\n",
              "        console.error('Error during call to suggestCharts:', error);\n",
              "      }\n",
              "      quickchartButtonEl.classList.remove('colab-df-spinner');\n",
              "      quickchartButtonEl.classList.add('colab-df-quickchart-complete');\n",
              "    }\n",
              "    (() => {\n",
              "      let quickchartButtonEl =\n",
              "        document.querySelector('#df-756337e4-03f5-49ca-a31e-d16878c0f60a button');\n",
              "      quickchartButtonEl.style.display =\n",
              "        google.colab.kernel.accessAllowed ? 'block' : 'none';\n",
              "    })();\n",
              "  </script>\n",
              "</div>\n",
              "\n",
              "    </div>\n",
              "  </div>\n"
            ],
            "application/vnd.google.colaboratory.intrinsic+json": {
              "type": "dataframe",
              "variable_name": "tr4"
            }
          },
          "metadata": {},
          "execution_count": 122
        }
      ],
      "source": [
        "tr4.head()"
      ]
    },
    {
      "cell_type": "code",
      "execution_count": 123,
      "id": "7006d441",
      "metadata": {
        "execution": {
          "iopub.execute_input": "2024-07-04T20:13:14.680702Z",
          "iopub.status.busy": "2024-07-04T20:13:14.679820Z",
          "iopub.status.idle": "2024-07-04T20:13:14.697638Z",
          "shell.execute_reply": "2024-07-04T20:13:14.696601Z"
        },
        "papermill": {
          "duration": 0.051092,
          "end_time": "2024-07-04T20:13:14.700120",
          "exception": false,
          "start_time": "2024-07-04T20:13:14.649028",
          "status": "completed"
        },
        "tags": [],
        "colab": {
          "base_uri": "https://localhost:8080/"
        },
        "id": "7006d441",
        "outputId": "e32a0da8-e4d6-4f02-ef39-3802ba0a4a8f"
      },
      "outputs": [
        {
          "output_type": "stream",
          "name": "stdout",
          "text": [
            "<class 'pandas.core.frame.DataFrame'>\n",
            "RangeIndex: 1460 entries, 0 to 1459\n",
            "Columns: 241 entries, MSSubClass to SaleCondition_Partial\n",
            "dtypes: float64(4), int64(237)\n",
            "memory usage: 2.7 MB\n"
          ]
        }
      ],
      "source": [
        "tr4.info()"
      ]
    },
    {
      "cell_type": "markdown",
      "id": "e258d5a2",
      "metadata": {
        "papermill": {
          "duration": 0.029709,
          "end_time": "2024-07-04T20:13:14.759508",
          "exception": false,
          "start_time": "2024-07-04T20:13:14.729799",
          "status": "completed"
        },
        "tags": [],
        "id": "e258d5a2"
      },
      "source": [
        "# Data Visualization and outlier removal"
      ]
    },
    {
      "cell_type": "code",
      "execution_count": 124,
      "id": "2b871818",
      "metadata": {
        "execution": {
          "iopub.execute_input": "2024-07-04T20:13:14.821174Z",
          "iopub.status.busy": "2024-07-04T20:13:14.820193Z",
          "iopub.status.idle": "2024-07-04T20:13:16.437575Z",
          "shell.execute_reply": "2024-07-04T20:13:16.436557Z"
        },
        "papermill": {
          "duration": 1.651221,
          "end_time": "2024-07-04T20:13:16.440304",
          "exception": false,
          "start_time": "2024-07-04T20:13:14.789083",
          "status": "completed"
        },
        "tags": [],
        "colab": {
          "base_uri": "https://localhost:8080/",
          "height": 657
        },
        "id": "2b871818",
        "outputId": "ba8ea940-5439-4249-b74c-245fe3932bef"
      },
      "outputs": [
        {
          "output_type": "stream",
          "name": "stderr",
          "text": [
            "<ipython-input-124-9c3c1dc333b6>:2: UserWarning: \n",
            "\n",
            "`distplot` is a deprecated function and will be removed in seaborn v0.14.0.\n",
            "\n",
            "Please adapt your code to use either `displot` (a figure-level function with\n",
            "similar flexibility) or `histplot` (an axes-level function for histograms).\n",
            "\n",
            "For a guide to updating your code to use the new functions, please see\n",
            "https://gist.github.com/mwaskom/de44147ed2974457ad6372750bbe5751\n",
            "\n",
            "  sns.distplot(tr4['LotArea'])\n"
          ]
        },
        {
          "output_type": "execute_result",
          "data": {
            "text/plain": [
              "<Axes: xlabel='LotArea', ylabel='Density'>"
            ]
          },
          "metadata": {},
          "execution_count": 124
        },
        {
          "output_type": "display_data",
          "data": {
            "text/plain": [
              "<Figure size 640x480 with 1 Axes>"
            ],
            "image/png": "[encoded data removed]"
          },
          "metadata": {}
        }
      ],
      "source": [
        "import seaborn as sns\n",
        "sns.distplot(tr4['LotArea'])"
      ]
    },
    {
      "cell_type": "code",
      "execution_count": 125,
      "id": "1324ade9",
      "metadata": {
        "execution": {
          "iopub.execute_input": "2024-07-04T20:13:16.515275Z",
          "iopub.status.busy": "2024-07-04T20:13:16.513977Z",
          "iopub.status.idle": "2024-07-04T20:13:16.521779Z",
          "shell.execute_reply": "2024-07-04T20:13:16.520791Z"
        },
        "papermill": {
          "duration": 0.04567,
          "end_time": "2024-07-04T20:13:16.523919",
          "exception": false,
          "start_time": "2024-07-04T20:13:16.478249",
          "status": "completed"
        },
        "tags": [],
        "colab": {
          "base_uri": "https://localhost:8080/"
        },
        "id": "1324ade9",
        "outputId": "6547cbfb-85ff-4c6b-e4b5-ce8bf70b4a39"
      },
      "outputs": [
        {
          "output_type": "execute_result",
          "data": {
            "text/plain": [
              "12.207687851233496"
            ]
          },
          "metadata": {},
          "execution_count": 125
        }
      ],
      "source": [
        "tr4['LotArea'].skew()"
      ]
    },
    {
      "cell_type": "code",
      "execution_count": 126,
      "id": "5a7fc80a",
      "metadata": {
        "execution": {
          "iopub.execute_input": "2024-07-04T20:13:16.586551Z",
          "iopub.status.busy": "2024-07-04T20:13:16.586145Z",
          "iopub.status.idle": "2024-07-04T20:13:16.767364Z",
          "shell.execute_reply": "2024-07-04T20:13:16.766252Z"
        },
        "papermill": {
          "duration": 0.215236,
          "end_time": "2024-07-04T20:13:16.769604",
          "exception": false,
          "start_time": "2024-07-04T20:13:16.554368",
          "status": "completed"
        },
        "tags": [],
        "colab": {
          "base_uri": "https://localhost:8080/",
          "height": 428
        },
        "id": "5a7fc80a",
        "outputId": "21e2189d-c524-4494-fa98-1973276ca2e2"
      },
      "outputs": [
        {
          "output_type": "execute_result",
          "data": {
            "text/plain": [
              "<Axes: ylabel='LotArea'>"
            ]
          },
          "metadata": {},
          "execution_count": 126
        },
        {
          "output_type": "display_data",
          "data": {
            "text/plain": [
              "<Figure size 640x480 with 1 Axes>"
            ],
            "image/png": "[encoded data removed]"
          },
          "metadata": {}
        }
      ],
      "source": [
        "sns.boxplot(tr4['LotArea'])"
      ]
    },
    {
      "cell_type": "code",
      "execution_count": 127,
      "id": "d3731325",
      "metadata": {
        "execution": {
          "iopub.execute_input": "2024-07-04T20:13:16.837481Z",
          "iopub.status.busy": "2024-07-04T20:13:16.836810Z",
          "iopub.status.idle": "2024-07-04T20:13:16.852358Z",
          "shell.execute_reply": "2024-07-04T20:13:16.851419Z"
        },
        "papermill": {
          "duration": 0.054448,
          "end_time": "2024-07-04T20:13:16.854809",
          "exception": false,
          "start_time": "2024-07-04T20:13:16.800361",
          "status": "completed"
        },
        "tags": [],
        "colab": {
          "base_uri": "https://localhost:8080/"
        },
        "id": "d3731325",
        "outputId": "8832f212-6ba6-46ce-8751-7973f4a28ce8"
      },
      "outputs": [
        {
          "output_type": "execute_result",
          "data": {
            "text/plain": [
              "Id                 int64\n",
              "MSSubClass         int64\n",
              "MSZoning          object\n",
              "LotFrontage      float64\n",
              "LotArea            int64\n",
              "                  ...   \n",
              "MoSold             int64\n",
              "YrSold             int64\n",
              "SaleType          object\n",
              "SaleCondition     object\n",
              "SalePrice          int64\n",
              "Length: 81, dtype: object"
            ]
          },
          "metadata": {},
          "execution_count": 127
        }
      ],
      "source": [
        "tr.dtypes"
      ]
    },
    {
      "cell_type": "code",
      "execution_count": 128,
      "id": "09b598f5",
      "metadata": {
        "execution": {
          "iopub.execute_input": "2024-07-04T20:13:16.921862Z",
          "iopub.status.busy": "2024-07-04T20:13:16.921171Z",
          "iopub.status.idle": "2024-07-04T20:13:17.100940Z",
          "shell.execute_reply": "2024-07-04T20:13:17.099890Z"
        },
        "papermill": {
          "duration": 0.217119,
          "end_time": "2024-07-04T20:13:17.103305",
          "exception": false,
          "start_time": "2024-07-04T20:13:16.886186",
          "status": "completed"
        },
        "tags": [],
        "colab": {
          "base_uri": "https://localhost:8080/",
          "height": 411
        },
        "id": "09b598f5",
        "outputId": "645f8bb4-e573-4df0-e333-3cdf90fd2cb4"
      },
      "outputs": [
        {
          "output_type": "display_data",
          "data": {
            "text/plain": [
              "<Figure size 640x480 with 1 Axes>"
            ],
            "image/png": "[encoded data removed]"
          },
          "metadata": {}
        }
      ],
      "source": [
        "import matplotlib.pyplot as plt\n",
        "sns.boxplot(tr4['LotFrontage'])\n",
        "plt.show()"
      ]
    },
    {
      "cell_type": "code",
      "execution_count": 129,
      "id": "6df1b433",
      "metadata": {
        "execution": {
          "iopub.execute_input": "2024-07-04T20:13:17.168889Z",
          "iopub.status.busy": "2024-07-04T20:13:17.168094Z",
          "iopub.status.idle": "2024-07-04T20:13:17.320549Z",
          "shell.execute_reply": "2024-07-04T20:13:17.319359Z"
        },
        "papermill": {
          "duration": 0.188697,
          "end_time": "2024-07-04T20:13:17.323688",
          "exception": false,
          "start_time": "2024-07-04T20:13:17.134991",
          "status": "completed"
        },
        "tags": [],
        "colab": {
          "base_uri": "https://localhost:8080/",
          "height": 411
        },
        "id": "6df1b433",
        "outputId": "4ab78d19-f267-44eb-e7ec-15e27cd8d115"
      },
      "outputs": [
        {
          "output_type": "display_data",
          "data": {
            "text/plain": [
              "<Figure size 640x480 with 1 Axes>"
            ],
            "image/png": "[encoded data removed]"
          },
          "metadata": {}
        }
      ],
      "source": [
        "sns.boxplot(tr4['1stFlrSF'])\n",
        "plt.show()"
      ]
    },
    {
      "cell_type": "code",
      "execution_count": 130,
      "id": "e0f7a20c",
      "metadata": {
        "execution": {
          "iopub.execute_input": "2024-07-04T20:13:17.389577Z",
          "iopub.status.busy": "2024-07-04T20:13:17.388669Z",
          "iopub.status.idle": "2024-07-04T20:13:17.545387Z",
          "shell.execute_reply": "2024-07-04T20:13:17.544147Z"
        },
        "papermill": {
          "duration": 0.191696,
          "end_time": "2024-07-04T20:13:17.547682",
          "exception": false,
          "start_time": "2024-07-04T20:13:17.355986",
          "status": "completed"
        },
        "tags": [],
        "colab": {
          "base_uri": "https://localhost:8080/",
          "height": 411
        },
        "id": "e0f7a20c",
        "outputId": "b0e4052b-2f99-4a91-c238-9b24d8ae8838"
      },
      "outputs": [
        {
          "output_type": "display_data",
          "data": {
            "text/plain": [
              "<Figure size 640x480 with 1 Axes>"
            ],
            "image/png": "[encoded data removed]"
          },
          "metadata": {}
        }
      ],
      "source": [
        "sns.boxplot(tr4['2ndFlrSF'])\n",
        "plt.show()"
      ]
    },
    {
      "cell_type": "markdown",
      "id": "962e610a",
      "metadata": {
        "papermill": {
          "duration": 0.031477,
          "end_time": "2024-07-04T20:13:17.611089",
          "exception": false,
          "start_time": "2024-07-04T20:13:17.579612",
          "status": "completed"
        },
        "tags": [],
        "id": "962e610a"
      },
      "source": [
        "# Feature Engineering"
      ]
    },
    {
      "cell_type": "code",
      "execution_count": 131,
      "id": "1ffa33ba",
      "metadata": {
        "execution": {
          "iopub.execute_input": "2024-07-04T20:13:17.676313Z",
          "iopub.status.busy": "2024-07-04T20:13:17.675381Z",
          "iopub.status.idle": "2024-07-04T20:13:17.681608Z",
          "shell.execute_reply": "2024-07-04T20:13:17.680657Z"
        },
        "papermill": {
          "duration": 0.041007,
          "end_time": "2024-07-04T20:13:17.683656",
          "exception": false,
          "start_time": "2024-07-04T20:13:17.642649",
          "status": "completed"
        },
        "tags": [],
        "colab": {
          "base_uri": "https://localhost:8080/"
        },
        "id": "1ffa33ba",
        "outputId": "0051128a-b981-46b5-d40c-1371655ce095"
      },
      "outputs": [
        {
          "output_type": "execute_result",
          "data": {
            "text/plain": [
              "(1460, 241)"
            ]
          },
          "metadata": {},
          "execution_count": 131
        }
      ],
      "source": [
        "tr4.shape"
      ]
    },
    {
      "cell_type": "code",
      "execution_count": 132,
      "id": "64b1dec8",
      "metadata": {
        "execution": {
          "iopub.execute_input": "2024-07-04T20:13:17.748888Z",
          "iopub.status.busy": "2024-07-04T20:13:17.748533Z",
          "iopub.status.idle": "2024-07-04T20:13:17.756261Z",
          "shell.execute_reply": "2024-07-04T20:13:17.755311Z"
        },
        "papermill": {
          "duration": 0.042777,
          "end_time": "2024-07-04T20:13:17.758252",
          "exception": false,
          "start_time": "2024-07-04T20:13:17.715475",
          "status": "completed"
        },
        "tags": [],
        "colab": {
          "base_uri": "https://localhost:8080/"
        },
        "id": "64b1dec8",
        "outputId": "1ceae121-013d-4cd4-8ba1-6c3665bfc1c6"
      },
      "outputs": [
        {
          "output_type": "execute_result",
          "data": {
            "text/plain": [
              "0       208500\n",
              "1       181500\n",
              "2       223500\n",
              "3       140000\n",
              "4       250000\n",
              "         ...  \n",
              "1455    175000\n",
              "1456    210000\n",
              "1457    266500\n",
              "1458    142125\n",
              "1459    147500\n",
              "Name: SalePrice, Length: 1460, dtype: int64"
            ]
          },
          "metadata": {},
          "execution_count": 132
        }
      ],
      "source": [
        "tr4['SalePrice']"
      ]
    },
    {
      "cell_type": "code",
      "execution_count": 133,
      "id": "2042dcb2",
      "metadata": {
        "execution": {
          "iopub.execute_input": "2024-07-04T20:13:17.824010Z",
          "iopub.status.busy": "2024-07-04T20:13:17.823083Z",
          "iopub.status.idle": "2024-07-04T20:13:17.830453Z",
          "shell.execute_reply": "2024-07-04T20:13:17.829649Z"
        },
        "papermill": {
          "duration": 0.042415,
          "end_time": "2024-07-04T20:13:17.832501",
          "exception": false,
          "start_time": "2024-07-04T20:13:17.790086",
          "status": "completed"
        },
        "tags": [],
        "id": "2042dcb2"
      },
      "outputs": [],
      "source": [
        "X=tr4.drop(columns=['SalePrice'])\n",
        "y=tr4['SalePrice']"
      ]
    },
    {
      "cell_type": "code",
      "execution_count": 134,
      "id": "adec343c",
      "metadata": {
        "execution": {
          "iopub.execute_input": "2024-07-04T20:13:17.898298Z",
          "iopub.status.busy": "2024-07-04T20:13:17.897425Z",
          "iopub.status.idle": "2024-07-04T20:13:18.130962Z",
          "shell.execute_reply": "2024-07-04T20:13:18.129718Z"
        },
        "papermill": {
          "duration": 0.26906,
          "end_time": "2024-07-04T20:13:18.133379",
          "exception": false,
          "start_time": "2024-07-04T20:13:17.864319",
          "status": "completed"
        },
        "tags": [],
        "id": "adec343c"
      },
      "outputs": [],
      "source": [
        "corr_matrix=X.corr()"
      ]
    },
    {
      "cell_type": "code",
      "execution_count": 135,
      "id": "14e1c3c0",
      "metadata": {
        "execution": {
          "iopub.execute_input": "2024-07-04T20:13:18.199606Z",
          "iopub.status.busy": "2024-07-04T20:13:18.198930Z",
          "iopub.status.idle": "2024-07-04T20:13:18.203450Z",
          "shell.execute_reply": "2024-07-04T20:13:18.202457Z"
        },
        "papermill": {
          "duration": 0.03997,
          "end_time": "2024-07-04T20:13:18.205790",
          "exception": false,
          "start_time": "2024-07-04T20:13:18.165820",
          "status": "completed"
        },
        "tags": [],
        "id": "14e1c3c0"
      },
      "outputs": [],
      "source": [
        "columns=corr_matrix.columns"
      ]
    },
    {
      "cell_type": "markdown",
      "id": "d0c760ee",
      "metadata": {
        "papermill": {
          "duration": 0.031466,
          "end_time": "2024-07-04T20:13:18.268971",
          "exception": false,
          "start_time": "2024-07-04T20:13:18.237505",
          "status": "completed"
        },
        "tags": [],
        "id": "d0c760ee"
      },
      "source": [
        "# Feature Engineering"
      ]
    },
    {
      "cell_type": "code",
      "execution_count": 136,
      "id": "ce643b41",
      "metadata": {
        "execution": {
          "iopub.execute_input": "2024-07-04T20:13:18.334803Z",
          "iopub.status.busy": "2024-07-04T20:13:18.333886Z",
          "iopub.status.idle": "2024-07-04T20:13:18.738039Z",
          "shell.execute_reply": "2024-07-04T20:13:18.737052Z"
        },
        "papermill": {
          "duration": 0.43946,
          "end_time": "2024-07-04T20:13:18.740291",
          "exception": false,
          "start_time": "2024-07-04T20:13:18.300831",
          "status": "completed"
        },
        "tags": [],
        "colab": {
          "base_uri": "https://localhost:8080/"
        },
        "id": "ce643b41",
        "outputId": "80cc7925-a999-4d21-f788-004e010aea78"
      },
      "outputs": [
        {
          "output_type": "execute_result",
          "data": {
            "text/plain": [
              "{'TotalBsmtSF': ['1stFlrSF'],\n",
              " '2ndFlrSF': ['HouseStyle_2Story'],\n",
              " 'GrLivArea': ['TotRmsAbvGrd'],\n",
              " 'GarageCars': ['GarageArea'],\n",
              " 'MSZoning_FV': ['Neighborhood_Somerst'],\n",
              " 'RoofStyle_Flat': ['RoofMatl_Tar&Grv'],\n",
              " 'Exterior1st_AsbShng': ['Exterior2nd_AsbShng'],\n",
              " 'Exterior1st_CBlock': ['Exterior2nd_CBlock'],\n",
              " 'Exterior1st_CemntBd': ['Exterior2nd_CmentBd'],\n",
              " 'Exterior1st_HdBoard': ['Exterior2nd_HdBoard'],\n",
              " 'Exterior1st_MetalSd': ['Exterior2nd_MetalSd'],\n",
              " 'Exterior1st_VinylSd': ['Exterior2nd_VinylSd'],\n",
              " 'Exterior1st_Wd Sdng': ['Exterior2nd_Wd Sdng'],\n",
              " 'SaleType_New': ['SaleCondition_Partial']}"
            ]
          },
          "metadata": {},
          "execution_count": 136
        }
      ],
      "source": [
        "#Let us find the features having correlation more than 0.8\n",
        "correlation_dict = {}\n",
        "for i in range(0, 240):\n",
        "    correlated_features = []#Stores all the correlated feartures of i th column\n",
        "    for j in range(i + 1, 240):\n",
        "        if corr_matrix.loc[columns[i], columns[j]] > 0.8:\n",
        "            correlated_features.append(columns[j])\n",
        "    if correlated_features:#To store in dictionary only if there exsits correlated features for a feature\n",
        "        correlation_dict[columns[i]] = correlated_features\n",
        "correlation_dict"
      ]
    },
    {
      "cell_type": "markdown",
      "id": "da480a29",
      "metadata": {
        "papermill": {
          "duration": 0.031987,
          "end_time": "2024-07-04T20:13:18.804266",
          "exception": false,
          "start_time": "2024-07-04T20:13:18.772279",
          "status": "completed"
        },
        "tags": [],
        "id": "da480a29"
      },
      "source": [
        "We can only remove 13 features through feature selection"
      ]
    },
    {
      "cell_type": "code",
      "execution_count": 137,
      "id": "78a30b58",
      "metadata": {
        "execution": {
          "iopub.execute_input": "2024-07-04T20:13:18.869843Z",
          "iopub.status.busy": "2024-07-04T20:13:18.869454Z",
          "iopub.status.idle": "2024-07-04T20:13:18.874218Z",
          "shell.execute_reply": "2024-07-04T20:13:18.873245Z"
        },
        "papermill": {
          "duration": 0.040118,
          "end_time": "2024-07-04T20:13:18.876266",
          "exception": false,
          "start_time": "2024-07-04T20:13:18.836148",
          "status": "completed"
        },
        "tags": [],
        "id": "78a30b58"
      },
      "outputs": [],
      "source": [
        "modified_values = [value[0] for value in correlation_dict.values()]"
      ]
    },
    {
      "cell_type": "code",
      "execution_count": 138,
      "id": "fe7bf4dd",
      "metadata": {
        "execution": {
          "iopub.execute_input": "2024-07-04T20:13:18.942208Z",
          "iopub.status.busy": "2024-07-04T20:13:18.941825Z",
          "iopub.status.idle": "2024-07-04T20:13:18.949171Z",
          "shell.execute_reply": "2024-07-04T20:13:18.948302Z"
        },
        "papermill": {
          "duration": 0.042862,
          "end_time": "2024-07-04T20:13:18.951434",
          "exception": false,
          "start_time": "2024-07-04T20:13:18.908572",
          "status": "completed"
        },
        "tags": [],
        "id": "fe7bf4dd"
      },
      "outputs": [],
      "source": [
        "X=X.drop(columns=modified_values)"
      ]
    },
    {
      "cell_type": "code",
      "execution_count": 139,
      "id": "3953919e",
      "metadata": {
        "execution": {
          "iopub.execute_input": "2024-07-04T20:13:19.018005Z",
          "iopub.status.busy": "2024-07-04T20:13:19.017603Z",
          "iopub.status.idle": "2024-07-04T20:13:19.024277Z",
          "shell.execute_reply": "2024-07-04T20:13:19.023170Z"
        },
        "papermill": {
          "duration": 0.042574,
          "end_time": "2024-07-04T20:13:19.026435",
          "exception": false,
          "start_time": "2024-07-04T20:13:18.983861",
          "status": "completed"
        },
        "tags": [],
        "colab": {
          "base_uri": "https://localhost:8080/"
        },
        "id": "3953919e",
        "outputId": "f6657bfb-a489-42dd-daa8-78794ccd8f2e"
      },
      "outputs": [
        {
          "output_type": "execute_result",
          "data": {
            "text/plain": [
              "(1460, 226)"
            ]
          },
          "metadata": {},
          "execution_count": 139
        }
      ],
      "source": [
        "X.shape"
      ]
    },
    {
      "cell_type": "code",
      "execution_count": 140,
      "id": "2c3764d1",
      "metadata": {
        "execution": {
          "iopub.execute_input": "2024-07-04T20:13:19.095302Z",
          "iopub.status.busy": "2024-07-04T20:13:19.094917Z",
          "iopub.status.idle": "2024-07-04T20:13:19.425736Z",
          "shell.execute_reply": "2024-07-04T20:13:19.424802Z"
        },
        "papermill": {
          "duration": 0.368946,
          "end_time": "2024-07-04T20:13:19.428179",
          "exception": false,
          "start_time": "2024-07-04T20:13:19.059233",
          "status": "completed"
        },
        "tags": [],
        "id": "2c3764d1"
      },
      "outputs": [],
      "source": [
        "from sklearn.preprocessing import StandardScaler\n",
        "from sklearn.decomposition import PCA"
      ]
    },
    {
      "cell_type": "code",
      "execution_count": 141,
      "id": "808960ca",
      "metadata": {
        "execution": {
          "iopub.execute_input": "2024-07-04T20:13:19.496445Z",
          "iopub.status.busy": "2024-07-04T20:13:19.495513Z",
          "iopub.status.idle": "2024-07-04T20:13:19.518519Z",
          "shell.execute_reply": "2024-07-04T20:13:19.517478Z"
        },
        "papermill": {
          "duration": 0.060021,
          "end_time": "2024-07-04T20:13:19.520909",
          "exception": false,
          "start_time": "2024-07-04T20:13:19.460888",
          "status": "completed"
        },
        "tags": [],
        "id": "808960ca"
      },
      "outputs": [],
      "source": [
        "scaler = StandardScaler()\n",
        "X_scaled = scaler.fit_transform(X)"
      ]
    },
    {
      "cell_type": "code",
      "execution_count": 142,
      "id": "ee875e70",
      "metadata": {
        "execution": {
          "iopub.execute_input": "2024-07-04T20:13:19.586786Z",
          "iopub.status.busy": "2024-07-04T20:13:19.586373Z",
          "iopub.status.idle": "2024-07-04T20:13:19.593977Z",
          "shell.execute_reply": "2024-07-04T20:13:19.592804Z"
        },
        "papermill": {
          "duration": 0.042954,
          "end_time": "2024-07-04T20:13:19.596080",
          "exception": false,
          "start_time": "2024-07-04T20:13:19.553126",
          "status": "completed"
        },
        "tags": [],
        "colab": {
          "base_uri": "https://localhost:8080/"
        },
        "id": "ee875e70",
        "outputId": "ff1118bd-3381-4a0c-c9db-5a87b91f2979"
      },
      "outputs": [
        {
          "output_type": "execute_result",
          "data": {
            "text/plain": [
              "array([[ 0.07337496, -0.22937175, -0.20714171, ..., -0.09103457,\n",
              "        -0.11785113,  0.4676514 ],\n",
              "       [-0.87256276,  0.4519361 , -0.09188637, ..., -0.09103457,\n",
              "        -0.11785113,  0.4676514 ],\n",
              "       [ 0.07337496, -0.09311018,  0.07347998, ..., -0.09103457,\n",
              "        -0.11785113,  0.4676514 ],\n",
              "       ...,\n",
              "       [ 0.30985939, -0.18395123, -0.14781027, ..., -0.09103457,\n",
              "        -0.11785113,  0.4676514 ],\n",
              "       [-0.87256276, -0.09311018, -0.08016039, ..., -0.09103457,\n",
              "        -0.11785113,  0.4676514 ],\n",
              "       [-0.87256276,  0.22483348, -0.05811155, ..., -0.09103457,\n",
              "        -0.11785113,  0.4676514 ]])"
            ]
          },
          "metadata": {},
          "execution_count": 142
        }
      ],
      "source": [
        "X_scaled"
      ]
    },
    {
      "cell_type": "code",
      "execution_count": 143,
      "id": "a819df27",
      "metadata": {
        "execution": {
          "iopub.execute_input": "2024-07-04T20:13:19.662894Z",
          "iopub.status.busy": "2024-07-04T20:13:19.662472Z",
          "iopub.status.idle": "2024-07-04T20:13:20.614571Z",
          "shell.execute_reply": "2024-07-04T20:13:20.613357Z"
        },
        "papermill": {
          "duration": 0.989412,
          "end_time": "2024-07-04T20:13:20.617946",
          "exception": false,
          "start_time": "2024-07-04T20:13:19.628534",
          "status": "completed"
        },
        "tags": [],
        "id": "a819df27"
      },
      "outputs": [],
      "source": [
        "pca = PCA(n_components=125)\n",
        "X_pca = pca.fit_transform(X_scaled)"
      ]
    },
    {
      "cell_type": "code",
      "execution_count": 144,
      "id": "0142c3f7",
      "metadata": {
        "execution": {
          "iopub.execute_input": "2024-07-04T20:13:20.753253Z",
          "iopub.status.busy": "2024-07-04T20:13:20.752847Z",
          "iopub.status.idle": "2024-07-04T20:13:20.757755Z",
          "shell.execute_reply": "2024-07-04T20:13:20.756684Z"
        },
        "papermill": {
          "duration": 0.042173,
          "end_time": "2024-07-04T20:13:20.759837",
          "exception": false,
          "start_time": "2024-07-04T20:13:20.717664",
          "status": "completed"
        },
        "tags": [],
        "id": "0142c3f7"
      },
      "outputs": [],
      "source": [
        "explained_variance = pca.explained_variance_ratio_.sum()#Captures the total variance captured by 125 features of total variance"
      ]
    },
    {
      "cell_type": "code",
      "execution_count": 145,
      "id": "4950ee2f",
      "metadata": {
        "execution": {
          "iopub.execute_input": "2024-07-04T20:13:20.826261Z",
          "iopub.status.busy": "2024-07-04T20:13:20.825862Z",
          "iopub.status.idle": "2024-07-04T20:13:20.832594Z",
          "shell.execute_reply": "2024-07-04T20:13:20.831419Z"
        },
        "papermill": {
          "duration": 0.042474,
          "end_time": "2024-07-04T20:13:20.834724",
          "exception": false,
          "start_time": "2024-07-04T20:13:20.792250",
          "status": "completed"
        },
        "tags": [],
        "colab": {
          "base_uri": "https://localhost:8080/"
        },
        "id": "4950ee2f",
        "outputId": "aa5628cc-5dec-46f2-cdf0-8cfd48c2f33a"
      },
      "outputs": [
        {
          "output_type": "execute_result",
          "data": {
            "text/plain": [
              "0.8845390381128718"
            ]
          },
          "metadata": {},
          "execution_count": 145
        }
      ],
      "source": [
        "explained_variance"
      ]
    },
    {
      "cell_type": "markdown",
      "id": "a102977f",
      "metadata": {
        "papermill": {
          "duration": 0.032355,
          "end_time": "2024-07-04T20:13:20.899464",
          "exception": false,
          "start_time": "2024-07-04T20:13:20.867109",
          "status": "completed"
        },
        "tags": [],
        "id": "a102977f"
      },
      "source": [
        "# Splitting the data into training validation sets"
      ]
    },
    {
      "cell_type": "code",
      "execution_count": 146,
      "id": "9bb73427",
      "metadata": {
        "execution": {
          "iopub.execute_input": "2024-07-04T20:13:20.965526Z",
          "iopub.status.busy": "2024-07-04T20:13:20.965130Z",
          "iopub.status.idle": "2024-07-04T20:13:20.974459Z",
          "shell.execute_reply": "2024-07-04T20:13:20.973470Z"
        },
        "papermill": {
          "duration": 0.045066,
          "end_time": "2024-07-04T20:13:20.976631",
          "exception": false,
          "start_time": "2024-07-04T20:13:20.931565",
          "status": "completed"
        },
        "tags": [],
        "id": "9bb73427"
      },
      "outputs": [],
      "source": [
        "import sklearn\n",
        "from sklearn.model_selection import train_test_split\n",
        "X_train, X_val, y_train, y_val = train_test_split(X_pca, y, test_size=0.2,random_state=18)"
      ]
    },
    {
      "cell_type": "code",
      "execution_count": 147,
      "id": "40d0a66b",
      "metadata": {
        "execution": {
          "iopub.execute_input": "2024-07-04T20:13:21.043243Z",
          "iopub.status.busy": "2024-07-04T20:13:21.042827Z",
          "iopub.status.idle": "2024-07-04T20:13:21.049284Z",
          "shell.execute_reply": "2024-07-04T20:13:21.048260Z"
        },
        "papermill": {
          "duration": 0.042356,
          "end_time": "2024-07-04T20:13:21.051697",
          "exception": false,
          "start_time": "2024-07-04T20:13:21.009341",
          "status": "completed"
        },
        "tags": [],
        "colab": {
          "base_uri": "https://localhost:8080/"
        },
        "id": "40d0a66b",
        "outputId": "8420fa4b-2789-4f50-8854-1b0c246ea43f"
      },
      "outputs": [
        {
          "output_type": "execute_result",
          "data": {
            "text/plain": [
              "(1168, 125)"
            ]
          },
          "metadata": {},
          "execution_count": 147
        }
      ],
      "source": [
        "X_train.shape"
      ]
    },
    {
      "cell_type": "markdown",
      "id": "a6fb0f80",
      "metadata": {
        "papermill": {
          "duration": 0.032412,
          "end_time": "2024-07-04T20:13:21.248983",
          "exception": false,
          "start_time": "2024-07-04T20:13:21.216571",
          "status": "completed"
        },
        "tags": [],
        "id": "a6fb0f80"
      },
      "source": [
        "# Lasso Regression"
      ]
    },
    {
      "cell_type": "markdown",
      "id": "6c2906d7",
      "metadata": {
        "papermill": {
          "duration": 0.032443,
          "end_time": "2024-07-04T20:13:21.314633",
          "exception": false,
          "start_time": "2024-07-04T20:13:21.282190",
          "status": "completed"
        },
        "tags": [],
        "id": "6c2906d7"
      },
      "source": [
        "As we have more features and less number of correlated features, we can go with lasso regression which sets irrelevant feature coefficients to zero, simplifies the model and helps prevent overfitting.\n",
        "\n",
        "Ridge Regression is particularly effective when you have many correlated features because it distributes the impact of correlated features across all of them, rather than selecting one and ignoring others.(As we removed the correlated features, there is no need of using this)"
      ]
    },
    {
      "cell_type": "code",
      "execution_count": 148,
      "id": "8f7ec370",
      "metadata": {
        "execution": {
          "iopub.execute_input": "2024-07-04T20:13:21.380675Z",
          "iopub.status.busy": "2024-07-04T20:13:21.380273Z",
          "iopub.status.idle": "2024-07-04T20:13:21.402368Z",
          "shell.execute_reply": "2024-07-04T20:13:21.401252Z"
        },
        "papermill": {
          "duration": 0.058743,
          "end_time": "2024-07-04T20:13:21.405462",
          "exception": false,
          "start_time": "2024-07-04T20:13:21.346719",
          "status": "completed"
        },
        "tags": [],
        "colab": {
          "base_uri": "https://localhost:8080/",
          "height": 74
        },
        "id": "8f7ec370",
        "outputId": "932f91fe-8093-4d2d-c556-939aa53f4ddc"
      },
      "outputs": [
        {
          "output_type": "execute_result",
          "data": {
            "text/plain": [
              "Lasso(alpha=1, max_iter=100000)"
            ],
            "text/html": [
              "<style>#sk-container-id-2 {color: black;background-color: white;}#sk-container-id-2 pre{padding: 0;}#sk-container-id-2 div.sk-toggleable {background-color: white;}#sk-container-id-2 label.sk-toggleable__label {cursor: pointer;display: block;width: 100%;margin-bottom: 0;padding: 0.3em;box-sizing: border-box;text-align: center;}#sk-container-id-2 label.sk-toggleable__label-arrow:before {content: \"▸\";float: left;margin-right: 0.25em;color: #696969;}#sk-container-id-2 label.sk-toggleable__label-arrow:hover:before {color: black;}#sk-container-id-2 div.sk-estimator:hover label.sk-toggleable__label-arrow:before {color: black;}#sk-container-id-2 div.sk-toggleable__content {max-height: 0;max-width: 0;overflow: hidden;text-align: left;background-color: #f0f8ff;}#sk-container-id-2 div.sk-toggleable__content pre {margin: 0.2em;color: black;border-radius: 0.25em;background-color: #f0f8ff;}#sk-container-id-2 input.sk-toggleable__control:checked~div.sk-toggleable__content {max-height: 200px;max-width: 100%;overflow: auto;}#sk-container-id-2 input.sk-toggleable__control:checked~label.sk-toggleable__label-arrow:before {content: \"▾\";}#sk-container-id-2 div.sk-estimator input.sk-toggleable__control:checked~label.sk-toggleable__label {background-color: #d4ebff;}#sk-container-id-2 div.sk-label input.sk-toggleable__control:checked~label.sk-toggleable__label {background-color: #d4ebff;}#sk-container-id-2 input.sk-hidden--visually {border: 0;clip: rect(1px 1px 1px 1px);clip: rect(1px, 1px, 1px, 1px);height: 1px;margin: -1px;overflow: hidden;padding: 0;position: absolute;width: 1px;}#sk-container-id-2 div.sk-estimator {font-family: monospace;background-color: #f0f8ff;border: 1px dotted black;border-radius: 0.25em;box-sizing: border-box;margin-bottom: 0.5em;}#sk-container-id-2 div.sk-estimator:hover {background-color: #d4ebff;}#sk-container-id-2 div.sk-parallel-item::after {content: \"\";width: 100%;border-bottom: 1px solid gray;flex-grow: 1;}#sk-container-id-2 div.sk-label:hover label.sk-toggleable__label {background-color: #d4ebff;}#sk-container-id-2 div.sk-serial::before {content: \"\";position: absolute;border-left: 1px solid gray;box-sizing: border-box;top: 0;bottom: 0;left: 50%;z-index: 0;}#sk-container-id-2 div.sk-serial {display: flex;flex-direction: column;align-items: center;background-color: white;padding-right: 0.2em;padding-left: 0.2em;position: relative;}#sk-container-id-2 div.sk-item {position: relative;z-index: 1;}#sk-container-id-2 div.sk-parallel {display: flex;align-items: stretch;justify-content: center;background-color: white;position: relative;}#sk-container-id-2 div.sk-item::before, #sk-container-id-2 div.sk-parallel-item::before {content: \"\";position: absolute;border-left: 1px solid gray;box-sizing: border-box;top: 0;bottom: 0;left: 50%;z-index: -1;}#sk-container-id-2 div.sk-parallel-item {display: flex;flex-direction: column;z-index: 1;position: relative;background-color: white;}#sk-container-id-2 div.sk-parallel-item:first-child::after {align-self: flex-end;width: 50%;}#sk-container-id-2 div.sk-parallel-item:last-child::after {align-self: flex-start;width: 50%;}#sk-container-id-2 div.sk-parallel-item:only-child::after {width: 0;}#sk-container-id-2 div.sk-dashed-wrapped {border: 1px dashed gray;margin: 0 0.4em 0.5em 0.4em;box-sizing: border-box;padding-bottom: 0.4em;background-color: white;}#sk-container-id-2 div.sk-label label {font-family: monospace;font-weight: bold;display: inline-block;line-height: 1.2em;}#sk-container-id-2 div.sk-label-container {text-align: center;}#sk-container-id-2 div.sk-container {/* jupyter's `normalize.less` sets `[hidden] { display: none; }` but bootstrap.min.css set `[hidden] { display: none !important; }` so we also need the `!important` here to be able to override the default hidden behavior on the sphinx rendered scikit-learn.org. See: https://github.com/scikit-learn/scikit-learn/issues/21755 */display: inline-block !important;position: relative;}#sk-container-id-2 div.sk-text-repr-fallback {display: none;}</style><div id=\"sk-container-id-2\" class=\"sk-top-container\"><div class=\"sk-text-repr-fallback\"><pre>Lasso(alpha=1, max_iter=100000)</pre><b>In a Jupyter environment, please rerun this cell to show the HTML representation or trust the notebook. <br />On GitHub, the HTML representation is unable to render, please try loading this page with nbviewer.org.</b></div><div class=\"sk-container\" hidden><div class=\"sk-item\"><div class=\"sk-estimator sk-toggleable\"><input class=\"sk-toggleable__control sk-hidden--visually\" id=\"sk-estimator-id-2\" type=\"checkbox\" checked><label for=\"sk-estimator-id-2\" class=\"sk-toggleable__label sk-toggleable__label-arrow\">Lasso</label><div class=\"sk-toggleable__content\"><pre>Lasso(alpha=1, max_iter=100000)</pre></div></div></div></div></div>"
            ]
          },
          "metadata": {},
          "execution_count": 148
        }
      ],
      "source": [
        "from sklearn.linear_model import Lasso\n",
        "lasso = Lasso(alpha=1,max_iter=100000)\n",
        "lasso.fit(X_train, y_train)"
      ]
    },
    {
      "cell_type": "code",
      "execution_count": 149,
      "id": "a16704d6",
      "metadata": {
        "execution": {
          "iopub.execute_input": "2024-07-04T20:13:21.517429Z",
          "iopub.status.busy": "2024-07-04T20:13:21.517059Z",
          "iopub.status.idle": "2024-07-04T20:13:21.524386Z",
          "shell.execute_reply": "2024-07-04T20:13:21.523189Z"
        },
        "papermill": {
          "duration": 0.067906,
          "end_time": "2024-07-04T20:13:21.528234",
          "exception": false,
          "start_time": "2024-07-04T20:13:21.460328",
          "status": "completed"
        },
        "tags": [],
        "id": "a16704d6"
      },
      "outputs": [],
      "source": [
        "y_val_pred = lasso.predict(X_val)"
      ]
    },
    {
      "cell_type": "code",
      "execution_count": 150,
      "id": "26feb456",
      "metadata": {
        "execution": {
          "iopub.execute_input": "2024-07-04T20:13:21.640475Z",
          "iopub.status.busy": "2024-07-04T20:13:21.639935Z",
          "iopub.status.idle": "2024-07-04T20:13:21.650875Z",
          "shell.execute_reply": "2024-07-04T20:13:21.649712Z"
        },
        "papermill": {
          "duration": 0.069899,
          "end_time": "2024-07-04T20:13:21.653131",
          "exception": false,
          "start_time": "2024-07-04T20:13:21.583232",
          "status": "completed"
        },
        "tags": [],
        "colab": {
          "base_uri": "https://localhost:8080/"
        },
        "id": "26feb456",
        "outputId": "771b784d-0968-40b2-e000-ade9d1270042"
      },
      "outputs": [
        {
          "output_type": "execute_result",
          "data": {
            "text/plain": [
              "array([255439.72758043, 112158.16549335, 220871.57701854, 187097.72413344,\n",
              "        79248.18675133, 248639.31363158, 228410.31402033, 309881.32582246,\n",
              "       231508.09518035, 217911.9695832 , 223064.30722472, 125770.48258502,\n",
              "       137644.12546823, 169911.6519664 , 261946.24064405, 140853.38030315,\n",
              "        92574.79141728, 162833.84352059, 158652.37941257, 214563.35065954,\n",
              "       228955.01857378, 150986.05716052, 336018.51275404, 118758.81728974,\n",
              "       326997.13582973, 244564.27630749, 141182.03073119, 103549.54709635,\n",
              "       205257.56112274, 177601.96656322, 113891.59627343, 130556.13155898,\n",
              "       191107.06704639, 137348.40948781, 293092.86403406, 140682.54855759,\n",
              "       109052.04950934, 172234.19068799, 137386.34809828, 219613.55245447,\n",
              "       198103.78829361, 297692.91221045, 228952.52897767, 194183.67353793,\n",
              "       304647.89857581, 273996.62078094, 270888.73288821, 136061.48243804,\n",
              "       153969.60999019, 235242.60649939,  43441.86373643,  80343.41089745,\n",
              "       298441.18437225, 226628.67485871, 181280.82231585, 214592.87386812,\n",
              "       256019.48444502, 200670.69955905, 321379.79773176,  69342.88298889,\n",
              "       182073.95577513, 352411.63176534, 227219.87768884, 111463.23102226,\n",
              "       238943.0774898 , 215048.9635046 , 163208.06570889, 116952.40845791,\n",
              "        68192.58889434, 215628.23566369, 140863.24768986, 244503.12756023,\n",
              "       207038.5195775 , 232675.12908151, 177148.30141267, 133415.56671325,\n",
              "       154827.50602364, 246675.23785156, 149315.40812474, 203349.4524095 ,\n",
              "       220209.17038893, 299147.32366765, 129473.05584981, 170576.15341094,\n",
              "        96375.21592384, 241499.69088919, 180726.44388088, 120125.03069754,\n",
              "       160888.98157817, 195125.08942039, 321512.16026125, 147529.32352687,\n",
              "       181319.49537767, 338372.12253014, 118795.44901862, 120219.01315099,\n",
              "        10788.29211462, 159303.26694136, 155076.55500823, 214370.17539597,\n",
              "       428671.83324887, 153268.59855225, 153673.50013498,  78237.57941302,\n",
              "       245084.45326872, 117739.338369  , 199334.88354775, 182570.78049462,\n",
              "       111296.78636808, 119282.17287976, 221487.11918911,  98325.60252594,\n",
              "       228372.28544603, 238405.9309792 , 156677.64474138, 136495.28054213,\n",
              "       245847.01054502, 121318.2612712 , 152801.9398611 , 330897.34830425,\n",
              "       133626.03981718, 149300.80232198, 325963.16408695, 125946.46155139,\n",
              "       194334.60999687, 286801.23047966, 145815.02216697, 182876.19529439,\n",
              "       381829.90800287, 208673.31828566, 195142.08605815, 234010.4108304 ,\n",
              "       139114.71584396, 143931.00366182, 179663.15806727, 162103.89809314,\n",
              "       139744.38594306, 138907.06418683, 237211.15863222, 191183.05785667,\n",
              "       138376.93884692, 157164.26970939, 196737.99760502, 192248.82089692,\n",
              "       158120.93109522, 121563.68158383, 204964.424339  , 113202.47483421,\n",
              "       208394.4261609 , 114437.57202705, 139950.70631304, 219935.03169637,\n",
              "        93774.88315768, 250695.13839695, 176731.27505516, 396572.03102946,\n",
              "       211431.13716801, 265452.52046906,  71318.31948539, 151505.68547416,\n",
              "       106302.78507181, 187089.11009741, 443766.35500392,  92810.72298245,\n",
              "       123458.06305087, 235280.84115707, 187101.8025218 , 150157.27932403,\n",
              "       139102.24546741, 141079.9773852 , 181788.22064811, 249431.74595349,\n",
              "       110551.46009365, 148984.70637191, 160129.39807913, 143692.55696562,\n",
              "       151506.92426337,  78554.56865058, 211804.13858449, 100655.18692073,\n",
              "       114184.31705009, 116419.34136117, 293071.87167115, 222104.35472221,\n",
              "       238611.06830074, 152872.45943088, 346927.25217419, 208767.62842155,\n",
              "       229660.48782983, 155494.35188845, 132139.54856395, 136755.04989356,\n",
              "       203975.79737978,  45704.92003855, 270333.81430041, 123355.5312711 ,\n",
              "       149422.06622344, 176852.23187514, 169311.58596501, 119336.59186272,\n",
              "       154918.83315278,  84867.67459872, 164591.01781499, 255738.68848592,\n",
              "       134047.1783285 , 119452.15400322, 115748.22355539, 198713.41193217,\n",
              "       210008.81792276,  89587.70052232, 330477.08743551, 120252.88054166,\n",
              "       174432.71846837, 158388.6961865 , 152731.44286379, 141401.77837051,\n",
              "        91819.01311423, 148621.16848929,  97597.59643978, 105666.14288642,\n",
              "       178845.26307311, 118419.1800982 , 125115.25777467, 338309.00493333,\n",
              "       228765.16336973, 160497.23004497, 334572.06736289, 211628.19849498,\n",
              "       188020.35378199, 105796.01852832, 163533.63980722, 110725.1507248 ,\n",
              "       152476.02202154, 142730.70353394, 156600.65241531, 228946.0081567 ,\n",
              "       214720.21312944,  84663.47339125, 159136.27140881, 289644.86208773,\n",
              "       262337.72063022, 179702.59441473, 100291.18574103, 531266.63564189,\n",
              "        84742.57774471, 268783.1504887 , 183582.34589516, 208743.07420578,\n",
              "       334846.51453431, 240189.72817271,  84375.28603196, 147614.51921777,\n",
              "       296720.05050336, 188292.78335359,  84973.47944776, 206827.28820625,\n",
              "       137353.19105406, 128530.93276977, 202831.94554847, 113673.13861513,\n",
              "       271693.22131642, 180552.49868853, 199562.21466936, 240148.31973304,\n",
              "       325350.42048327, 126600.9789907 , 119438.70794084, 301136.38554695,\n",
              "       139805.66590558, 129689.23870607, 136299.73990772, 109610.84524758,\n",
              "       227888.4376071 , 145729.41401971, 248948.54955713, 160099.76255253,\n",
              "       104962.078837  , 250392.89901175, 203745.38382901, 301991.55649079,\n",
              "       150934.3245703 , 192034.87143478, 100881.95336624,  93108.49722417,\n",
              "       105091.5039967 , 132700.68829009, 223820.30238674, 182158.72376377,\n",
              "       145107.93591402, 202031.62224966, 141605.61220685, 135814.54917187])"
            ]
          },
          "metadata": {},
          "execution_count": 150
        }
      ],
      "source": [
        "y_val_pred"
      ]
    },
    {
      "cell_type": "code",
      "execution_count": 151,
      "id": "2a595d72",
      "metadata": {
        "execution": {
          "iopub.execute_input": "2024-07-04T20:13:21.722791Z",
          "iopub.status.busy": "2024-07-04T20:13:21.721928Z",
          "iopub.status.idle": "2024-07-04T20:13:21.729680Z",
          "shell.execute_reply": "2024-07-04T20:13:21.728717Z"
        },
        "papermill": {
          "duration": 0.04457,
          "end_time": "2024-07-04T20:13:21.731729",
          "exception": false,
          "start_time": "2024-07-04T20:13:21.687159",
          "status": "completed"
        },
        "tags": [],
        "colab": {
          "base_uri": "https://localhost:8080/"
        },
        "id": "2a595d72",
        "outputId": "f3c3a7d0-90a6-4fb8-c6c7-d9455d521d4c"
      },
      "outputs": [
        {
          "output_type": "execute_result",
          "data": {
            "text/plain": [
              "1413    257000\n",
              "666     129000\n",
              "885     328900\n",
              "993     173900\n",
              "788     107900\n",
              "         ...  \n",
              "563     185000\n",
              "1071    154000\n",
              "260     176000\n",
              "263     130000\n",
              "772     107000\n",
              "Name: SalePrice, Length: 292, dtype: int64"
            ]
          },
          "metadata": {},
          "execution_count": 151
        }
      ],
      "source": [
        "y_val"
      ]
    },
    {
      "cell_type": "code",
      "execution_count": 152,
      "id": "f20f115d",
      "metadata": {
        "execution": {
          "iopub.execute_input": "2024-07-04T20:13:21.800481Z",
          "iopub.status.busy": "2024-07-04T20:13:21.800054Z",
          "iopub.status.idle": "2024-07-04T20:13:21.807725Z",
          "shell.execute_reply": "2024-07-04T20:13:21.806708Z"
        },
        "papermill": {
          "duration": 0.044814,
          "end_time": "2024-07-04T20:13:21.810088",
          "exception": false,
          "start_time": "2024-07-04T20:13:21.765274",
          "status": "completed"
        },
        "tags": [],
        "colab": {
          "base_uri": "https://localhost:8080/"
        },
        "id": "f20f115d",
        "outputId": "b6ea6e01-b48d-442e-f963-9c887a036256"
      },
      "outputs": [
        {
          "output_type": "execute_result",
          "data": {
            "text/plain": [
              "array([ 1.51495716e+04,  1.11948061e+01,  1.30063765e+04, -1.42333092e+03,\n",
              "        1.33596396e+03, -8.68866391e+02,  8.32383076e+03,  6.76526856e+01,\n",
              "       -2.60695012e+03, -4.17453458e+03, -1.50387440e+03, -7.63492333e+02,\n",
              "       -1.83184832e+03, -4.13525757e+01, -5.19944016e+02,  3.43794338e+03,\n",
              "       -2.06505665e+02, -5.18863455e+02, -1.70874646e+03,  2.50496224e+03,\n",
              "       -2.95203626e+02,  1.13530912e+03, -3.68100080e+03,  3.23086016e+01,\n",
              "        5.20141126e+03, -5.73136723e+03, -2.79807745e+03,  1.83858861e+03,\n",
              "        8.83100426e+02, -3.80943133e+01,  5.73174827e+02, -4.87718088e+03,\n",
              "       -2.17047260e+03, -1.55738782e+02,  1.06686226e+03,  2.44884298e+03,\n",
              "       -2.21492296e+02, -9.51247939e+02, -2.43637358e+03, -2.28859381e+03,\n",
              "       -1.00640615e+03, -3.34551362e+03, -1.55802475e+03, -2.11518250e+03,\n",
              "        8.31706902e+02, -2.07003567e+03, -5.94075789e+02,  8.25706957e+02,\n",
              "       -1.72374555e+03, -2.13786220e+03,  1.64326220e+02,  8.69905665e+02,\n",
              "        1.55366749e+02,  6.69346455e+02, -2.85903785e+03, -2.45107643e+02,\n",
              "        3.08709719e+01, -2.05888781e+03,  4.55674439e+02, -7.57946952e+02,\n",
              "       -8.24215598e+02,  5.04093037e+03, -3.64599802e+03, -7.78234586e+02,\n",
              "        1.47291256e+03,  1.58632090e+03,  1.04663783e+03,  2.91558644e+03,\n",
              "       -1.83614161e+03,  1.19657372e+02,  7.04574999e+02, -5.37764452e+02,\n",
              "        1.09186260e+03, -3.89497422e+02,  3.99572797e+02, -1.82273421e+02,\n",
              "       -8.33901009e+02, -1.56485459e+03, -1.46510776e+03,  2.03052720e+02,\n",
              "        1.38541672e+03,  6.87156198e+02,  3.73775905e+02, -3.55079713e+03,\n",
              "       -2.39482042e+03,  4.17347641e+02, -1.19577302e+03, -2.44033847e+03,\n",
              "        1.40406182e+03, -1.74496740e+03,  5.78290400e+02,  2.91288640e+03,\n",
              "        2.42407179e+03,  8.73055687e+02, -2.06672469e+02, -4.64404275e+03,\n",
              "        2.56657277e+03,  1.84425217e+03, -8.20282318e+02, -2.29120341e+03,\n",
              "        3.28117709e+03,  8.52954917e+02, -9.68656791e+02,  3.16932165e+02,\n",
              "       -3.74877657e+02, -1.88840735e+03,  4.63469526e+02, -4.86914524e+03,\n",
              "       -9.72050300e+02,  4.44501241e+02,  5.28622162e+03,  1.40852118e+03,\n",
              "        3.04266462e+03, -1.29782892e+03,  3.87105928e+02, -1.01060898e+03,\n",
              "        1.38492594e+02,  1.10580549e+02, -2.87991118e+03,  5.99162816e+02,\n",
              "        2.04918310e+03,  3.40973916e+03,  3.91102841e+03,  1.14061596e+03,\n",
              "       -6.47072751e+02])"
            ]
          },
          "metadata": {},
          "execution_count": 152
        }
      ],
      "source": [
        "lasso.coef_"
      ]
    },
    {
      "cell_type": "code",
      "execution_count": 153,
      "id": "d402a722",
      "metadata": {
        "execution": {
          "iopub.execute_input": "2024-07-04T20:13:21.878326Z",
          "iopub.status.busy": "2024-07-04T20:13:21.877947Z",
          "iopub.status.idle": "2024-07-04T20:13:21.884143Z",
          "shell.execute_reply": "2024-07-04T20:13:21.883165Z"
        },
        "papermill": {
          "duration": 0.042693,
          "end_time": "2024-07-04T20:13:21.886268",
          "exception": false,
          "start_time": "2024-07-04T20:13:21.843575",
          "status": "completed"
        },
        "tags": [],
        "colab": {
          "base_uri": "https://localhost:8080/"
        },
        "id": "d402a722",
        "outputId": "d1185184-7944-4644-8d83-3242051188b5"
      },
      "outputs": [
        {
          "output_type": "execute_result",
          "data": {
            "text/plain": [
              "180808.12835210527"
            ]
          },
          "metadata": {},
          "execution_count": 153
        }
      ],
      "source": [
        "lasso.intercept_"
      ]
    },
    {
      "cell_type": "markdown",
      "id": "ac24ae5f",
      "metadata": {
        "papermill": {
          "duration": 0.033159,
          "end_time": "2024-07-04T20:13:21.952876",
          "exception": false,
          "start_time": "2024-07-04T20:13:21.919717",
          "status": "completed"
        },
        "tags": [],
        "id": "ac24ae5f"
      },
      "source": [
        "# Evaluating Lasso Regression"
      ]
    },
    {
      "cell_type": "markdown",
      "id": "f35b1c01",
      "metadata": {
        "papermill": {
          "duration": 0.033377,
          "end_time": "2024-07-04T20:13:22.020375",
          "exception": false,
          "start_time": "2024-07-04T20:13:21.986998",
          "status": "completed"
        },
        "tags": [],
        "id": "f35b1c01"
      },
      "source": [
        "R2 score is the proportion of the variance in the dependent variable (target) is explained by the independent variables (features).\n",
        "Very high R2 score may indicates the good fit and it may also cause overfitting.\n",
        "\n",
        "The adjusted R2 metric addresses a key limitation of the regular R2 metric, which is its tendency to increase with the addition of more predictors (independent variables), regardless of their actual contribution to explaining the variance in the dependent variable."
      ]
    },
    {
      "cell_type": "code",
      "execution_count": 154,
      "id": "e5e32f22",
      "metadata": {
        "execution": {
          "iopub.execute_input": "2024-07-04T20:13:22.088816Z",
          "iopub.status.busy": "2024-07-04T20:13:22.088440Z",
          "iopub.status.idle": "2024-07-04T20:13:22.093920Z",
          "shell.execute_reply": "2024-07-04T20:13:22.092417Z"
        },
        "papermill": {
          "duration": 0.042923,
          "end_time": "2024-07-04T20:13:22.096597",
          "exception": false,
          "start_time": "2024-07-04T20:13:22.053674",
          "status": "completed"
        },
        "tags": [],
        "id": "e5e32f22"
      },
      "outputs": [],
      "source": [
        "from sklearn.metrics import mean_squared_error, r2_score, mean_absolute_error"
      ]
    },
    {
      "cell_type": "code",
      "execution_count": 155,
      "id": "c4ed070a",
      "metadata": {
        "execution": {
          "iopub.execute_input": "2024-07-04T20:13:22.167170Z",
          "iopub.status.busy": "2024-07-04T20:13:22.166780Z",
          "iopub.status.idle": "2024-07-04T20:13:22.174877Z",
          "shell.execute_reply": "2024-07-04T20:13:22.173939Z"
        },
        "papermill": {
          "duration": 0.045949,
          "end_time": "2024-07-04T20:13:22.177052",
          "exception": false,
          "start_time": "2024-07-04T20:13:22.131103",
          "status": "completed"
        },
        "tags": [],
        "colab": {
          "base_uri": "https://localhost:8080/"
        },
        "id": "c4ed070a",
        "outputId": "9dffa2b8-a889-460a-d813-f99195df1d73"
      },
      "outputs": [
        {
          "output_type": "execute_result",
          "data": {
            "text/plain": [
              "0.7639255106719862"
            ]
          },
          "metadata": {},
          "execution_count": 155
        }
      ],
      "source": [
        "#Evaluating the Lasso Regression through  MSE and Adjusted R2 score\n",
        "r2 = r2_score(y_val, y_val_pred)\n",
        "n = len(y_val)\n",
        "k = X_val.shape[1]\n",
        "adjusted_r2 = 1 - (1 - r2) * (n - 1) / (n - k - 1)\n",
        "adjusted_r2"
      ]
    },
    {
      "cell_type": "code",
      "execution_count": 156,
      "id": "4b3685f3",
      "metadata": {
        "execution": {
          "iopub.execute_input": "2024-07-04T20:13:22.246619Z",
          "iopub.status.busy": "2024-07-04T20:13:22.246192Z",
          "iopub.status.idle": "2024-07-04T20:13:22.253944Z",
          "shell.execute_reply": "2024-07-04T20:13:22.252727Z"
        },
        "papermill": {
          "duration": 0.045245,
          "end_time": "2024-07-04T20:13:22.255980",
          "exception": false,
          "start_time": "2024-07-04T20:13:22.210735",
          "status": "completed"
        },
        "tags": [],
        "colab": {
          "base_uri": "https://localhost:8080/"
        },
        "id": "4b3685f3",
        "outputId": "275227db-7ce8-457c-e32d-5fe09977c757"
      },
      "outputs": [
        {
          "output_type": "execute_result",
          "data": {
            "text/plain": [
              "875280901.5402025"
            ]
          },
          "metadata": {},
          "execution_count": 156
        }
      ],
      "source": [
        "mse = mean_squared_error(y_val, y_val_pred)\n",
        "mse"
      ]
    },
    {
      "cell_type": "code",
      "execution_count": 157,
      "id": "58c8f5a4",
      "metadata": {
        "execution": {
          "iopub.execute_input": "2024-07-04T20:13:22.325106Z",
          "iopub.status.busy": "2024-07-04T20:13:22.324705Z",
          "iopub.status.idle": "2024-07-04T20:13:22.332716Z",
          "shell.execute_reply": "2024-07-04T20:13:22.331760Z"
        },
        "papermill": {
          "duration": 0.04497,
          "end_time": "2024-07-04T20:13:22.334788",
          "exception": false,
          "start_time": "2024-07-04T20:13:22.289818",
          "status": "completed"
        },
        "tags": [],
        "colab": {
          "base_uri": "https://localhost:8080/"
        },
        "id": "58c8f5a4",
        "outputId": "8f033617-717f-4b2e-d27c-4f35e7fb3959"
      },
      "outputs": [
        {
          "output_type": "execute_result",
          "data": {
            "text/plain": [
              "20239.865471995778"
            ]
          },
          "metadata": {},
          "execution_count": 157
        }
      ],
      "source": [
        "mae=mean_absolute_error(y_val, y_val_pred)\n",
        "mae"
      ]
    },
    {
      "cell_type": "markdown",
      "id": "edc8fa31",
      "metadata": {
        "papermill": {
          "duration": 0.033878,
          "end_time": "2024-07-04T20:13:22.402538",
          "exception": false,
          "start_time": "2024-07-04T20:13:22.368660",
          "status": "completed"
        },
        "tags": [],
        "id": "edc8fa31"
      },
      "source": [
        "# Support Vector Regression"
      ]
    },
    {
      "cell_type": "code",
      "execution_count": 158,
      "id": "dfe88712",
      "metadata": {
        "execution": {
          "iopub.execute_input": "2024-07-04T20:13:22.471955Z",
          "iopub.status.busy": "2024-07-04T20:13:22.471254Z",
          "iopub.status.idle": "2024-07-04T20:13:22.854936Z",
          "shell.execute_reply": "2024-07-04T20:13:22.853885Z"
        },
        "papermill": {
          "duration": 0.420785,
          "end_time": "2024-07-04T20:13:22.857325",
          "exception": false,
          "start_time": "2024-07-04T20:13:22.436540",
          "status": "completed"
        },
        "tags": [],
        "id": "dfe88712"
      },
      "outputs": [],
      "source": [
        "from sklearn.svm import SVR\n",
        "\n",
        "C_values = [0.1, 1, 10]\n",
        "MSE=[]\n",
        "MAE=[]\n",
        "Adjusted_R2=[]\n",
        "\n",
        "for c in C_values:\n",
        "    svr=SVR(C=c, epsilon=1,kernel='linear')\n",
        "    svr.fit(X_train,y_train)\n",
        "    y_val_pred = svr.predict(X_val)\n",
        "    mse = mean_squared_error(y_val, y_val_pred)\n",
        "    MSE.append(mse)\n",
        "    mae= mean_absolute_error(y_val, y_val_pred)\n",
        "    MAE.append(mae)\n",
        "    r2 = r2_score(y_val, y_val_pred)\n",
        "    n = len(y_val)\n",
        "    k = X_val.shape[1]\n",
        "    adjusted_r2 = 1 - (1 - r2) * (n - 1) / (n - k - 1)\n",
        "    Adjusted_R2.append(adjusted_r2)"
      ]
    },
    {
      "cell_type": "code",
      "execution_count": 159,
      "id": "4209c81f",
      "metadata": {
        "execution": {
          "iopub.execute_input": "2024-07-04T20:13:22.926234Z",
          "iopub.status.busy": "2024-07-04T20:13:22.925861Z",
          "iopub.status.idle": "2024-07-04T20:13:22.931199Z",
          "shell.execute_reply": "2024-07-04T20:13:22.930212Z"
        },
        "papermill": {
          "duration": 0.042441,
          "end_time": "2024-07-04T20:13:22.933548",
          "exception": false,
          "start_time": "2024-07-04T20:13:22.891107",
          "status": "completed"
        },
        "tags": [],
        "colab": {
          "base_uri": "https://localhost:8080/"
        },
        "id": "4209c81f",
        "outputId": "0863507a-65f4-4ffc-8278-a91b706f17aa"
      },
      "outputs": [
        {
          "output_type": "stream",
          "name": "stdout",
          "text": [
            "MSE : [6804369085.477421, 5459484768.058382, 2011051424.611214]\n",
            "MAE : [55147.249700433546, 47112.292856856046, 24763.37652531119]\n",
            "Adjusted_R2 : [-0.8352256449635622, -0.47249308918487176, 0.4575936282374592]\n"
          ]
        }
      ],
      "source": [
        "print(f\"MSE : {MSE}\\nMAE : {MAE}\\nAdjusted_R2 : {Adjusted_R2}\")"
      ]
    },
    {
      "cell_type": "markdown",
      "id": "b9e8df65",
      "metadata": {
        "papermill": {
          "duration": 0.03359,
          "end_time": "2024-07-04T20:13:23.000942",
          "exception": false,
          "start_time": "2024-07-04T20:13:22.967352",
          "status": "completed"
        },
        "tags": [],
        "id": "b9e8df65"
      },
      "source": [
        "# K-Nearest Neighbours"
      ]
    },
    {
      "cell_type": "code",
      "execution_count": 160,
      "id": "8a1b138f",
      "metadata": {
        "execution": {
          "iopub.execute_input": "2024-07-04T20:13:23.070838Z",
          "iopub.status.busy": "2024-07-04T20:13:23.069916Z",
          "iopub.status.idle": "2024-07-04T20:13:23.201672Z",
          "shell.execute_reply": "2024-07-04T20:13:23.200767Z"
        },
        "papermill": {
          "duration": 0.169347,
          "end_time": "2024-07-04T20:13:23.204051",
          "exception": false,
          "start_time": "2024-07-04T20:13:23.034704",
          "status": "completed"
        },
        "tags": [],
        "id": "8a1b138f"
      },
      "outputs": [],
      "source": [
        "from sklearn.neighbors import KNeighborsRegressor\n",
        "\n",
        "MSE_K=[]\n",
        "MAE_K=[]\n",
        "Adjusted_R2_K=[]\n",
        "\n",
        "for k in range(1, 11):\n",
        "    knn = KNeighborsRegressor(n_neighbors=k)\n",
        "    knn.fit(X_train, y_train)\n",
        "    y_val_pred = knn.predict(X_val)\n",
        "    mse = mean_squared_error(y_val, y_val_pred)\n",
        "    MSE_K.append(mse)\n",
        "    mae= mean_absolute_error(y_val, y_val_pred)\n",
        "    MAE_K.append(mae)\n",
        "    r2 = r2_score(y_val, y_val_pred)\n",
        "    n = len(y_val)\n",
        "    k = X_val.shape[1]\n",
        "    adjusted_r2 = 1 - (1 - r2) * (n - 1) / (n - k - 1)\n",
        "    Adjusted_R2_K.append(adjusted_r2)"
      ]
    },
    {
      "cell_type": "code",
      "execution_count": 161,
      "id": "c9b389b4",
      "metadata": {
        "execution": {
          "iopub.execute_input": "2024-07-04T20:13:23.274117Z",
          "iopub.status.busy": "2024-07-04T20:13:23.273710Z",
          "iopub.status.idle": "2024-07-04T20:13:23.279181Z",
          "shell.execute_reply": "2024-07-04T20:13:23.278222Z"
        },
        "papermill": {
          "duration": 0.043305,
          "end_time": "2024-07-04T20:13:23.281153",
          "exception": false,
          "start_time": "2024-07-04T20:13:23.237848",
          "status": "completed"
        },
        "tags": [],
        "colab": {
          "base_uri": "https://localhost:8080/"
        },
        "id": "c9b389b4",
        "outputId": "4852178d-698e-4239-bfcf-0389fc387ae5"
      },
      "outputs": [
        {
          "output_type": "stream",
          "name": "stdout",
          "text": [
            "MSE : [1656345056.9520547, 1800586322.2046232, 1719190720.481735, 1681745321.3737156, 1632223813.520959, 1639287275.4799278, 1546945247.460232, 1562949585.6378424, 1582294435.5117116, 1632582870.6231163]\n",
            "MAE : [28949.102739726026, 27633.23116438356, 26547.310502283104, 25576.99315068493, 25371.933561643833, 25046.128424657534, 24407.683463796475, 24642.36301369863, 24785.91514459665, 25018.779794520546]\n",
            "Adjusted_R2 : [0.5532624866110183, 0.514358766702807, 0.536312204823603, 0.5464117094015664, 0.5597682954489951, 0.5578631891317922, 0.5827690188715966, 0.5784524435234268, 0.5732348893107567, 0.5596714531417061]\n"
          ]
        }
      ],
      "source": [
        "print(f\"MSE : {MSE_K}\\nMAE : {MAE_K}\\nAdjusted_R2 : {Adjusted_R2_K}\")"
      ]
    },
    {
      "cell_type": "code",
      "execution_count": 162,
      "id": "d2f549eb",
      "metadata": {
        "execution": {
          "iopub.execute_input": "2024-07-04T20:13:23.350810Z",
          "iopub.status.busy": "2024-07-04T20:13:23.350424Z",
          "iopub.status.idle": "2024-07-04T20:13:24.026627Z",
          "shell.execute_reply": "2024-07-04T20:13:24.025597Z"
        },
        "papermill": {
          "duration": 0.714161,
          "end_time": "2024-07-04T20:13:24.029196",
          "exception": false,
          "start_time": "2024-07-04T20:13:23.315035",
          "status": "completed"
        },
        "tags": [],
        "colab": {
          "base_uri": "https://localhost:8080/",
          "height": 1000
        },
        "id": "d2f549eb",
        "outputId": "133465d7-365a-4ab1-99f2-cd5c434225f8"
      },
      "outputs": [
        {
          "output_type": "display_data",
          "data": {
            "text/plain": [
              "<Figure size 1000x1800 with 3 Axes>"
            ],
            "image/png": "[encoded data removed]"
          },
          "metadata": {}
        }
      ],
      "source": [
        "fig, axs = plt.subplots(3, 1, figsize=(10, 18)) #axs represents subplot and fig represents entire figure or window\n",
        "\n",
        "# Plotting MSE vs K Value\n",
        "axs[0].plot(np.arange(1,11,1), MSE_K, marker='o', linestyle='-', color='b')\n",
        "axs[0].set_xlabel('K Value')\n",
        "axs[0].set_ylabel('MSE')\n",
        "axs[0].set_title('K Value vs MSE')\n",
        "\n",
        "# Plotting MAE vs K Value\n",
        "axs[1].plot(np.arange(1,11,1), MAE_K, marker='s', linestyle='-', color='g')\n",
        "axs[1].set_xlabel('K Value')\n",
        "axs[1].set_ylabel('MAE')\n",
        "axs[1].set_title('K Value vs MAE')\n",
        "\n",
        "# Plotting Adjusted R2 vs K Value\n",
        "axs[2].plot(np.arange(1,11,1), Adjusted_R2_K, marker='d', linestyle='-', color='r')\n",
        "axs[2].set_xlabel('K Value')\n",
        "axs[2].set_ylabel('Adjusted R2')\n",
        "axs[2].set_title('K Value vs Adjusted R2')\n",
        "\n",
        "plt.show()"
      ]
    },
    {
      "cell_type": "markdown",
      "id": "672032cf",
      "metadata": {
        "papermill": {
          "duration": 0.035811,
          "end_time": "2024-07-04T20:13:24.100277",
          "exception": false,
          "start_time": "2024-07-04T20:13:24.064466",
          "status": "completed"
        },
        "tags": [],
        "id": "672032cf"
      },
      "source": [
        "So K = 7 we are getting the best results"
      ]
    },
    {
      "cell_type": "code",
      "execution_count": 163,
      "id": "9759638b",
      "metadata": {
        "execution": {
          "iopub.execute_input": "2024-07-04T20:13:24.173361Z",
          "iopub.status.busy": "2024-07-04T20:13:24.172968Z",
          "iopub.status.idle": "2024-07-04T20:13:24.178267Z",
          "shell.execute_reply": "2024-07-04T20:13:24.177270Z"
        },
        "papermill": {
          "duration": 0.043942,
          "end_time": "2024-07-04T20:13:24.180580",
          "exception": false,
          "start_time": "2024-07-04T20:13:24.136638",
          "status": "completed"
        },
        "tags": [],
        "colab": {
          "base_uri": "https://localhost:8080/"
        },
        "id": "9759638b",
        "outputId": "3d78e2b4-4b47-46c5-a0e0-8a55bdd8c89d"
      },
      "outputs": [
        {
          "output_type": "stream",
          "name": "stdout",
          "text": [
            "MSE : 1546945247.460232\n",
            "MAE : 24407.683463796475\n",
            "Adjusted_R2 : 0.5827690188715966\n"
          ]
        }
      ],
      "source": [
        "#Results for K=7\n",
        "print(f\"MSE : {MSE_K[6]}\\nMAE : {MAE_K[6]}\\nAdjusted_R2 : {Adjusted_R2_K[6]}\")"
      ]
    },
    {
      "cell_type": "markdown",
      "id": "6019b507",
      "metadata": {
        "papermill": {
          "duration": 0.035194,
          "end_time": "2024-07-04T20:13:24.251505",
          "exception": false,
          "start_time": "2024-07-04T20:13:24.216311",
          "status": "completed"
        },
        "tags": [],
        "id": "6019b507"
      },
      "source": [
        "# Decision Tree Regression"
      ]
    },
    {
      "cell_type": "code",
      "execution_count": 164,
      "id": "05f996a6",
      "metadata": {
        "execution": {
          "iopub.execute_input": "2024-07-04T20:13:24.324207Z",
          "iopub.status.busy": "2024-07-04T20:13:24.323312Z",
          "iopub.status.idle": "2024-07-04T20:13:24.493067Z",
          "shell.execute_reply": "2024-07-04T20:13:24.492002Z"
        },
        "papermill": {
          "duration": 0.208956,
          "end_time": "2024-07-04T20:13:24.495571",
          "exception": false,
          "start_time": "2024-07-04T20:13:24.286615",
          "status": "completed"
        },
        "tags": [],
        "id": "05f996a6"
      },
      "outputs": [],
      "source": [
        "from sklearn.tree import DecisionTreeRegressor\n",
        "dt_regr = DecisionTreeRegressor(random_state=18)\n",
        "dt_regr.fit(X_train, y_train)\n",
        "y_pred_dt = dt_regr.predict(X_val)"
      ]
    },
    {
      "cell_type": "code",
      "execution_count": 165,
      "id": "45ad2e9f",
      "metadata": {
        "execution": {
          "iopub.execute_input": "2024-07-04T20:13:24.571442Z",
          "iopub.status.busy": "2024-07-04T20:13:24.570760Z",
          "iopub.status.idle": "2024-07-04T20:13:24.577888Z",
          "shell.execute_reply": "2024-07-04T20:13:24.576769Z"
        },
        "papermill": {
          "duration": 0.048125,
          "end_time": "2024-07-04T20:13:24.580013",
          "exception": false,
          "start_time": "2024-07-04T20:13:24.531888",
          "status": "completed"
        },
        "tags": [],
        "colab": {
          "base_uri": "https://localhost:8080/"
        },
        "id": "45ad2e9f",
        "outputId": "774f00f6-1867-4ed7-aa78-6a5e2cad698a"
      },
      "outputs": [
        {
          "output_type": "execute_result",
          "data": {
            "text/plain": [
              "1598962613.5171232"
            ]
          },
          "metadata": {},
          "execution_count": 165
        }
      ],
      "source": [
        "mean_squared_error(y_val, y_pred_dt)"
      ]
    },
    {
      "cell_type": "code",
      "execution_count": 166,
      "id": "c0d0b6fe",
      "metadata": {
        "execution": {
          "iopub.execute_input": "2024-07-04T20:13:24.652967Z",
          "iopub.status.busy": "2024-07-04T20:13:24.652131Z",
          "iopub.status.idle": "2024-07-04T20:13:24.659264Z",
          "shell.execute_reply": "2024-07-04T20:13:24.658269Z"
        },
        "papermill": {
          "duration": 0.04628,
          "end_time": "2024-07-04T20:13:24.661698",
          "exception": false,
          "start_time": "2024-07-04T20:13:24.615418",
          "status": "completed"
        },
        "tags": [],
        "colab": {
          "base_uri": "https://localhost:8080/"
        },
        "id": "c0d0b6fe",
        "outputId": "8fbb2f03-63c7-4bf4-8b4b-248d3f047e19"
      },
      "outputs": [
        {
          "output_type": "execute_result",
          "data": {
            "text/plain": [
              "27713.20890410959"
            ]
          },
          "metadata": {},
          "execution_count": 166
        }
      ],
      "source": [
        "mean_absolute_error(y_val, y_pred_dt)"
      ]
    },
    {
      "cell_type": "code",
      "execution_count": 167,
      "id": "f9e00608",
      "metadata": {
        "execution": {
          "iopub.execute_input": "2024-07-04T20:13:24.735254Z",
          "iopub.status.busy": "2024-07-04T20:13:24.734308Z",
          "iopub.status.idle": "2024-07-04T20:13:24.739864Z",
          "shell.execute_reply": "2024-07-04T20:13:24.738849Z"
        },
        "papermill": {
          "duration": 0.044398,
          "end_time": "2024-07-04T20:13:24.742227",
          "exception": false,
          "start_time": "2024-07-04T20:13:24.697829",
          "status": "completed"
        },
        "tags": [],
        "colab": {
          "base_uri": "https://localhost:8080/"
        },
        "id": "f9e00608",
        "outputId": "49bf2f7e-b02a-4041-8cf2-c0d7aa2a9ca4"
      },
      "outputs": [
        {
          "output_type": "stream",
          "name": "stdout",
          "text": [
            "21\n"
          ]
        }
      ],
      "source": [
        "print(dt_regr.get_depth())"
      ]
    },
    {
      "cell_type": "markdown",
      "id": "c71df4e5",
      "metadata": {
        "papermill": {
          "duration": 0.035247,
          "end_time": "2024-07-04T20:13:24.812862",
          "exception": false,
          "start_time": "2024-07-04T20:13:24.777615",
          "status": "completed"
        },
        "tags": [],
        "id": "c71df4e5"
      },
      "source": [
        "# Random Forest Regression"
      ]
    },
    {
      "cell_type": "code",
      "execution_count": 168,
      "id": "ae60483f",
      "metadata": {
        "execution": {
          "iopub.execute_input": "2024-07-04T20:13:24.885473Z",
          "iopub.status.busy": "2024-07-04T20:13:24.884518Z",
          "iopub.status.idle": "2024-07-04T20:13:33.857375Z",
          "shell.execute_reply": "2024-07-04T20:13:33.856421Z"
        },
        "papermill": {
          "duration": 9.011782,
          "end_time": "2024-07-04T20:13:33.859883",
          "exception": false,
          "start_time": "2024-07-04T20:13:24.848101",
          "status": "completed"
        },
        "tags": [],
        "id": "ae60483f"
      },
      "outputs": [],
      "source": [
        "from sklearn.ensemble import RandomForestRegressor\n",
        "rf_regressor = RandomForestRegressor(n_estimators=100, random_state=42)\n",
        "rf_regressor.fit(X_train, y_train)\n",
        "y_val_pred_rf = rf_regressor.predict(X_val)"
      ]
    },
    {
      "cell_type": "code",
      "execution_count": 169,
      "id": "8426abf9",
      "metadata": {
        "execution": {
          "iopub.execute_input": "2024-07-04T20:13:33.932800Z",
          "iopub.status.busy": "2024-07-04T20:13:33.932437Z",
          "iopub.status.idle": "2024-07-04T20:13:33.939525Z",
          "shell.execute_reply": "2024-07-04T20:13:33.938520Z"
        },
        "papermill": {
          "duration": 0.045946,
          "end_time": "2024-07-04T20:13:33.941537",
          "exception": false,
          "start_time": "2024-07-04T20:13:33.895591",
          "status": "completed"
        },
        "tags": [],
        "colab": {
          "base_uri": "https://localhost:8080/"
        },
        "id": "8426abf9",
        "outputId": "c0e04958-a297-4b02-b009-74e434f21873"
      },
      "outputs": [
        {
          "output_type": "execute_result",
          "data": {
            "text/plain": [
              "1598962613.5171232"
            ]
          },
          "metadata": {},
          "execution_count": 169
        }
      ],
      "source": [
        "mean_squared_error(y_val, y_pred_dt)"
      ]
    },
    {
      "cell_type": "code",
      "execution_count": 170,
      "id": "a94c8056",
      "metadata": {
        "execution": {
          "iopub.execute_input": "2024-07-04T20:13:34.015255Z",
          "iopub.status.busy": "2024-07-04T20:13:34.014863Z",
          "iopub.status.idle": "2024-07-04T20:13:34.021951Z",
          "shell.execute_reply": "2024-07-04T20:13:34.021029Z"
        },
        "papermill": {
          "duration": 0.046344,
          "end_time": "2024-07-04T20:13:34.024054",
          "exception": false,
          "start_time": "2024-07-04T20:13:33.977710",
          "status": "completed"
        },
        "tags": [],
        "colab": {
          "base_uri": "https://localhost:8080/"
        },
        "id": "a94c8056",
        "outputId": "723841f1-d040-4a24-84f3-ec6b7a4f2687"
      },
      "outputs": [
        {
          "output_type": "execute_result",
          "data": {
            "text/plain": [
              "27713.20890410959"
            ]
          },
          "metadata": {},
          "execution_count": 170
        }
      ],
      "source": [
        "mean_absolute_error(y_val, y_pred_dt)"
      ]
    },
    {
      "cell_type": "code",
      "execution_count": 171,
      "id": "58c3fb33",
      "metadata": {
        "execution": {
          "iopub.execute_input": "2024-07-04T20:13:34.097758Z",
          "iopub.status.busy": "2024-07-04T20:13:34.097335Z",
          "iopub.status.idle": "2024-07-04T20:13:34.105746Z",
          "shell.execute_reply": "2024-07-04T20:13:34.104694Z"
        },
        "papermill": {
          "duration": 0.048121,
          "end_time": "2024-07-04T20:13:34.107885",
          "exception": false,
          "start_time": "2024-07-04T20:13:34.059764",
          "status": "completed"
        },
        "tags": [],
        "colab": {
          "base_uri": "https://localhost:8080/"
        },
        "id": "58c3fb33",
        "outputId": "06478347-6a6e-4e77-f283-f17f2fe2ea19"
      },
      "outputs": [
        {
          "output_type": "execute_result",
          "data": {
            "text/plain": [
              "0.7859553281674756"
            ]
          },
          "metadata": {},
          "execution_count": 171
        }
      ],
      "source": [
        "r2_rf = r2_score(y_val, y_val_pred_rf)\n",
        "n = len(y_val)\n",
        "k = X_val.shape[1]\n",
        "adjusted_r2_rf = 1 - (1 - r2_rf) * (n - 1) / (n - k - 1)\n",
        "adjusted_r2_rf"
      ]
    }
  ],
  "metadata": {
    "kaggle": {
      "accelerator": "none",
      "dataSources": [
        {
          "databundleVersionId": 868283,
          "sourceId": 5407,
          "sourceType": "competition"
        }
      ],
      "dockerImageVersionId": 30732,
      "isGpuEnabled": false,
      "isInternetEnabled": true,
      "language": "python",
      "sourceType": "notebook"
    },
    "kernelspec": {
      "display_name": "Python 3",
      "language": "python",
      "name": "python3"
    },
    "language_info": {
      "codemirror_mode": {
        "name": "ipython",
        "version": 3
      },
      "file_extension": ".py",
      "mimetype": "text/x-python",
      "name": "python",
      "nbconvert_exporter": "python",
      "pygments_lexer": "ipython3",
      "version": "3.10.13"
    },
    "papermill": {
      "default_parameters": {},
      "duration": 41.051747,
      "end_time": "2024-07-04T20:13:47.513370",
      "environment_variables": {},
      "exception": null,
      "input_path": "__notebook__.ipynb",
      "output_path": "__notebook__.ipynb",
      "parameters": {},
      "start_time": "2024-07-04T20:13:06.461623",
      "version": "2.5.0"
    },
    "colab": {
      "provenance": []
    }
  },
  "nbformat": 4,
  "nbformat_minor": 5
}