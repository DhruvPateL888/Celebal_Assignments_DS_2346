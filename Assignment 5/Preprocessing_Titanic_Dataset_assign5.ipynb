import pandas as pd
import numpy as np


df = pd.read_csv('train.csv')
df.info()

#Dropping unwanted columns

cols = ['Name', 'Ticket', 'Cabin']
df = df.drop(cols, axis=1)

df.info()

#droppping rows with missing values
df.shape()

df = df.dropna()

dp.info()

#Taking care of the missing values 
df['Age'] = df['Age'].interpolate()

df.info()

#converting Dataframe to the numpy
X = df.values
y = df['Survived'].values

X = np.delete(X, 1, axis=1)

#Making it ready for using the machine learning algorithms on it

from sklearn.model_selection import train_test_split
X_train, X_test, y_train, y_test = train_test_split(X, y, test_size=0.3, random_state=0)

#now the dataset is preprocessed and is ready to be using in any of the machine learning algorithms

